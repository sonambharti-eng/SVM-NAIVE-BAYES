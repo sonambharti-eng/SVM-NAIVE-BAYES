{
  "nbformat": 4,
  "nbformat_minor": 0,
  "metadata": {
    "colab": {
      "provenance": []
    },
    "kernelspec": {
      "name": "python3",
      "display_name": "Python 3"
    },
    "language_info": {
      "name": "python"
    }
  },
  "cells": [
    {
      "cell_type": "markdown",
      "source": [
        "#Theoretical Questions<"
      ],
      "metadata": {
        "id": "dmn8f2kLO1oF"
      }
    },
    {
      "cell_type": "markdown",
      "source": [
        "###QUES.1  What is a Support Vector Machine (SVM)?"
      ],
      "metadata": {
        "id": "1ySKxvctPMKU"
      }
    },
    {
      "cell_type": "markdown",
      "source": [
        "###ANS.1 A Support Vector Machine (SVM) is a type of supervised machine learning algorithm primarily used for classification and sometimes for regression tasks. The main goal of SVM is to find the best boundary (or \"hyperplane\") that separates different classes in the feature space.\n",
        "\n",
        "### Here's how it works:\n",
        "\n",
        "1. **Finding the Hyperplane:**\n",
        "   - In a 2D space, this hyperplane is just a straight line, but in higher dimensions, it’s a flat plane or even a more complex structure.\n",
        "   - SVM tries to find the hyperplane that maximizes the margin between two classes. The margin is the distance between the closest data points (called **support vectors**) from each class to the hyperplane.\n",
        "\n",
        "2. **Support Vectors:**\n",
        "   - These are the data points that are closest to the hyperplane. They are the most important data points in defining the hyperplane, hence the name \"Support Vector\" machine.\n",
        "\n",
        "3. **Maximizing the Margin:**\n",
        "   - The goal is to find the hyperplane that maximizes the margin between the classes. A larger margin typically leads to better generalization and a lower chance of overfitting.\n",
        "\n",
        "4. **Kernel Trick (for non-linear separation):**\n",
        "   - When the data is not linearly separable (i.e., it can’t be separated by a straight line or hyperplane), SVM uses a mathematical technique called the **kernel trick**. It transforms the data into a higher-dimensional space where a hyperplane can be used to separate the classes.\n",
        "   - Popular kernel functions include the **linear kernel**, **polynomial kernel**, and **Radial Basis Function (RBF) kernel**.\n",
        "\n",
        "5. **Classification and Regression:**\n",
        "   - **Classification:** In classification problems, SVM assigns data points to categories based on which side of the hyperplane they fall on.\n",
        "   - **Regression (SVR - Support Vector Regression):** SVM can also be used for regression, where the goal is to predict continuous values instead of categories.\n",
        "\n",
        "### Key Strengths of SVM:\n",
        "- Works well for high-dimensional spaces (e.g., text classification).\n",
        "- Effective in cases where the number of dimensions exceeds the number of samples.\n",
        "- Robust to overfitting, especially in high-dimensional spaces.\n",
        "\n",
        "### Weaknesses:\n",
        "- Can be computationally expensive, especially with large datasets.\n",
        "- Choosing the right kernel and setting the proper parameters (like the regularization parameter **C** and kernel parameters) can be tricky.\n",
        "\n",
        "In summary, an SVM is a powerful tool for classification tasks, especially when the data is well-separated or can be made separable in a higher-dimensional space."
      ],
      "metadata": {
        "id": "aP5nv65JPVqy"
      }
    },
    {
      "cell_type": "markdown",
      "source": [
        "###QUES.2 What is the difference between Hard Margin and Soft Margin SVM?"
      ],
      "metadata": {
        "id": "V9--PAipPvac"
      }
    },
    {
      "cell_type": "markdown",
      "source": [
        "###ANS.2 The main difference between **Hard Margin** and **Soft Margin** SVM lies in how they handle **misclassifications** and **overlapping data**.\n",
        "\n",
        "### 1. **Hard Margin SVM**:\n",
        "   - **Strict Separation**: In a Hard Margin SVM, the algorithm assumes that the data is **perfectly separable**. This means that there is a clear and clean separation between the two classes with no overlap.\n",
        "   - **No Misclassifications Allowed**: There must be a hyperplane that separates all the data points of one class from those of the other class without any errors (i.e., no points are allowed to fall on the wrong side of the hyperplane).\n",
        "   - **Ideal for Linearly Separable Data**: Hard Margin SVM works well when the data is clean and linearly separable. However, it is **not robust** to noise or outliers in the data because any overlap or misclassified data would violate the assumption of perfect separation.\n",
        "   \n",
        "   **Disadvantages**:\n",
        "   - **Not robust to noise**: If there are outliers or some overlap between the classes, the model may fail to find an optimal hyperplane or generalize well.\n",
        "   - **Limited applicability**: It is only suitable for datasets where perfect separation is possible.\n",
        "\n",
        "### 2. **Soft Margin SVM**:\n",
        "   - **Flexible Separation**: Soft Margin SVM allows for some degree of misclassification. It introduces a **penalty** for misclassifications, but does not strictly prohibit them.\n",
        "   - **Slack Variables**: The algorithm introduces **slack variables (ξ)**, which measure how much each data point is allowed to deviate from the correct side of the hyperplane. These slack variables allow some points to be within the margin or on the wrong side of the hyperplane.\n",
        "   - **Trade-off between Margin and Misclassification**: The goal in Soft Margin SVM is to balance the size of the margin and the number of misclassifications by adjusting a parameter called **C**.\n",
        "     - **Large C**: Places more emphasis on minimizing misclassifications, leading to a smaller margin and less flexibility.\n",
        "     - **Small C**: Allows a larger margin and more misclassifications but potentially better generalization.\n",
        "   - **Robust to Noise and Overlapping Data**: Soft Margin SVM is **more robust** to noisy data, outliers, and cases where classes are not perfectly separable.\n",
        "\n",
        "   **Advantages**:\n",
        "   - **Handles non-separable data**: It is well-suited for real-world datasets where perfect separation is not possible.\n",
        "   - **More flexible**: The trade-off parameter (C) allows for fine-tuning of the model's performance based on the data and desired balance between margin width and misclassifications.\n",
        "\n",
        "### Summary of Differences:\n",
        "\n",
        "| **Aspect**              | **Hard Margin SVM**                              | **Soft Margin SVM**                                      |\n",
        "|-------------------------|--------------------------------------------------|----------------------------------------------------------|\n",
        "| **Data Separation**      | Assumes perfect separation (linearly separable) | Allows some misclassifications (non-linearly separable)   |\n",
        "| **Misclassifications**   | No misclassifications allowed                    | Allows misclassifications with a penalty                 |\n",
        "| **Use Case**             | Ideal for perfectly separable data               | Suitable for noisy, overlapping, or non-separable data    |\n",
        "| **Robustness to Noise**  | Not robust to outliers or noise                  | Robust to noise and outliers                             |\n",
        "| **Flexibility**          | Less flexible (strict constraints)               | More flexible (can balance margin and misclassifications) |\n",
        "| **Parameter Control**    | No parameter for flexibility                     | The regularization parameter **C** controls the trade-off |\n",
        "\n",
        "In most real-world scenarios, **Soft Margin SVM** is preferred because it offers flexibility to handle noisy or non-separable data, making it more versatile than **Hard Margin SVM**, which is restrictive and limited to ideal, noise-free datasets."
      ],
      "metadata": {
        "id": "CvBI2d3JQW3X"
      }
    },
    {
      "cell_type": "markdown",
      "source": [
        "###QUES.3 What is the mathematical intuition behind SVM?"
      ],
      "metadata": {
        "id": "CA1AbL2sQqSD"
      }
    },
    {
      "cell_type": "markdown",
      "source": [
        "###ANS.3 The mathematical intuition behind Support Vector Machine (SVM) lies in finding the optimal hyperplane that separates two classes of data points with the largest possible margin. Here’s a breakdown of the key mathematical concepts involved:\n",
        "\n",
        "### 1. **The Hyperplane and Separation:**\n",
        "   - In **n-dimensional space**, a **hyperplane** is a flat, (n-1)-dimensional subspace that divides the space into two halves.\n",
        "   - For binary classification, the goal of SVM is to find a hyperplane that **separates** the two classes of data points.\n",
        "\n",
        "   The equation of a hyperplane can be written as:\n",
        "\n",
        "   \\[\n",
        "   \\mathbf{w}^T \\mathbf{x} + b = 0\n",
        "   \\]\n",
        "\n",
        "   - **w** is the weight vector (normal to the hyperplane).\n",
        "   - **x** is a data point.\n",
        "   - **b** is the bias term (offset from the origin).\n",
        "\n",
        "### 2. **Margin Maximization:**\n",
        "   - The **margin** is the distance between the hyperplane and the closest data points from each class (called **support vectors**).\n",
        "   - The **goal of SVM** is to maximize this margin while maintaining correct classification of the data points.\n",
        "   - If the data points are perfectly separable, SVM tries to maximize the margin between the two classes of points by selecting the optimal hyperplane.\n",
        "\n",
        "   For a given data point, the **margin** is defined as the perpendicular distance from the point to the hyperplane. For any point \\( \\mathbf{x}_i \\), the margin can be written as:\n",
        "\n",
        "   \\[\n",
        "   \\text{Distance} = \\frac{|\\mathbf{w}^T \\mathbf{x}_i + b|}{\\|\\mathbf{w}\\|}\n",
        "   \\]\n",
        "\n",
        "   To **maximize the margin**, we minimize the magnitude of \\( \\mathbf{w} \\), as the margin is inversely proportional to \\( \\|\\mathbf{w}\\| \\). Therefore, the objective is to minimize \\( \\frac{1}{2} \\|\\mathbf{w}\\|^2 \\) (we use \\( \\frac{1}{2} \\) for mathematical convenience, as it simplifies the derivatives later).\n",
        "\n",
        "### 3. **The Constraints for Perfect Classification (Hard Margin SVM):**\n",
        "   For a hyperplane to perfectly separate the classes, all points from one class should lie on one side of the hyperplane, and all points from the other class should lie on the opposite side. Mathematically:\n",
        "\n",
        "   - For points belonging to class +1: \\( \\mathbf{w}^T \\mathbf{x}_i + b \\geq +1 \\)\n",
        "   - For points belonging to class -1: \\( \\mathbf{w}^T \\mathbf{x}_i + b \\leq -1 \\)\n",
        "\n",
        "   These constraints ensure that each data point is correctly classified with a margin of at least 1, i.e., no data point should lie inside or on the wrong side of the margin.\n",
        "\n",
        "   The optimization problem for **Hard Margin SVM** becomes:\n",
        "\n",
        "   \\[\n",
        "   \\text{Minimize:} \\quad \\frac{1}{2} \\|\\mathbf{w}\\|^2\n",
        "   \\]\n",
        "\n",
        "   **Subject to:**\n",
        "   \\[\n",
        "   y_i (\\mathbf{w}^T \\mathbf{x}_i + b) \\geq 1, \\quad \\forall i\n",
        "   \\]\n",
        "\n",
        "   where \\( y_i \\) is the label of the \\( i \\)-th data point (either +1 or -1), and \\( \\mathbf{x}_i \\) is the feature vector of the \\( i \\)-th data point.\n",
        "\n",
        "### 4. **Soft Margin SVM (for Non-linearly Separable Data):**\n",
        "   - When the data is not perfectly separable (i.e., some data points might overlap between classes), we introduce **slack variables** \\( \\xi_i \\) to allow some points to be misclassified or fall within the margin.\n",
        "   \n",
        "   The new constraints become:\n",
        "\n",
        "   \\[\n",
        "   y_i (\\mathbf{w}^T \\mathbf{x}_i + b) \\geq 1 - \\xi_i, \\quad \\forall i\n",
        "   \\]\n",
        "\n",
        "   where \\( \\xi_i \\geq 0 \\) represents the slack variable for the \\( i \\)-th point, allowing it to be either within the margin or misclassified.\n",
        "\n",
        "   - The optimization problem now becomes:\n",
        "\n",
        "   \\[\n",
        "   \\text{Minimize:} \\quad \\frac{1}{2} \\|\\mathbf{w}\\|^2 + C \\sum_{i=1}^{n} \\xi_i\n",
        "   \\]\n",
        "\n",
        "   Here:\n",
        "   - \\( C \\) is a regularization parameter that controls the trade-off between maximizing the margin and minimizing the misclassification error (penalizing the slack variables). A **larger value of C** emphasizes minimizing misclassifications, while a **smaller C** allows more slack (i.e., more misclassifications) but can lead to a larger margin and better generalization.\n",
        "\n",
        "### 5. **Kernel Trick (For Non-linear Separation):**\n",
        "   - In many real-world problems, the data is not linearly separable, meaning you cannot find a hyperplane in the original feature space that perfectly separates the data. To handle this, **SVM uses the kernel trick**.\n",
        "   - A **kernel function** maps the input data from its original space to a higher-dimensional space where a linear separation may be possible. Common kernel functions include:\n",
        "     - **Linear Kernel**: \\( K(\\mathbf{x}, \\mathbf{x}') = \\mathbf{x}^T \\mathbf{x}' \\)\n",
        "     - **Polynomial Kernel**: \\( K(\\mathbf{x}, \\mathbf{x}') = (\\mathbf{x}^T \\mathbf{x}' + 1)^d \\)\n",
        "     - **RBF (Radial Basis Function) Kernel**: \\( K(\\mathbf{x}, \\mathbf{x}') = \\exp(-\\gamma \\|\\mathbf{x} - \\mathbf{x}'\\|^2) \\)\n",
        "\n",
        "   By using kernels, SVM can efficiently find a hyperplane in the transformed feature space without explicitly computing the transformation.\n",
        "\n",
        "### Summary of Mathematical Intuition:\n",
        "- **Objective**: Find a hyperplane that separates data points of two classes while maximizing the margin.\n",
        "- **Optimization**: Minimize the norm of the weight vector \\( \\|\\mathbf{w}\\| \\) subject to constraints that ensure correct classification of points.\n",
        "- **Soft Margin**: Allow misclassifications or margin violations using slack variables and a regularization parameter \\( C \\).\n",
        "- **Kernel Trick**: Use a kernel function to map the data to a higher-dimensional space where linear separation is possible.\n",
        "\n",
        "This approach balances finding the largest margin between classes and controlling misclassifications, with flexibility to handle non-linearly separable data using kernels."
      ],
      "metadata": {
        "id": "BPTAhGWsQzsa"
      }
    },
    {
      "cell_type": "markdown",
      "source": [
        "###QUES.4 What is the role of Lagrange Multipliers in SVM?\n"
      ],
      "metadata": {
        "id": "SPxVYHZ1RK7O"
      }
    },
    {
      "cell_type": "markdown",
      "source": [
        "###ANS.4 Lagrange multipliers play a key role in the **optimization** problem of Support Vector Machines (SVM), specifically in the process of **constrained optimization**. The goal of SVM is to find the optimal hyperplane that maximizes the margin between classes, subject to certain constraints (i.e., ensuring the correct classification of data points). Lagrange multipliers help in formulating and solving this constrained optimization problem.\n",
        "\n",
        "### Why Lagrange Multipliers?\n",
        "\n",
        "In the context of SVM, we want to **maximize the margin** while also ensuring that the data points are correctly classified (i.e., subject to constraints). To do this efficiently, we can use **Lagrange multipliers** to turn the constrained optimization problem into an unconstrained one.\n",
        "\n",
        "### The SVM Optimization Problem (Soft Margin):\n",
        "\n",
        "The objective is to minimize the cost function that represents the margin, while ensuring the constraints are satisfied. For **Soft Margin SVM**, the problem can be written as:\n",
        "\n",
        "\\[\n",
        "\\text{Minimize:} \\quad \\frac{1}{2} \\|\\mathbf{w}\\|^2 + C \\sum_{i=1}^n \\xi_i\n",
        "\\]\n",
        "\n",
        "**Subject to the constraints:**\n",
        "\n",
        "\\[\n",
        "y_i (\\mathbf{w}^T \\mathbf{x}_i + b) \\geq 1 - \\xi_i \\quad \\forall i, \\quad \\xi_i \\geq 0\n",
        "\\]\n",
        "\n",
        "Here:\n",
        "- \\( \\mathbf{w} \\) is the weight vector.\n",
        "- \\( b \\) is the bias term.\n",
        "- \\( \\xi_i \\) is the slack variable that allows some points to be misclassified.\n",
        "- \\( C \\) is a regularization parameter controlling the trade-off between maximizing the margin and minimizing misclassification.\n",
        "\n",
        "### Using Lagrange Multipliers:\n",
        "\n",
        "To solve this optimization problem, we introduce **Lagrange multipliers** to handle the constraints. The Lagrangian function is constructed by combining the objective function and the constraints using these multipliers.\n",
        "\n",
        "1. **Lagrangian Function:**\n",
        "   We introduce Lagrange multipliers \\( \\alpha_i \\geq 0 \\) for each constraint \\( y_i (\\mathbf{w}^T \\mathbf{x}_i + b) \\geq 1 - \\xi_i \\). The Lagrangian is:\n",
        "\n",
        "   \\[\n",
        "   \\mathcal{L}(\\mathbf{w}, b, \\xi, \\alpha) = \\frac{1}{2} \\|\\mathbf{w}\\|^2 + C \\sum_{i=1}^n \\xi_i - \\sum_{i=1}^n \\alpha_i \\left[ y_i (\\mathbf{w}^T \\mathbf{x}_i + b) - 1 + \\xi_i \\right]\n",
        "   \\]\n",
        "\n",
        "   Here, \\( \\alpha_i \\) are the Lagrange multipliers associated with the constraints.\n",
        "\n",
        "2. **Stationarity Conditions:**\n",
        "   To solve the optimization problem, we differentiate the Lagrangian with respect to \\( \\mathbf{w} \\), \\( b \\), and \\( \\xi_i \\) and set these derivatives to zero to find the **optimal values** of these variables.\n",
        "\n",
        "   - For \\( \\mathbf{w} \\), we have:\n",
        "\n",
        "     \\[\n",
        "     \\frac{\\partial \\mathcal{L}}{\\partial \\mathbf{w}} = \\mathbf{w} - \\sum_{i=1}^n \\alpha_i y_i \\mathbf{x}_i = 0\n",
        "     \\]\n",
        "   \n",
        "     This equation implies that \\( \\mathbf{w} \\) is a **linear combination** of the support vectors, weighted by the Lagrange multipliers \\( \\alpha_i \\).\n",
        "\n",
        "   - For \\( b \\), we differentiate with respect to \\( b \\) and set it to zero:\n",
        "\n",
        "     \\[\n",
        "     \\frac{\\partial \\mathcal{L}}{\\partial b} = \\sum_{i=1}^n \\alpha_i y_i = 0\n",
        "     \\]\n",
        "\n",
        "     This condition ensures that the sum of the Lagrange multipliers associated with the constraints is zero.\n",
        "\n",
        "   - For \\( \\xi_i \\), we differentiate with respect to \\( \\xi_i \\) and set it to zero:\n",
        "\n",
        "     \\[\n",
        "     \\frac{\\partial \\mathcal{L}}{\\partial \\xi_i} = C - \\alpha_i = 0 \\quad \\Rightarrow \\quad \\alpha_i = C\n",
        "     \\]\n",
        "\n",
        "3. **KKT Conditions (Karush-Kuhn-Tucker Conditions):**\n",
        "   The **KKT conditions** are a set of necessary conditions for a solution to be optimal in constrained optimization problems. For SVM, these conditions are:\n",
        "\n",
        "   - **Primal feasibility**: \\( y_i (\\mathbf{w}^T \\mathbf{x}_i + b) \\geq 1 - \\xi_i \\)\n",
        "   - **Dual feasibility**: \\( \\alpha_i \\geq 0 \\)\n",
        "   - **Complementary slackness**: \\( \\alpha_i \\left[ y_i (\\mathbf{w}^T \\mathbf{x}_i + b) - 1 + \\xi_i \\right] = 0 \\)\n",
        "     - This means that if \\( \\alpha_i > 0 \\), the constraint is active (i.e., the point is a support vector and lies exactly on the margin), and if \\( \\alpha_i = 0 \\), the constraint is not active (the point is not a support vector).\n",
        "\n",
        "4. **Dual Formulation:**\n",
        "   The Lagrange multipliers \\( \\alpha_i \\) allow us to rewrite the optimization problem in **dual form**. This dual form focuses on maximizing the Lagrangian with respect to \\( \\alpha_i \\) (instead of directly minimizing \\( \\|\\mathbf{w}\\|^2 \\)):\n",
        "\n",
        "   \\[\n",
        "   \\text{Maximize:} \\quad W(\\alpha) = \\sum_{i=1}^n \\alpha_i - \\frac{1}{2} \\sum_{i=1}^n \\sum_{j=1}^n \\alpha_i \\alpha_j y_i y_j \\mathbf{x}_i^T \\mathbf{x}_j\n",
        "   \\]\n",
        "\n",
        "   **Subject to:**\n",
        "   - \\( \\alpha_i \\geq 0 \\)\n",
        "   - \\( \\sum_{i=1}^n \\alpha_i y_i = 0 \\)\n",
        "\n",
        "   The dual problem is easier to solve, especially when using **kernels** for non-linear SVMs, because it allows us to work with the inner products of the data points rather than directly with their coordinates.\n",
        "\n",
        "### Summary: The Role of Lagrange Multipliers in SVM\n",
        "\n",
        "Lagrange multipliers help convert the **constrained optimization** problem of finding the optimal hyperplane (with constraints) into a more manageable unconstrained problem. They:\n",
        "- Allow us to handle the constraints on the classification of data points.\n",
        "- Provide a way to express the optimal hyperplane \\( \\mathbf{w} \\) as a linear combination of the support vectors.\n",
        "- Lead to the **dual form** of the SVM optimization problem, which is useful for both linear and non-linear SVMs (especially with kernels).\n",
        "- Ensure the **complementary slackness condition**, meaning only the support vectors contribute to the definition of the optimal hyperplane.\n",
        "\n",
        "In essence, Lagrange multipliers are central to the formulation of SVMs, enabling efficient computation and flexibility when working with complex, high-dimensional data."
      ],
      "metadata": {
        "id": "LavaVTb0RWLC"
      }
    },
    {
      "cell_type": "markdown",
      "source": [
        "###QUES.5 What are Support Vectors in SVM?"
      ],
      "metadata": {
        "id": "MajIaZRoRqgP"
      }
    },
    {
      "cell_type": "markdown",
      "source": [
        "###ANS.5 **Support Vectors** in Support Vector Machine (SVM) are the data points that are **critical** in defining the **optimal hyperplane** that separates the classes in the feature space. These are the points that lie closest to the hyperplane, and they are the ones that **support** the margin.\n",
        "\n",
        "### Key Concepts about Support Vectors:\n",
        "\n",
        "1. **Definition**:\n",
        "   - Support vectors are the data points that are closest to the decision boundary (the hyperplane).\n",
        "   - They are the **\"critical\"** data points because they determine the **position** and **orientation** of the optimal hyperplane (the decision boundary).\n",
        "   - These points are on the edges of the margin and are the only ones that directly influence the final model. Other data points that are farther away from the hyperplane do not impact the hyperplane's position, as long as they are correctly classified.\n",
        "\n",
        "2. **Margin**:\n",
        "   - The margin is the distance between the decision boundary (hyperplane) and the closest data points from each class. SVM aims to **maximize** this margin.\n",
        "   - The support vectors are the data points that lie at the **boundary** of this margin.\n",
        "\n",
        "3. **Role in the Optimization Problem**:\n",
        "   - In the SVM optimization process, the objective is to find a hyperplane that maximizes the margin. The margin is defined by the support vectors.\n",
        "   - Mathematically, if you think of the hyperplane as having an equation \\( \\mathbf{w}^T \\mathbf{x} + b = 0 \\), the support vectors are the data points for which \\( y_i (\\mathbf{w}^T \\mathbf{x}_i + b) = 1 \\) for class +1 and \\( y_i (\\mathbf{w}^T \\mathbf{x}_i + b) = -1 \\) for class -1. These points are precisely at the margin boundaries.\n",
        "\n",
        "4. **Importance**:\n",
        "   - Only support vectors affect the position of the hyperplane. **Other points, even if correctly classified, have no effect on the model once the support vectors are identified**.\n",
        "   - Removing a non-support vector from the dataset will not change the decision boundary (unless it becomes a support vector after the removal).\n",
        "   - This is a reason why SVMs are often considered to be **memory efficient**, because they only need to retain the support vectors for model prediction, not the entire dataset.\n",
        "\n",
        "5. **Support Vectors in the Soft Margin Case**:\n",
        "   - In the **Soft Margin SVM**, there may be **misclassifications** or points within the margin due to the introduction of **slack variables** \\( \\xi_i \\). The support vectors in this case could be either:\n",
        "     - **On the margin** (where \\( y_i (\\mathbf{w}^T \\mathbf{x}_i + b) = 1 \\) or \\( y_i (\\mathbf{w}^T \\mathbf{x}_i + b) = -1 \\)).\n",
        "     - **On the wrong side of the margin** (where \\( y_i (\\mathbf{w}^T \\mathbf{x}_i + b) \\) is less than 1 but greater than 0, due to slack variables).\n",
        "\n",
        "6. **Support Vectors in the Dual Form**:\n",
        "   - In the **dual formulation** of the SVM problem, the support vectors correspond to those data points for which the corresponding **Lagrange multipliers** \\( \\alpha_i \\) are greater than 0.\n",
        "   - These are the points that contribute to the **optimal hyperplane**. If \\( \\alpha_i = 0 \\), then the point is not a support vector and does not affect the decision boundary.\n",
        "\n",
        "7. **In the Non-Linear Case (with Kernels)**:\n",
        "   - When using **kernels** (such as the RBF kernel) for non-linearly separable data, the support vectors are the data points that are closest to the decision boundary in the **higher-dimensional feature space** created by the kernel. Even though the data may not be separable in the original feature space, the support vectors still play the crucial role in defining the boundary in the transformed space.\n",
        "\n",
        "### Summary:\n",
        "\n",
        "- **Support Vectors** are the data points that are closest to the decision boundary (hyperplane) in SVM.\n",
        "- They are crucial for defining the **margin** and the **optimal hyperplane**.\n",
        "- In SVM, only these support vectors affect the final decision boundary, and removing non-support vectors doesn’t change the model.\n",
        "- Support vectors are determined during the training process and are the key points that SVM uses to make predictions.\n",
        "\n",
        "In essence, support vectors are the \"most important\" data points in SVM, and they are the foundation for the model's ability to generalize effectively."
      ],
      "metadata": {
        "id": "dPgEAgM2R0Bd"
      }
    },
    {
      "cell_type": "markdown",
      "source": [
        "###QUES.6 What is a Support Vector Classifier (SVC)?"
      ],
      "metadata": {
        "id": "eg08Dsb_TE2D"
      }
    },
    {
      "cell_type": "markdown",
      "source": [
        "###ANS.6 A **Support Vector Classifier (SVC)** is a type of machine learning model that uses the principles of **Support Vector Machines (SVM)** for **binary classification** tasks. It is one of the most commonly used algorithms for classification problems, especially when the goal is to separate data into two categories based on features.\n",
        "\n",
        "### Key Features of Support Vector Classifier (SVC):\n",
        "\n",
        "1. **Classification Task**:\n",
        "   - The primary goal of an SVC is to classify data into one of two classes. Given a set of data points with labeled classes (e.g., +1 and -1), the SVC attempts to find the **optimal decision boundary** (also known as a **hyperplane**) that separates the two classes.\n",
        "\n",
        "2. **Optimal Hyperplane**:\n",
        "   - The SVC seeks to find the hyperplane that **maximizes the margin** between the two classes. The margin is the distance between the hyperplane and the closest data points from either class, known as **support vectors**.\n",
        "   - **Maximizing the margin** is crucial because a larger margin typically results in better generalization to new, unseen data (reducing overfitting).\n",
        "\n",
        "3. **Mathematical Formulation**:\n",
        "   - In **linear SVC**, the decision boundary is a straight line (in 2D) or a hyperplane (in higher dimensions) that can be described by the equation:\n",
        "\n",
        "     \\[\n",
        "     \\mathbf{w}^T \\mathbf{x} + b = 0\n",
        "     \\]\n",
        "\n",
        "     Here, \\( \\mathbf{w} \\) is the weight vector (normal to the hyperplane), and \\( b \\) is the bias term.\n",
        "   - The optimization problem aims to maximize the margin while satisfying the following constraints for the training data:\n",
        "   \n",
        "     \\[\n",
        "     y_i (\\mathbf{w}^T \\mathbf{x}_i + b) \\geq 1 \\quad \\text{for each data point} \\, i\n",
        "     \\]\n",
        "\n",
        "     where \\( y_i \\) is the label of the data point, and \\( \\mathbf{x}_i \\) is the feature vector of the data point.\n",
        "\n",
        "4. **Support Vectors**:\n",
        "   - The data points closest to the hyperplane are called **support vectors**. These points define the margin and are critical in determining the position of the hyperplane. Only support vectors contribute to the final model; other data points do not affect the decision boundary.\n",
        "\n",
        "5. **Linear vs Non-Linear Classification**:\n",
        "   - **Linear SVC**: When the data is **linearly separable**, the SVC algorithm finds a linear decision boundary (a straight line or a hyperplane) that separates the classes.\n",
        "   - **Non-Linear SVC**: When the data is **not linearly separable**, SVC uses a technique called the **kernel trick**. By applying a kernel function, SVC maps the data into a higher-dimensional space where a linear separation becomes possible. Common kernel functions include:\n",
        "     - **Polynomial kernel**\n",
        "     - **Radial Basis Function (RBF) kernel** (also known as Gaussian kernel)\n",
        "     - **Sigmoid kernel**\n",
        "\n",
        "     These kernels allow the SVC to learn complex decision boundaries that cannot be achieved in the original feature space.\n",
        "\n",
        "6. **Soft Margin Classification**:\n",
        "   - In real-world problems, data is rarely perfectly separable. In such cases, **Soft Margin SVC** is used, which allows some misclassifications by introducing **slack variables**. These slack variables represent the degree to which data points violate the margin constraints.\n",
        "   - The regularization parameter \\( C \\) controls the trade-off between maximizing the margin and minimizing the classification errors (misclassifications). A large \\( C \\) emphasizes minimizing misclassifications, while a small \\( C \\) allows for a larger margin but more misclassifications.\n",
        "\n",
        "7. **Support Vector Classifier Objective**:\n",
        "   - The SVC optimization problem involves two key objectives:\n",
        "     1. **Maximizing the margin** between the two classes (the space between the hyperplane and the support vectors).\n",
        "     2. **Minimizing misclassification errors** (for soft margin classification), controlled by the regularization parameter \\( C \\).\n",
        "\n",
        "### How SVC Works:\n",
        "\n",
        "1. **Training**: During training, the SVC algorithm tries to find the optimal hyperplane by solving the following optimization problem:\n",
        "   - **Maximize the margin** between the support vectors.\n",
        "   - **Minimize misclassifications** (in the case of non-linearly separable data) using slack variables and the regularization parameter \\( C \\).\n",
        "\n",
        "2. **Prediction**: Once the model is trained and the optimal hyperplane is determined, SVC makes predictions by checking on which side of the hyperplane a new data point lies.\n",
        "   - If the point lies on the positive side, it is classified as one class (e.g., +1).\n",
        "   - If it lies on the negative side, it is classified as the other class (e.g., -1).\n",
        "\n",
        "### Advantages of SVC:\n",
        "\n",
        "- **Effective in high-dimensional spaces**: SVC performs well when the number of features is greater than the number of samples (high-dimensional data).\n",
        "- **Memory efficient**: It only uses the support vectors for making predictions, which can reduce memory usage.\n",
        "- **Versatile**: By using different kernels, SVC can handle both linear and non-linear classification tasks effectively.\n",
        "- **Robust to overfitting**: With the correct choice of \\( C \\) and the kernel, SVC can generalize well, even for complex datasets.\n",
        "\n",
        "### Disadvantages of SVC:\n",
        "\n",
        "- **Computationally expensive**: Training an SVC can be slow, especially for large datasets, due to the quadratic optimization problem.\n",
        "- **Sensitive to the choice of kernel and hyperparameters**: The performance of SVC heavily depends on the choice of kernel (e.g., linear, RBF) and the tuning of hyperparameters like \\( C \\) and the kernel parameters (e.g., gamma in the RBF kernel).\n",
        "- **Not suitable for very large datasets**: The algorithm can become inefficient with very large datasets in terms of both memory and computation time.\n",
        "\n",
        "### Summary:\n",
        "\n",
        "A **Support Vector Classifier (SVC)** is a powerful classification model that uses the concept of a **hyperplane** to separate data into different classes. It works by finding the optimal hyperplane that maximizes the margin between the classes while minimizing misclassifications (in case of non-linearly separable data). The SVC can be extended to handle non-linear problems by using **kernels**, and it is particularly useful in high-dimensional spaces."
      ],
      "metadata": {
        "id": "XjYci9aPTO6s"
      }
    },
    {
      "cell_type": "markdown",
      "source": [
        "###QUES.7 What is a Support Vector Regressor (SVR)?"
      ],
      "metadata": {
        "id": "z1LwvzEzTmF8"
      }
    },
    {
      "cell_type": "markdown",
      "source": [
        "###ANS.7 A **Support Vector Regressor (SVR)** is a type of machine learning algorithm used for **regression tasks**, i.e., predicting continuous values, rather than classifying data into categories. Like the Support Vector Machine (SVM) for classification, SVR uses the principles of SVM, but instead of trying to separate classes with a hyperplane, it tries to find a function that best fits the data within a certain margin of tolerance.\n",
        "\n",
        "### Key Features of Support Vector Regressor (SVR):\n",
        "\n",
        "1. **Goal**:\n",
        "   - The primary goal of SVR is to **fit a function** that predicts continuous output values (as opposed to discrete labels in classification).\n",
        "   - SVR tries to find a function that has at most **ε (epsilon)** deviation from the actual target values for the training data points, while still being as **flat** as possible (i.e., with the smallest possible weights).\n",
        "\n",
        "2. **The ε-Insensitive Loss Function**:\n",
        "   - In SVR, we do not penalize predictions that are within a margin of **ε** from the actual target values. This means that for data points that lie within this margin (also called the **ε-tube** or **ε-margin**), no penalty is applied.\n",
        "   - This helps in making the model robust to small fluctuations in the data, reducing overfitting.\n",
        "   - For points outside this margin, we penalize the deviation from the target value.\n",
        "\n",
        "   The loss function used in SVR is a variation of the **epsilon-insensitive loss function**:\n",
        "\n",
        "   \\[\n",
        "   L(\\epsilon) = \\begin{cases}\n",
        "   0 & \\text{if } |y_i - f(\\mathbf{x}_i)| \\leq \\epsilon \\\\\n",
        "   |y_i - f(\\mathbf{x}_i)| - \\epsilon & \\text{otherwise}\n",
        "   \\end{cases}\n",
        "   \\]\n",
        "\n",
        "   Where:\n",
        "   - \\( y_i \\) is the actual target value.\n",
        "   - \\( f(\\mathbf{x}_i) \\) is the predicted value for the input feature vector \\( \\mathbf{x}_i \\).\n",
        "   - \\( \\epsilon \\) is the margin within which no penalty is given.\n",
        "\n",
        "3. **Optimization Problem**:\n",
        "   - Similar to SVM, the SVR problem is a **constrained optimization** problem.\n",
        "   - The goal is to find a function \\( f(\\mathbf{x}) = \\mathbf{w}^T \\mathbf{x} + b \\) (a hyperplane in the feature space) that minimizes the deviations (errors) outside the \\( \\epsilon \\)-tube while also keeping the model as simple as possible (minimizing the weight vector \\( \\mathbf{w} \\)).\n",
        "   - The optimization problem in SVR can be formulated as:\n",
        "\n",
        "     \\[\n",
        "     \\min_{\\mathbf{w}, b, \\xi_i, \\xi_i^*} \\frac{1}{2} \\|\\mathbf{w}\\|^2 + C \\sum_{i=1}^n (\\xi_i + \\xi_i^*)\n",
        "     \\]\n",
        "\n",
        "     **Subject to:**\n",
        "\n",
        "     \\[\n",
        "     |y_i - \\mathbf{w}^T \\mathbf{x}_i - b| \\leq \\epsilon + \\xi_i\n",
        "     \\]\n",
        "     \\[\n",
        "     \\xi_i \\geq 0, \\quad \\xi_i^* \\geq 0\n",
        "     \\]\n",
        "\n",
        "     Where:\n",
        "     - \\( \\mathbf{w} \\) and \\( b \\) are the parameters defining the hyperplane.\n",
        "     - \\( \\xi_i \\) and \\( \\xi_i^* \\) are slack variables that allow for deviations from the \\( \\epsilon \\)-tube.\n",
        "     - \\( C \\) is the regularization parameter that controls the trade-off between fitting the training data well and keeping the model's complexity low.\n",
        "\n",
        "4. **Regularization**:\n",
        "   - The **regularization parameter \\( C \\)** controls the trade-off between allowing deviations from the margin (slack variables) and keeping the model as simple (flat) as possible.\n",
        "   - A large \\( C \\) means the model tries hard to fit the training data without deviations, potentially leading to overfitting.\n",
        "   - A small \\( C \\) allows more flexibility, letting the model tolerate more deviation but potentially underfitting the data.\n",
        "\n",
        "5. **Kernels in SVR**:\n",
        "   - Just like SVM, SVR can also use **kernels** to handle non-linear relationships in the data. This is especially useful when the data cannot be separated by a simple linear function.\n",
        "   - Common kernels include:\n",
        "     - **Linear kernel** (used when the data is linearly separable).\n",
        "     - **Polynomial kernel**.\n",
        "     - **Radial Basis Function (RBF) kernel** (often used for more complex, non-linear data).\n",
        "\n",
        "   The kernel trick allows SVR to map input data into a higher-dimensional space where a linear regression model can be applied, even if the data is not linearly separable in the original space.\n",
        "\n",
        "6. **Prediction**:\n",
        "   - Once the SVR model is trained, it predicts new values by evaluating the function \\( f(\\mathbf{x}) = \\mathbf{w}^T \\mathbf{x} + b \\), similar to a linear regression model.\n",
        "   - However, it may involve mapping the data into a higher-dimensional feature space (using the kernel trick) before making the prediction.\n",
        "\n",
        "### Advantages of SVR:\n",
        "\n",
        "1. **Robust to Outliers**: The **ε-insensitive loss** function makes SVR robust to small outliers in the data, as they are ignored as long as they lie within the epsilon margin.\n",
        "2. **Flexible and Powerful**: SVR can handle both **linear** and **non-linear** regression problems by using different kernels.\n",
        "3. **Good Generalization**: By controlling the margin and using the regularization parameter \\( C \\), SVR tends to generalize well to unseen data, avoiding overfitting or underfitting.\n",
        "\n",
        "### Disadvantages of SVR:\n",
        "\n",
        "1. **Computationally Expensive**: SVR can be computationally expensive, especially with large datasets, as it requires solving a quadratic optimization problem.\n",
        "2. **Sensitive to Hyperparameters**: The performance of the SVR is highly sensitive to the choice of hyperparameters \\( C \\), \\( \\epsilon \\), and the kernel parameters (e.g., gamma for RBF kernel). Tuning these hyperparameters requires careful cross-validation.\n",
        "3. **Limited Interpretability**: SVR models, especially with kernels, can be hard to interpret, as they involve high-dimensional feature spaces or complex transformations.\n",
        "\n",
        "### Summary:\n",
        "\n",
        "- **Support Vector Regressor (SVR)** is a machine learning algorithm used for regression tasks that finds a function to predict continuous values.\n",
        "- SVR uses the concept of a **hyperplane** to fit the data, with the goal of maximizing the margin while allowing small deviations within a specified threshold (\\( \\epsilon \\)-insensitive loss).\n",
        "- It can be applied to both **linear** and **non-linear** regression problems using kernels.\n",
        "- The regularization parameter \\( C \\) and the epsilon margin \\( \\epsilon \\) control the trade-off between fitting the data well and keeping the model as simple as possible.\n",
        "\n",
        "SVR is widely used for applications in time series prediction, financial forecasting, and other regression problems where robustness and high accuracy are important."
      ],
      "metadata": {
        "id": "FuJv2CqaT9n5"
      }
    },
    {
      "cell_type": "markdown",
      "source": [
        "###QUES.8 What is the Kernel Trick in SVM?\n"
      ],
      "metadata": {
        "id": "rz7UCobFUIiq"
      }
    },
    {
      "cell_type": "markdown",
      "source": [
        "###ANS.8 The **Kernel Trick** in Support Vector Machines (SVM) is a powerful technique used to transform data into a higher-dimensional feature space without actually computing the coordinates of the data points in that space. It allows SVMs to find a linear hyperplane in a higher-dimensional space, even when the data is **non-linearly separable** in its original feature space.\n",
        "\n",
        "### Why Use the Kernel Trick?\n",
        "\n",
        "In many real-world problems, the data cannot be separated by a simple linear decision boundary in the original feature space. However, the **Kernel Trick** allows us to implicitly map the data into a higher-dimensional space, where the data might become linearly separable. Once the data is transformed into this higher-dimensional space, SVM can find a **linear hyperplane** that separates the classes effectively.\n",
        "\n",
        "### The Key Idea:\n",
        "\n",
        "The main idea behind the **Kernel Trick** is to compute the **dot product** of the data points in the higher-dimensional feature space **without explicitly performing the mapping**. This avoids the computational cost of directly working in the higher-dimensional space.\n",
        "\n",
        "Instead of computing the coordinates of data points in the higher-dimensional space, we use a **kernel function** to compute the **dot product** in the transformed space. The kernel function computes this dot product directly in the higher-dimensional space based on the original data points in the lower-dimensional space.\n",
        "\n",
        "### Mathematical Explanation:\n",
        "\n",
        "In an SVM, the decision function is based on the dot product between data points:\n",
        "\n",
        "\\[\n",
        "f(\\mathbf{x}) = \\sum_{i=1}^{N} \\alpha_i y_i \\mathbf{x}_i^T \\mathbf{x} + b\n",
        "\\]\n",
        "\n",
        "Where \\( \\mathbf{x}_i \\) are the training data points, \\( \\alpha_i \\) are the Lagrange multipliers, and \\( y_i \\) are the labels of the data points.\n",
        "\n",
        "In the case of a non-linear decision boundary, the kernel trick allows us to compute this dot product in a higher-dimensional space without explicitly mapping the data points. Instead of \\( \\mathbf{x}_i^T \\mathbf{x} \\), we compute a **kernel function** \\( K(\\mathbf{x}_i, \\mathbf{x}_j) \\), which represents the dot product of the data points in the transformed space.\n",
        "\n",
        "### Common Kernel Functions:\n",
        "\n",
        "1. **Linear Kernel** (No mapping, used for linearly separable data):\n",
        "   \\[\n",
        "   K(\\mathbf{x}_i, \\mathbf{x}_j) = \\mathbf{x}_i^T \\mathbf{x}_j\n",
        "   \\]\n",
        "   - This is just the standard dot product, and it doesn't actually transform the data.\n",
        "\n",
        "2. **Polynomial Kernel** (Maps the data to a higher-dimensional space using polynomial functions):\n",
        "   \\[\n",
        "   K(\\mathbf{x}_i, \\mathbf{x}_j) = (\\mathbf{x}_i^T \\mathbf{x}_j + c)^d\n",
        "   \\]\n",
        "   - Where \\( c \\) is a constant and \\( d \\) is the degree of the polynomial.\n",
        "   - This kernel maps the data into a higher-dimensional space based on polynomial functions, which can help in separating non-linearly separable data.\n",
        "\n",
        "3. **Radial Basis Function (RBF) Kernel** (Also known as the Gaussian kernel, it maps the data into an infinite-dimensional space):\n",
        "   \\[\n",
        "   K(\\mathbf{x}_i, \\mathbf{x}_j) = \\exp\\left(-\\frac{\\|\\mathbf{x}_i - \\mathbf{x}_j\\|^2}{2\\sigma^2}\\right)\n",
        "   \\]\n",
        "   - This kernel is particularly popular and is very powerful for handling non-linear decision boundaries.\n",
        "   - The RBF kernel computes the similarity between points based on the distance between them. Points that are close together in the feature space will have higher similarity.\n",
        "\n",
        "4. **Sigmoid Kernel** (Similar to the activation function used in neural networks):\n",
        "   \\[\n",
        "   K(\\mathbf{x}_i, \\mathbf{x}_j) = \\tanh(\\mathbf{x}_i^T \\mathbf{x}_j + c)\n",
        "   \\]\n",
        "   - This kernel is less commonly used but can be effective in certain cases, especially for data that resembles a neural network-like structure.\n",
        "\n",
        "### How the Kernel Trick Works:\n",
        "\n",
        "1. **Implicit Mapping**: Instead of explicitly mapping the data to a higher-dimensional space, the kernel trick computes the **dot product** in the higher-dimensional space directly. This is much more efficient than computing the mapping explicitly.\n",
        "\n",
        "2. **Computational Efficiency**: The kernel function allows SVM to work in high-dimensional spaces without actually transforming the data points into those dimensions. This is crucial, as directly mapping data to higher dimensions could be computationally expensive or even infeasible for very high-dimensional spaces.\n",
        "\n",
        "3. **Flexibility**: By using different kernel functions, SVMs can handle a wide range of problems:\n",
        "   - **Linear separability**: The linear kernel is used when the data is already linearly separable.\n",
        "   - **Non-linear separability**: Non-linear kernels like the polynomial or RBF kernels are used when the data is not linearly separable in the original feature space.\n",
        "\n",
        "### Example: Non-linear SVM using RBF Kernel\n",
        "\n",
        "Consider the case where you have a set of points that are **not linearly separable** in the original 2D space, like two interlocking crescent shapes (a \"moon\" shape). A linear SVM would not be able to find a separating hyperplane for these points. However, by using an **RBF kernel**, SVM can implicitly map these points into a higher-dimensional space where they become linearly separable. After applying the kernel trick, the SVM can find a decision boundary that separates the two classes effectively.\n",
        "\n",
        "### Summary of the Kernel Trick:\n",
        "\n",
        "- **The Kernel Trick** allows SVM to operate in higher-dimensional spaces without explicitly transforming the data, which makes it computationally efficient.\n",
        "- **Kernel functions** (such as linear, polynomial, and RBF) compute the dot product in the higher-dimensional space directly, allowing SVM to learn complex non-linear decision boundaries.\n",
        "- The kernel trick is **essential** for handling non-linear data and is one of the most powerful features of SVM.\n",
        "- By using kernels, SVM can learn complex decision boundaries that might be impossible to separate linearly in the original feature space."
      ],
      "metadata": {
        "id": "uI93kvPiUgSc"
      }
    },
    {
      "cell_type": "markdown",
      "source": [
        "###QUES.9 Compare Linear Kernel, Polynomial Kernel, and RBF Kernel:"
      ],
      "metadata": {
        "id": "o2hxVnDYUx1i"
      }
    },
    {
      "cell_type": "markdown",
      "source": [
        "###ANS.9 The **Linear Kernel**, **Polynomial Kernel**, and **Radial Basis Function (RBF) Kernel** are all different types of **kernel functions** used in Support Vector Machines (SVM) to handle non-linearly separable data by implicitly mapping it into higher-dimensional spaces. Here’s a detailed comparison of these three kernel types:\n",
        "\n",
        "### 1. **Linear Kernel**\n",
        "\n",
        "#### Definition:\n",
        "The **linear kernel** is the simplest type of kernel, and it does not map the data into a higher-dimensional space. It simply computes the dot product of two data points in the original feature space.\n",
        "\n",
        "\\[\n",
        "K(\\mathbf{x}_i, \\mathbf{x}_j) = \\mathbf{x}_i^T \\mathbf{x}_j\n",
        "\\]\n",
        "\n",
        "#### When to Use:\n",
        "- **Linearly separable data**: The linear kernel is effective when the data can be separated by a straight line or hyperplane in the original feature space.\n",
        "- **Simple and fast**: It is computationally efficient, especially when the data is already linearly separable or approximately linearly separable.\n",
        "\n",
        "#### Pros:\n",
        "- **Simplicity**: The linear kernel is straightforward and easy to understand.\n",
        "- **Computationally efficient**: It requires less memory and is faster to compute than more complex kernels.\n",
        "- **No transformation**: The data is not mapped into a higher-dimensional space, so no additional overhead is involved.\n",
        "\n",
        "#### Cons:\n",
        "- **Limited flexibility**: It can only model linear relationships between the data. If the data is not linearly separable, a linear kernel won't work well.\n",
        "\n",
        "---\n",
        "\n",
        "### 2. **Polynomial Kernel**\n",
        "\n",
        "#### Definition:\n",
        "The **polynomial kernel** computes the dot product of two data points raised to a certain power, effectively transforming the data into a higher-dimensional space. The kernel is defined as:\n",
        "\n",
        "\\[\n",
        "K(\\mathbf{x}_i, \\mathbf{x}_j) = (\\mathbf{x}_i^T \\mathbf{x}_j + c)^d\n",
        "\\]\n",
        "\n",
        "Where:\n",
        "- \\(c\\) is a constant (a bias term),\n",
        "- \\(d\\) is the degree of the polynomial.\n",
        "\n",
        "#### When to Use:\n",
        "- **Non-linear relationships**: The polynomial kernel is useful when the data is not linearly separable but still exhibits some form of polynomial-like non-linearity.\n",
        "- **Higher-dimensional separability**: When the decision boundary between classes can be represented by a polynomial curve or surface in a higher-dimensional space.\n",
        "\n",
        "#### Pros:\n",
        "- **Flexibility**: It can model more complex relationships than the linear kernel by capturing polynomial patterns in the data.\n",
        "- **Higher dimensionality**: The polynomial kernel transforms the data into a higher-dimensional space, enabling SVM to separate non-linear data.\n",
        "\n",
        "#### Cons:\n",
        "- **Computational cost**: The higher the degree \\(d\\), the more computationally expensive the kernel becomes.\n",
        "- **Risk of overfitting**: A high degree polynomial can lead to overfitting, as the model may become overly complex and fit noise in the data.\n",
        "- **Sensitive to \\(c\\) and \\(d\\)**: The choice of the constant \\(c\\) and the degree \\(d\\) can significantly impact model performance, requiring careful tuning.\n",
        "\n",
        "---\n",
        "\n",
        "### 3. **Radial Basis Function (RBF) Kernel**\n",
        "\n",
        "#### Definition:\n",
        "The **RBF kernel**, also known as the **Gaussian kernel**, computes the similarity between two points based on their Euclidean distance. It transforms the data into an infinite-dimensional feature space. The RBF kernel is defined as:\n",
        "\n",
        "\\[\n",
        "K(\\mathbf{x}_i, \\mathbf{x}_j) = \\exp\\left(-\\frac{\\|\\mathbf{x}_i - \\mathbf{x}_j\\|^2}{2\\sigma^2}\\right)\n",
        "\\]\n",
        "\n",
        "Where:\n",
        "- \\( \\|\\mathbf{x}_i - \\mathbf{x}_j\\|^2 \\) is the squared Euclidean distance between the data points \\( \\mathbf{x}_i \\) and \\( \\mathbf{x}_j \\),\n",
        "- \\( \\sigma \\) (or sometimes \\( \\gamma \\)) is a parameter that defines the spread of the kernel.\n",
        "\n",
        "#### When to Use:\n",
        "- **Non-linear separability**: The RBF kernel is widely used when data is highly non-linearly separable, and there are complex patterns between the classes.\n",
        "- **Complex decision boundaries**: It is effective for problems where the decision boundary between classes is highly irregular or curved.\n",
        "\n",
        "#### Pros:\n",
        "- **Flexibility and power**: The RBF kernel can handle very complex, non-linear relationships in the data, making it suitable for a wide variety of problems.\n",
        "- **Infinite-dimensional space**: It maps the data into an infinite-dimensional space, which allows for complex decision boundaries.\n",
        "- **Widely used**: It is the most commonly used kernel due to its ability to handle a wide range of non-linear problems.\n",
        "\n",
        "#### Cons:\n",
        "- **Computationally expensive**: The RBF kernel can be computationally expensive, especially when there are many data points and/or high-dimensional data.\n",
        "- **Sensitive to \\( \\sigma \\) or \\( \\gamma \\)**: The kernel's performance is highly sensitive to the choice of the \\( \\sigma \\) (or \\( \\gamma \\)) parameter. If this parameter is not tuned properly, it can lead to underfitting (when \\( \\sigma \\) is too large) or overfitting (when \\( \\sigma \\) is too small).\n",
        "- **Difficult to interpret**: The resulting decision boundaries can be hard to interpret, especially in higher-dimensional spaces.\n",
        "\n",
        "---\n",
        "\n",
        "### Comparison Summary:\n",
        "\n",
        "| **Kernel Type**       | **Equation**                                        | **When to Use**                          | **Pros**                                                      | **Cons**                                                      |\n",
        "|-----------------------|-----------------------------------------------------|------------------------------------------|--------------------------------------------------------------|--------------------------------------------------------------|\n",
        "| **Linear Kernel**      | \\( K(\\mathbf{x}_i, \\mathbf{x}_j) = \\mathbf{x}_i^T \\mathbf{x}_j \\) | Linearly separable data                  | Simple, fast, and efficient for linearly separable data        | Only works for linear relationships                           |\n",
        "| **Polynomial Kernel**  | \\( K(\\mathbf{x}_i, \\mathbf{x}_j) = (\\mathbf{x}_i^T \\mathbf{x}_j + c)^d \\) | Data with polynomial relationships        | Flexible and can handle polynomial relationships                | Can be computationally expensive, prone to overfitting with high degree \\(d\\) |\n",
        "| **RBF Kernel**         | \\( K(\\mathbf{x}_i, \\mathbf{x}_j) = \\exp\\left(-\\frac{\\|\\mathbf{x}_i - \\mathbf{x}_j\\|^2}{2\\sigma^2}\\right) \\) | Highly non-linearly separable data       | Very powerful and flexible, works well in high-dimensional spaces | Computationally expensive, sensitive to the choice of \\( \\gamma \\) |\n",
        "\n",
        "### Conclusion:\n",
        "\n",
        "- **Linear Kernel** is best for simple, linearly separable data where no transformation is needed.\n",
        "- **Polynomial Kernel** is useful for data that follows polynomial relationships but can be computationally expensive and sensitive to parameters.\n",
        "- **RBF Kernel** is the most flexible and widely used kernel for complex, non-linearly separable data, but it can be computationally expensive and requires careful tuning of hyperparameters like \\( \\gamma \\).\n",
        "\n",
        "In practice, the choice of kernel depends on the nature of the data and the problem at hand, and it's often beneficial to experiment with different kernels and tune the parameters to achieve the best results."
      ],
      "metadata": {
        "id": "C6espSowdoxV"
      }
    },
    {
      "cell_type": "markdown",
      "source": [
        "###QUES.10 What is the effect of the C parameter in SVM?"
      ],
      "metadata": {
        "id": "3iGWiG16d7rm"
      }
    },
    {
      "cell_type": "markdown",
      "source": [
        "###ANS.10 The **C parameter** in Support Vector Machines (SVM) plays a crucial role in controlling the **trade-off between achieving a low error on the training data** and ensuring that the model **generalizes well** to unseen data. It is a regularization parameter that influences the **complexity** of the model and the **margin size** in SVM.\n",
        "\n",
        "### Mathematical Role of C:\n",
        "\n",
        "The C parameter appears in the SVM optimization problem and is part of the objective function. When solving the SVM optimization problem, the goal is to maximize the margin between the classes while minimizing classification errors. The objective function in SVM is formulated as:\n",
        "\n",
        "\\[\n",
        "\\min_{\\mathbf{w}, b} \\frac{1}{2} \\|\\mathbf{w}\\|^2 + C \\sum_{i=1}^{n} \\xi_i\n",
        "\\]\n",
        "\n",
        "Where:\n",
        "- \\( \\mathbf{w} \\) and \\( b \\) are the parameters defining the decision hyperplane.\n",
        "- \\( \\xi_i \\) are the slack variables, which represent the degree to which each data point violates the margin (i.e., the points that are misclassified or lie inside the margin).\n",
        "- \\( C \\) is the regularization parameter that controls the penalty on these violations.\n",
        "\n",
        "### Effect of C:\n",
        "\n",
        "1. **Large C (high penalty for misclassification)**:\n",
        "   - A **large value of C** forces the model to minimize the **training error** as much as possible, meaning that the model will try to fit the training data as perfectly as possible.\n",
        "   - The model will place less emphasis on the margin and more on minimizing the slack variables \\( \\xi_i \\). This means that the model will allow fewer misclassifications, even if it results in a **narrower margin**.\n",
        "   - **Risk of overfitting**: When C is too large, the SVM may overfit the training data, especially if there is noise or outliers. The model might perfectly separate the training data but perform poorly on unseen data (low generalization).\n",
        "   \n",
        "   In other words, a large \\( C \\) leads to a **complex model** that is highly influenced by individual data points and minimizes errors at the cost of flexibility.\n",
        "\n",
        "2. **Small C (low penalty for misclassification)**:\n",
        "   - A **small value of C** allows the model to tolerate more misclassifications (i.e., larger slack variables), focusing more on maximizing the **margin** rather than minimizing training errors.\n",
        "   - The model will be more **flexible**, allowing for a **wider margin**, and will not be overly influenced by outliers or noise in the training data.\n",
        "   - **Risk of underfitting**: If C is too small, the model may not fit the training data well and could underfit. It may fail to capture important patterns in the data, leading to poor performance on both the training set and the test set.\n",
        "   \n",
        "   A small \\( C \\) results in a **simpler model** that may not perfectly classify the training data but could generalize better to unseen data.\n",
        "\n",
        "### Visualizing the Effect of C:\n",
        "- **High C (Large penalty for errors)**: The SVM will create a **smaller margin** with fewer misclassifications. However, this can lead to overfitting if there is noise in the data.\n",
        "- **Low C (Small penalty for errors)**: The SVM will create a **larger margin**, allowing more misclassifications but potentially leading to better generalization to new data.\n",
        "\n",
        "### Practical Considerations:\n",
        "- **Tuning C**: The value of C must be tuned carefully. If \\( C \\) is too large, you risk overfitting, but if it's too small, you risk underfitting. Typically, \\( C \\) is tuned using **cross-validation** or a **grid search** over a range of values to find the optimal balance between bias and variance.\n",
        "  \n",
        "- **Relation to Overfitting and Underfitting**:\n",
        "  - A **larger C** leads to **lower bias** but **higher variance**, meaning the model is more likely to memorize the training data (overfit).\n",
        "  - A **smaller C** leads to **higher bias** but **lower variance**, meaning the model might generalize better but fail to capture the complexities of the training data.\n",
        "\n",
        "### Summary of the Effect of C:\n",
        "\n",
        "| **C Value**         | **Bias** | **Variance** | **Model Behavior**                                              |\n",
        "|---------------------|----------|--------------|------------------------------------------------------------------|\n",
        "| **Large C**         | Low      | High         | The model tries to fit the training data perfectly (low bias) but may overfit and generalize poorly (high variance). |\n",
        "| **Small C**         | High     | Low          | The model is more flexible and allows for some misclassification (higher bias), but it may generalize better to unseen data (lower variance). |\n",
        "\n",
        "### Conclusion:\n",
        "\n",
        "The **C parameter** in SVM controls the trade-off between **fitting the training data** and **maximizing the margin** for better generalization. A larger C focuses on minimizing training errors (leading to a more complex model), while a smaller C allows for more misclassifications but could result in a simpler, more generalizable model. Proper tuning of \\( C \\) is essential to achieve the right balance between underfitting and overfitting."
      ],
      "metadata": {
        "id": "8Hq79wSNeDYK"
      }
    },
    {
      "cell_type": "markdown",
      "source": [
        "###QUES.11 What is the role of the Gamma parameter in RBF Kernel SVM?"
      ],
      "metadata": {
        "id": "woM-PTlGeQKf"
      }
    },
    {
      "cell_type": "markdown",
      "source": [
        "###ANS.11 The **Gamma (γ) parameter** in the **Radial Basis Function (RBF) kernel** for Support Vector Machines (SVM) plays a critical role in defining the **shape and flexibility** of the decision boundary, as it controls the **influence** of each data point in the decision-making process.\n",
        "\n",
        "In the context of the RBF kernel, gamma is used to calculate the similarity between data points, and its value directly impacts how much influence a single training point has on the decision boundary.\n",
        "\n",
        "### Mathematical Definition of Gamma in RBF Kernel\n",
        "\n",
        "The RBF kernel computes the similarity between two data points \\( \\mathbf{x}_i \\) and \\( \\mathbf{x}_j \\) using the squared Euclidean distance between them:\n",
        "\n",
        "\\[\n",
        "K(\\mathbf{x}_i, \\mathbf{x}_j) = \\exp\\left(-\\frac{\\|\\mathbf{x}_i - \\mathbf{x}_j\\|^2}{2 \\gamma^2}\\right)\n",
        "\\]\n",
        "\n",
        "Where:\n",
        "- \\( \\|\\mathbf{x}_i - \\mathbf{x}_j\\|^2 \\) is the squared Euclidean distance between the two data points \\( \\mathbf{x}_i \\) and \\( \\mathbf{x}_j \\),\n",
        "- \\( \\gamma \\) (Gamma) is the parameter that controls the **width** of the Gaussian function.\n",
        "\n",
        "### Role of Gamma (γ):\n",
        "\n",
        "The value of **gamma** determines the **extent of the influence** of each data point on the decision boundary. More specifically, gamma controls how far the influence of a single training point reaches:\n",
        "\n",
        "1. **Large Gamma (High Value of γ)**:\n",
        "   - **Effect on the Model**: When \\( \\gamma \\) is large, the kernel function becomes more sensitive to the distance between points. In this case, the influence of each data point is **localized** and only affects nearby points. Essentially, the decision boundary will be **highly sensitive** to the specific points and can result in **complex and tightly fitting decision boundaries**.\n",
        "   - **Risk of Overfitting**: A very large value of gamma can lead to a model that **overfits** the training data. This is because the model will try to fit the decision boundary very closely to the data points, leading to a complex boundary that might not generalize well to unseen data.\n",
        "   \n",
        "   - **Behavior**: The model becomes more likely to classify points very specifically, even if they are outliers or noise, which reduces the ability to generalize.\n",
        "\n",
        "2. **Small Gamma (Low Value of γ)**:\n",
        "   - **Effect on the Model**: When \\( \\gamma \\) is small, the kernel function's influence is more **spread out**, meaning that a larger region of the input space is affected by each training point. This results in a **smoother decision boundary**, as the model is less sensitive to individual data points.\n",
        "   - **Risk of Underfitting**: A very small value of gamma can lead to **underfitting**. This happens because the decision boundary becomes too simple and fails to capture the underlying patterns in the data. The model might be too general, and as a result, it may not perform well on the training set or the test set.\n",
        "\n",
        "   - **Behavior**: The model may not differentiate enough between classes and fail to capture the complexity of the data.\n",
        "\n",
        "### Visualizing the Effect of Gamma:\n",
        "\n",
        "- **High Gamma**: A high value of gamma causes the decision boundary to be **very wavy and close** to the training data points. The decision boundary may zigzag around the data points, resulting in an overly complex model that fits the training data well but does not generalize to new data.\n",
        "- **Low Gamma**: A low value of gamma causes the decision boundary to be **smooth and less complex**, leading to a simpler, more generalizable model but possibly failing to capture the complexities of the training data.\n",
        "\n",
        "### Example:\n",
        "\n",
        "1. **Large Gamma (e.g., \\( \\gamma = 10 \\))**:\n",
        "   - The decision boundary will be **tight around the data points**, and the SVM will focus heavily on correctly classifying individual points, especially those that are close to the margin.\n",
        "   - This can result in **overfitting**, where the model captures too much noise and detail from the training data.\n",
        "\n",
        "2. **Small Gamma (e.g., \\( \\gamma = 0.1 \\))**:\n",
        "   - The decision boundary will be **broader and smoother**, and the SVM will focus more on the general structure of the data rather than the exact locations of individual points.\n",
        "   - This can result in **underfitting**, where the model is too simple and may fail to accurately classify points, especially if the data has complex relationships.\n",
        "\n",
        "### Gamma and the Trade-Off Between Bias and Variance:\n",
        "\n",
        "- **Large Gamma**:\n",
        "   - **Bias**: Low bias (model fits the training data well).\n",
        "   - **Variance**: High variance (model is sensitive to small changes in the data and overfits).\n",
        "   \n",
        "- **Small Gamma**:\n",
        "   - **Bias**: High bias (model fails to capture the complexity of the data).\n",
        "   - **Variance**: Low variance (model is simpler and generalizes better, but may underfit).\n",
        "\n",
        "### Tuning Gamma:\n",
        "\n",
        "- The optimal value of gamma depends on the **data** and the **specific problem** you are solving. You can use techniques like **cross-validation** or **grid search** to find the best value of gamma that balances bias and variance.\n",
        "- The value of gamma is often chosen in conjunction with the **C parameter** (regularization parameter) to achieve a good trade-off between fitting the training data and generalizing to unseen data.\n",
        "\n",
        "### Summary of Gamma’s Role:\n",
        "\n",
        "| **Gamma Value**     | **Model Behavior**                                  | **Risk**                                  | **Bias** | **Variance** |\n",
        "|---------------------|-----------------------------------------------------|-------------------------------------------|----------|--------------|\n",
        "| **Large Gamma**     | Small influence of each data point, complex decision boundary, fits training data tightly. | **Overfitting**: Model is too sensitive to noise and specific data points. | Low      | High         |\n",
        "| **Small Gamma**     | Large influence of each data point, smooth decision boundary, simpler model. | **Underfitting**: Model is too simple, may not capture data patterns. | High     | Low          |\n",
        "\n",
        "### Conclusion:\n",
        "\n",
        "- **Gamma** controls how much influence a single data point has on the decision boundary. A large gamma leads to a **tight, complex decision boundary** that may overfit the data, while a small gamma leads to a **smoother decision boundary** that may underfit the data.\n",
        "- Proper **tuning of gamma** is crucial to balance the trade-off between bias and variance and to ensure that the SVM model generalizes well to unseen data."
      ],
      "metadata": {
        "id": "6YKRQz27ej-3"
      }
    },
    {
      "cell_type": "markdown",
      "source": [
        "###QUES.12 What is the Naïve Bayes classifier, and why is it called \"Naïve\"?\n"
      ],
      "metadata": {
        "id": "5Jw0ywQXeo1O"
      }
    },
    {
      "cell_type": "markdown",
      "source": [
        "###ANS.12 The **Naïve Bayes classifier** is a **probabilistic machine learning algorithm** based on **Bayes' Theorem**, used for classification tasks. It is particularly known for its simplicity and efficiency, especially when dealing with large datasets.\n",
        "\n",
        "The classifier works by calculating the **probability** of different classes based on the features of the data and then assigns the class with the highest probability to a new data point. It assumes that the features used for classification are **conditionally independent** given the class label, which is where the \"naïve\" part comes from.\n",
        "\n",
        "### Bayes' Theorem:\n",
        "\n",
        "Bayes' Theorem describes the relationship between conditional probabilities. It is given by:\n",
        "\n",
        "\\[\n",
        "P(C_k | X) = \\frac{P(X | C_k) P(C_k)}{P(X)}\n",
        "\\]\n",
        "\n",
        "Where:\n",
        "- \\(P(C_k | X)\\) is the **posterior probability** of class \\(C_k\\) given the features \\(X\\).\n",
        "- \\(P(X | C_k)\\) is the **likelihood** of observing the features \\(X\\) given class \\(C_k\\).\n",
        "- \\(P(C_k)\\) is the **prior probability** of class \\(C_k\\).\n",
        "- \\(P(X)\\) is the **evidence** or the total probability of the features \\(X\\), which normalizes the result.\n",
        "\n",
        "### How the Naïve Bayes Classifier Works:\n",
        "\n",
        "1. **Assume independence**: The key assumption in Naïve Bayes is that the features are **conditionally independent** given the class label. This means that the probability of observing the data features can be written as the product of the individual probabilities for each feature:\n",
        "\n",
        "\\[\n",
        "P(X | C_k) = P(x_1 | C_k) P(x_2 | C_k) \\dots P(x_n | C_k)\n",
        "\\]\n",
        "\n",
        "Where:\n",
        "- \\(x_1, x_2, ..., x_n\\) are the individual features of the data point.\n",
        "\n",
        "2. **Calculate class probabilities**: Using Bayes' Theorem and the independence assumption, the Naïve Bayes classifier computes the posterior probability for each class:\n",
        "\n",
        "\\[\n",
        "P(C_k | X) \\propto P(C_k) \\prod_{i=1}^{n} P(x_i | C_k)\n",
        "\\]\n",
        "\n",
        "3. **Classify**: The algorithm then selects the class \\(C_k\\) with the highest posterior probability:\n",
        "\n",
        "\\[\n",
        "\\hat{C} = \\arg\\max_{C_k} \\left( P(C_k) \\prod_{i=1}^{n} P(x_i | C_k) \\right)\n",
        "\\]\n",
        "\n",
        "The class with the highest probability is assigned to the new data point.\n",
        "\n",
        "### Why is it Called \"Naïve\"?\n",
        "\n",
        "The \"Naïve\" part of **Naïve Bayes** comes from the **strong assumption** of **feature independence**. In real-world datasets, features are often correlated or dependent on each other, but the Naïve Bayes classifier assumes that each feature is independent of the others, given the class label.\n",
        "\n",
        "For example, if you're classifying emails as spam or not spam based on words in the email, Naïve Bayes assumes that the presence of each word is independent of the others, given whether the email is spam or not. In reality, however, some words might appear together more often (e.g., \"free\" and \"money\"), and their presence might be correlated, but Naïve Bayes ignores that.\n",
        "\n",
        "Despite this simplifying assumption of independence being unrealistic in many cases, **Naïve Bayes often performs surprisingly well**, especially when the dataset is large or when the independence assumption is roughly true for most features.\n",
        "\n",
        "### Types of Naïve Bayes Classifiers:\n",
        "\n",
        "There are different types of Naïve Bayes classifiers depending on the type of data (discrete or continuous):\n",
        "\n",
        "1. **Multinomial Naïve Bayes**: Used for discrete features, often used for text classification tasks where features are word counts or frequencies.\n",
        "   \n",
        "2. **Gaussian Naïve Bayes**: Used when the features are continuous. It assumes that the features follow a **Gaussian distribution** (normal distribution).\n",
        "   \n",
        "3. **Bernoulli Naïve Bayes**: Used for binary/Boolean features (e.g., presence or absence of a feature).\n",
        "\n",
        "### Advantages of Naïve Bayes:\n",
        "\n",
        "- **Simplicity**: The algorithm is easy to understand and implement.\n",
        "- **Efficiency**: Naïve Bayes is computationally efficient, especially with large datasets.\n",
        "- **Works well with categorical data**: It handles categorical features (like text classification) very well.\n",
        "- **Good for high-dimensional data**: It's effective in scenarios where the number of features is large, such as text classification.\n",
        "- **Fast training**: It has a fast training process and works well even with small datasets.\n",
        "\n",
        "### Disadvantages of Naïve Bayes:\n",
        "\n",
        "- **Independence assumption**: The main drawback is the assumption that features are independent. This can be unrealistic in many real-world scenarios.\n",
        "- **Zero probability problem**: If a feature value never appears in the training set for a given class, the model assigns zero probability to that class. This is typically handled by techniques like **Laplace smoothing**.\n",
        "- **Performance**: While Naïve Bayes is fast and efficient, its performance can degrade if the independence assumption is severely violated.\n",
        "\n",
        "### Example:\n",
        "\n",
        "Imagine you have a dataset of emails with the features \"contains 'free'\" and \"contains 'money'.\" If you're trying to classify whether an email is spam or not, Naïve Bayes would calculate the probability of the email being spam or not, based on the presence or absence of these words, assuming the two features are independent.\n",
        "\n",
        "### Conclusion:\n",
        "\n",
        "The **Naïve Bayes classifier** is a **simple, probabilistic classification model** that uses Bayes' Theorem with an assumption of conditional independence between features. It is called \"Naïve\" because of this simplifying assumption, which, while unrealistic in many cases, still allows the algorithm to perform quite well in practice, especially when the independence assumption is approximately true or when the dataset is large."
      ],
      "metadata": {
        "id": "-hUEMVOVfKL4"
      }
    },
    {
      "cell_type": "markdown",
      "source": [
        "###QUES.13 What is Bayes’ Theorem?"
      ],
      "metadata": {
        "id": "vJkllJYwfaue"
      }
    },
    {
      "cell_type": "markdown",
      "source": [
        "###ANS.13  **Bayes' Theorem** is a fundamental theorem in probability theory that describes how to update the probability of a hypothesis (or event) based on new evidence. It relates the conditional and marginal probabilities of random events, allowing you to revise your predictions as new data becomes available.\n",
        "\n",
        "Bayes' Theorem is named after **Thomas Bayes**, an 18th-century statistician, and it provides a way to calculate the **posterior probability** of an event, given prior knowledge and new evidence.\n",
        "\n",
        "### The Formula for Bayes' Theorem:\n",
        "\n",
        "The mathematical formulation of Bayes' Theorem is:\n",
        "\n",
        "\\[\n",
        "P(A | B) = \\frac{P(B | A) P(A)}{P(B)}\n",
        "\\]\n",
        "\n",
        "Where:\n",
        "- \\( P(A | B) \\) is the **posterior probability**: the probability of event \\( A \\) occurring given that event \\( B \\) has occurred.\n",
        "- \\( P(B | A) \\) is the **likelihood**: the probability of observing event \\( B \\) given that event \\( A \\) is true.\n",
        "- \\( P(A) \\) is the **prior probability**: the initial probability of event \\( A \\) before observing the evidence \\( B \\).\n",
        "- \\( P(B) \\) is the **evidence** or **marginal probability**: the total probability of event \\( B \\), which can be calculated as the sum of the likelihood of \\( B \\) under all possible conditions.\n",
        "\n",
        "### Intuitive Explanation:\n",
        "\n",
        "Bayes' Theorem provides a method for **updating** your belief about a hypothesis \\( A \\) after you observe some new evidence \\( B \\). The **prior probability** \\( P(A) \\) represents your initial belief about \\( A \\) before seeing the evidence, while the **likelihood** \\( P(B | A) \\) gives the probability of observing the evidence if the hypothesis is true. The theorem allows you to combine these values and obtain an updated (posterior) probability \\( P(A | B) \\) that takes the new evidence into account.\n",
        "\n",
        "### Example:\n",
        "\n",
        "Suppose you're a doctor trying to diagnose whether a patient has a particular disease. You have the following information:\n",
        "- \\( P(D) \\): The prior probability that a person has the disease is 1% (i.e., 1 out of 100 people).\n",
        "- \\( P(S | D) \\): The probability that a person with the disease shows a specific symptom is 80% (i.e., 80% of people with the disease have this symptom).\n",
        "- \\( P(S) \\): The probability that a person shows the symptom, regardless of whether they have the disease, is 20%.\n",
        "\n",
        "Now, if the patient shows the symptom, you can use Bayes' Theorem to calculate the probability that the patient actually has the disease:\n",
        "\n",
        "\\[\n",
        "P(D | S) = \\frac{P(S | D) P(D)}{P(S)}\n",
        "\\]\n",
        "\n",
        "Substituting the values:\n",
        "\n",
        "\\[\n",
        "P(D | S) = \\frac{(0.80) (0.01)}{0.20} = 0.04\n",
        "\\]\n",
        "\n",
        "So, the probability that the patient has the disease, given that they have the symptom, is **4%**.\n",
        "\n",
        "### Why Use Bayes' Theorem?\n",
        "\n",
        "Bayes' Theorem is widely used in statistics, machine learning, and decision theory for the following reasons:\n",
        "\n",
        "1. **Updating beliefs**: It allows you to update your probability estimate for an event as you gather new evidence.\n",
        "2. **Handling uncertainty**: Bayes' Theorem is particularly useful in situations where uncertainty is involved and you need to refine predictions as new data comes in.\n",
        "3. **Decision making**: It helps make more informed decisions by providing a framework for considering both prior knowledge and new evidence.\n",
        "4. **Foundations for many models**: Many classification algorithms (like Naïve Bayes) and statistical models are built upon Bayes' Theorem.\n",
        "\n",
        "### Key Concepts:\n",
        "\n",
        "1. **Prior Probability** (\\( P(A) \\)): The initial belief about an event or hypothesis before new evidence is observed.\n",
        "   \n",
        "2. **Likelihood** (\\( P(B | A) \\)): The probability of observing the evidence (B) given that the hypothesis (A) is true.\n",
        "\n",
        "3. **Posterior Probability** (\\( P(A | B) \\)): The updated belief about the hypothesis (A) after observing the evidence (B).\n",
        "\n",
        "4. **Marginal Probability** (\\( P(B) \\)): The total probability of observing the evidence (B) across all possible hypotheses.\n",
        "\n",
        "### Summary:\n",
        "\n",
        "Bayes' Theorem provides a way to **update your knowledge** about a hypothesis as new evidence becomes available. It helps to revise predictions based on prior information and current observations, making it a powerful tool in probabilistic reasoning, decision-making, and machine learning tasks."
      ],
      "metadata": {
        "id": "IGV7kD7HflTe"
      }
    },
    {
      "cell_type": "markdown",
      "source": [
        "###QUES.14 Explain the differences between Gaussian Naïve Bayes, Multinomial Naïve Bayes, and Bernoulli Naïve Bayes:"
      ],
      "metadata": {
        "id": "8FTEptv7gDgu"
      }
    },
    {
      "cell_type": "markdown",
      "source": [
        "###ANS.14 The **Naïve Bayes classifier** is a family of probabilistic classifiers based on **Bayes' Theorem**, and it assumes that the features are **conditionally independent** given the class label. There are different variants of the Naïve Bayes classifier, each suited for different types of data. The three most commonly used variants are:\n",
        "\n",
        "1. **Gaussian Naïve Bayes**\n",
        "2. **Multinomial Naïve Bayes**\n",
        "3. **Bernoulli Naïve Bayes**\n",
        "\n",
        "Each variant makes different assumptions about how the features (or attributes) of the data are distributed. Let's break down the differences between these three types:\n",
        "\n",
        "### 1. **Gaussian Naïve Bayes (GNB)**\n",
        "\n",
        "#### Assumption:\n",
        "- **Gaussian Naïve Bayes** assumes that the features are **continuous** and follow a **Gaussian (normal) distribution**. This means that for each class, the distribution of each feature is modeled as a normal distribution with a mean and standard deviation specific to that class.\n",
        "  \n",
        "#### Formula:\n",
        "For each feature \\( x_i \\) in the data, the probability of observing \\( x_i \\) given the class \\( C_k \\) is modeled as a **Gaussian distribution**:\n",
        "\\[\n",
        "P(x_i | C_k) = \\frac{1}{\\sqrt{2\\pi \\sigma_k^2}} \\exp\\left(-\\frac{(x_i - \\mu_k)^2}{2\\sigma_k^2}\\right)\n",
        "\\]\n",
        "Where:\n",
        "- \\( \\mu_k \\) is the mean of the feature \\( x_i \\) for class \\( C_k \\),\n",
        "- \\( \\sigma_k^2 \\) is the variance of the feature \\( x_i \\) for class \\( C_k \\).\n",
        "\n",
        "#### When to Use:\n",
        "- **Continuous data**: Suitable for problems where the features are continuous (e.g., heights, weights, or any measurements that are real-valued).\n",
        "  \n",
        "#### Example:\n",
        "- Predicting whether a patient has a certain disease based on continuous features like blood pressure, age, or cholesterol levels.\n",
        "\n",
        "---\n",
        "\n",
        "### 2. **Multinomial Naïve Bayes (MNB)**\n",
        "\n",
        "#### Assumption:\n",
        "- **Multinomial Naïve Bayes** is used when the features are **discrete** and represent counts or frequencies of events. The most common use case is **text classification**, where the features represent word counts or word frequencies.\n",
        "  \n",
        "#### Formula:\n",
        "Given that the features represent counts, the likelihood of observing a word \\( x_i \\) given the class \\( C_k \\) is modeled as a **multinomial distribution**:\n",
        "\\[\n",
        "P(x_i | C_k) = \\frac{(N_{ik} + \\alpha)}{(N_k + \\alpha \\cdot V)}\n",
        "\\]\n",
        "Where:\n",
        "- \\( N_{ik} \\) is the count of feature \\( x_i \\) (e.g., the count of a word) in class \\( C_k \\),\n",
        "- \\( N_k \\) is the total count of all features (e.g., total word count) in class \\( C_k \\),\n",
        "- \\( V \\) is the vocabulary size (total number of unique features/words),\n",
        "- \\( \\alpha \\) is a smoothing parameter (often Laplace smoothing).\n",
        "\n",
        "#### When to Use:\n",
        "- **Discrete data with counts**: This model is typically used for text classification or when dealing with other types of data where the features are counts (e.g., number of occurrences of certain events).\n",
        "  \n",
        "#### Example:\n",
        "- **Text classification**: Classifying documents into categories based on word frequencies or counts (e.g., classifying emails as spam or not spam based on word counts).\n",
        "\n",
        "---\n",
        "\n",
        "### 3. **Bernoulli Naïve Bayes (BNB)**\n",
        "\n",
        "#### Assumption:\n",
        "- **Bernoulli Naïve Bayes** is used when the features are **binary** (i.e., they take only two possible values, usually 0 or 1). This variant assumes that each feature represents the presence or absence of a particular attribute, and the model is based on a **Bernoulli distribution**.\n",
        "\n",
        "#### Formula:\n",
        "For each feature \\( x_i \\), the probability of observing \\( x_i = 1 \\) (presence of the feature) given the class \\( C_k \\) is modeled as:\n",
        "\\[\n",
        "P(x_i | C_k) = P(x_i = 1 | C_k)^{x_i} (1 - P(x_i = 1 | C_k))^{1 - x_i}\n",
        "\\]\n",
        "Where:\n",
        "- \\( P(x_i = 1 | C_k) \\) is the probability of feature \\( x_i \\) being present in class \\( C_k \\),\n",
        "- \\( x_i \\) is the binary value indicating whether the feature is present (1) or absent (0).\n",
        "\n",
        "#### When to Use:\n",
        "- **Binary features**: This model is used when the features are binary, i.e., they represent the presence or absence of something (e.g., whether a word appears in a document or not).\n",
        "  \n",
        "#### Example:\n",
        "- **Document classification** where the presence or absence of certain keywords is used as features to classify text (e.g., whether an email is spam or not, based on the presence of certain words like \"free\", \"offer\", etc.).\n",
        "\n",
        "---\n",
        "\n",
        "### Summary of Differences:\n",
        "\n",
        "| **Variant**               | **Feature Type**         | **Distribution Assumption**                 | **Typical Use Case**                                  |\n",
        "|---------------------------|--------------------------|----------------------------------------------|------------------------------------------------------|\n",
        "| **Gaussian Naïve Bayes**   | Continuous               | Gaussian (normal) distribution               | Continuous features (e.g., height, weight, temperature)|\n",
        "| **Multinomial Naïve Bayes**| Discrete (counts)        | Multinomial distribution (counts/frequencies) | Text classification (word counts or frequencies)      |\n",
        "| **Bernoulli Naïve Bayes**  | Binary (0 or 1)          | Bernoulli distribution (binary outcomes)     | Binary features (presence/absence of attributes)     |\n",
        "\n",
        "### Choosing the Right Model:\n",
        "- **Gaussian Naïve Bayes** is best when the features are continuous and assumed to follow a normal distribution.\n",
        "- **Multinomial Naïve Bayes** is ideal for **count-based** features (e.g., word counts in text classification).\n",
        "- **Bernoulli Naïve Bayes** is used when the features are binary (e.g., word presence or absence in text classification).\n",
        "\n",
        "Understanding the type of data you're working with is crucial for choosing the appropriate Naïve Bayes variant."
      ],
      "metadata": {
        "id": "VcgWhkE2gMrP"
      }
    },
    {
      "cell_type": "markdown",
      "source": [
        "###QUES.15 When should you use Gaussian Naïve Bayes over other variants?\n"
      ],
      "metadata": {
        "id": "YKQio3uvghK9"
      }
    },
    {
      "cell_type": "markdown",
      "source": [
        "###ANS.15 You should use **Gaussian Naïve Bayes** (GNB) over other variants like **Multinomial Naïve Bayes (MNB)** or **Bernoulli Naïve Bayes (BNB)** when:\n",
        "\n",
        "### 1. **Features are Continuous and Follow a Gaussian Distribution**\n",
        "   - **Gaussian Naïve Bayes** assumes that the features are continuous and follow a **normal (Gaussian) distribution**. If your data consists of continuous numerical features (e.g., age, height, temperature, or financial data), and these features are approximately **normally distributed** for each class, then Gaussian Naïve Bayes is a natural choice.\n",
        "\n",
        "   **Example:**\n",
        "   - Predicting whether a customer will default on a loan based on continuous variables like income, loan amount, credit score, etc., that follow a normal distribution.\n",
        "\n",
        "### 2. **When the Data is Not Discrete or Binary**\n",
        "   - **Multinomial Naïve Bayes** works well with discrete **count-based data** (like word frequencies in text classification), and **Bernoulli Naïve Bayes** is best for binary data (presence/absence of features). If your features are **continuous**, then **Gaussian Naïve Bayes** is more appropriate than these variants, which are tailored for discrete or binary data.\n",
        "\n",
        "   **Example:**\n",
        "   - In cases where your features are measurements (like weight, height, etc.) and are not counts or binary values.\n",
        "\n",
        "### 3. **If You Believe the Features are Normally Distributed within Each Class**\n",
        "   - Gaussian Naïve Bayes works well when you can reasonably assume that the features follow a **normal distribution**. If you expect the values of your features (given the class) to cluster around a mean with a certain standard deviation, then GNB will model this well.\n",
        "   \n",
        "   **Example:**\n",
        "   - Predicting the probability of an event (e.g., disease diagnosis) based on continuous clinical measurements that are likely to be normally distributed within each class.\n",
        "\n",
        "### 4. **In Situations with Small Data**\n",
        "   - **Gaussian Naïve Bayes** is often more **robust** to small datasets compared to other models. Since it only estimates the mean and variance of each feature for each class (which are easy to calculate), it doesn’t require a lot of data to work well. This is beneficial in scenarios where data may be limited.\n",
        "\n",
        "   **Example:**\n",
        "   - When you have a small sample size for a particular class or category but still need to classify new data.\n",
        "\n",
        "### 5. **When You Need a Simple, Fast, and Interpretable Model**\n",
        "   - Gaussian Naïve Bayes is computationally efficient, easy to implement, and interpretable. The model’s simplicity makes it a good option when you need fast results or a model that you can explain easily. It’s especially suitable for **baseline models** when you want a quick comparison to more complex models.\n",
        "\n",
        "   **Example:**\n",
        "   - Building a quick, interpretable model for exploratory analysis, or as a baseline model before trying more complex classifiers.\n",
        "\n",
        "---\n",
        "\n",
        "### When **NOT** to Use Gaussian Naïve Bayes:\n",
        "\n",
        "- **When your features are not continuous or not approximately normally distributed**:\n",
        "   If your data is **discrete** (like counts or categories) or **binary** (like presence/absence of a feature), **Multinomial Naïve Bayes** or **Bernoulli Naïve Bayes** would be more appropriate than Gaussian Naïve Bayes.\n",
        "  \n",
        "  **Example:**\n",
        "   - Text classification where features are the counts or frequencies of words (use **Multinomial Naïve Bayes**).\n",
        "   - Binary classification with features representing whether certain events or words occur (use **Bernoulli Naïve Bayes**).\n",
        "\n",
        "- **If the features are highly skewed or have outliers**:\n",
        "   If your features do not follow a **normal distribution**, or have significant **skewness** or **outliers**, then Gaussian Naïve Bayes might not perform well, since it heavily relies on the assumption that the data follows a normal distribution. In such cases, you might want to explore other models that do not assume this, like decision trees, random forests, or support vector machines (SVM).\n",
        "\n",
        "---\n",
        "\n",
        "### Summary:\n",
        "Use **Gaussian Naïve Bayes** when:\n",
        "- Your features are continuous.\n",
        "- The features approximately follow a **normal distribution**.\n",
        "- You need a **simple, interpretable, and fast** model.\n",
        "- Your dataset is small and you want a model that works well with limited data.\n",
        "\n",
        "If your data is **discrete**, **count-based**, or **binary**, then **Multinomial Naïve Bayes** or **Bernoulli Naïve Bayes** might be more appropriate."
      ],
      "metadata": {
        "id": "Wwyrp9wtgqPK"
      }
    },
    {
      "cell_type": "markdown",
      "source": [
        "###QUES.16 What are the key assumptions made by Naïve Bayes?"
      ],
      "metadata": {
        "id": "0qBxdqP2g-tD"
      }
    },
    {
      "cell_type": "markdown",
      "source": [
        "###ANS.16 The **Naïve Bayes** classifier is based on a few key **assumptions** that simplify the classification process. Understanding these assumptions helps clarify why the model works well in certain scenarios and might struggle in others. Here are the key assumptions made by Naïve Bayes:\n",
        "\n",
        "### 1. **Conditional Independence of Features Given the Class**\n",
        "   - The most important assumption in Naïve Bayes is that the features are **conditionally independent** given the class label.\n",
        "   - **What it means**: For a given class label, the presence or absence of a feature is assumed to be independent of the presence or absence of any other feature. In other words, the features do not influence each other once the class label is known.\n",
        "   \n",
        "   **Example**:\n",
        "   - If you're classifying an email as \"spam\" or \"not spam,\" Naïve Bayes assumes that the presence of the word \"free\" in the email is independent of the presence of the word \"offer,\" given the class label (\"spam\" or \"not spam\"). This is clearly an oversimplification, as in reality, certain words may often occur together, but the model ignores these correlations.\n",
        "\n",
        "### 2. **The Class Conditional Distributions are Known**\n",
        "   - Naïve Bayes assumes that the **conditional distribution of each feature** given the class is known. This means that for each feature \\( x_i \\), we know the distribution of \\( x_i \\) for each class \\( C_k \\). For example, in **Gaussian Naïve Bayes**, this distribution is assumed to be Gaussian (normal), whereas in **Multinomial Naïve Bayes**, the distribution is assumed to be multinomial.\n",
        "   \n",
        "   **Example**:\n",
        "   - For Gaussian Naïve Bayes, you assume that the features (e.g., height, age) within each class follow a normal (Gaussian) distribution, with their own mean and variance for each class.\n",
        "   \n",
        "### 3. **The Features are Conditioned on the Class Label**\n",
        "   - The model assumes that **each feature** (or attribute) is dependent only on the **class label**, and not on any other feature. This means that while the features may be correlated in reality, the Naïve Bayes classifier assumes that each feature contributes independently to the likelihood of a class.\n",
        "   \n",
        "   **Example**:\n",
        "   - In a spam email classifier, if the email contains both \"free\" and \"offer,\" Naïve Bayes assumes that the likelihood of the email being spam due to \"free\" is independent of the likelihood of it being spam due to \"offer\" (given the spam class).\n",
        "\n",
        "### 4. **Class Conditional Independence Does Not Account for Inter-feature Dependencies**\n",
        "   - This assumption implies that Naïve Bayes doesn't account for **interdependencies** between features. In practice, this can lead to suboptimal performance when there are **strong correlations** or **dependencies** between features.\n",
        "   \n",
        "   **Example**:\n",
        "   - If two features are highly correlated, such as \"wet ground\" and \"raining,\" Naïve Bayes treats them as independent, which may lead to less accurate predictions compared to models that can capture feature dependencies, like decision trees or support vector machines (SVM).\n",
        "\n",
        "### 5. **The Prior Probabilities of Classes are Known**\n",
        "   - Naïve Bayes requires the **prior probabilities** of each class (i.e., how likely each class is before seeing any data). These priors are typically estimated from the training data by calculating the proportion of each class.\n",
        "   \n",
        "   **Example**:\n",
        "   - In spam detection, the prior probability of an email being spam is calculated as the fraction of spam emails in the training dataset.\n",
        "\n",
        "### 6. **Feature Relevance Is Assumed**\n",
        "   - The Naïve Bayes classifier assumes that all features are **equally relevant** when making predictions. It doesn’t give any special weight to any specific feature, which can be limiting if some features are more important than others for classification.\n",
        "   \n",
        "   **Example**:\n",
        "   - If you're classifying emails as spam or not spam, Naïve Bayes treats every word equally, even though some words (e.g., \"free\" or \"limited-time offer\") might be much stronger indicators of spam than others (e.g., \"and\" or \"the\").\n",
        "\n",
        "---\n",
        "\n",
        "### Summary of Key Assumptions in Naïve Bayes:\n",
        "\n",
        "1. **Conditional Independence**: Features are independent given the class label.\n",
        "2. **Class Conditional Distributions**: The distribution of each feature is known and typically follows a specific distribution (e.g., Gaussian or multinomial).\n",
        "3. **Feature Conditioning**: Features depend only on the class label, not on each other.\n",
        "4. **Inter-feature Dependencies Ignored**: Naïve Bayes does not account for relationships or dependencies between features.\n",
        "5. **Prior Probabilities**: The prior probabilities of each class are known or can be estimated.\n",
        "6. **Equal Feature Relevance**: All features are assumed to be equally important in the classification.\n",
        "\n",
        "### Why \"Naïve\"?\n",
        "The model is called \"naïve\" because it makes the **unrealistic** assumption of **conditional independence** between features. In reality, many features are likely to be correlated with each other, and ignoring these correlations can lead to suboptimal performance. Despite this, Naïve Bayes often works surprisingly well, especially in high-dimensional spaces like text classification, where the conditional independence assumption can often be a reasonable approximation."
      ],
      "metadata": {
        "id": "VYHd5ROmhITT"
      }
    },
    {
      "cell_type": "markdown",
      "source": [
        "###QUES.17 What are the advantages and disadvantages of Naïve Bayes?\n"
      ],
      "metadata": {
        "id": "IOseXJQGhYyh"
      }
    },
    {
      "cell_type": "markdown",
      "source": [
        "###ANS.17 The **Naïve Bayes** classifier is a simple and effective probabilistic model that is widely used for classification tasks. However, like any model, it has its strengths and weaknesses. Below are the key **advantages** and **disadvantages** of the Naïve Bayes algorithm.\n",
        "\n",
        "### **Advantages of Naïve Bayes**\n",
        "\n",
        "1. **Simple and Fast**:\n",
        "   - Naïve Bayes is relatively easy to implement and computationally efficient. It can be trained and tested very quickly, making it an attractive choice for large datasets and real-time applications.\n",
        "\n",
        "2. **Works Well with High-Dimensional Data**:\n",
        "   - Naïve Bayes is especially effective when dealing with high-dimensional data, such as in **text classification** (e.g., spam detection, sentiment analysis). For example, in text classification, each word can be treated as a feature, and Naïve Bayes handles large feature spaces efficiently.\n",
        "\n",
        "3. **Performs Well with Small Datasets**:\n",
        "   - The model is less prone to overfitting when the dataset is small, especially when the number of features is large. This is because it makes strong independence assumptions, which can simplify the learning process and prevent the model from becoming overly complex.\n",
        "\n",
        "4. **Handles Missing Data Well**:\n",
        "   - Naïve Bayes can perform well even if some of the features are missing, as it calculates probabilities for each feature independently. If a feature value is missing for a given instance, the classifier simply omits it in the calculation without much impact on the result.\n",
        "\n",
        "5. **Interpretable**:\n",
        "   - Naïve Bayes is interpretable because it provides the **probabilities** of each class, which allows users to understand how the model arrives at its decision. This makes it easy to explain predictions to stakeholders.\n",
        "\n",
        "6. **Works Well with Binary and Multi-class Classification**:\n",
        "   - Naïve Bayes can be used for both binary classification (e.g., spam vs. not spam) and multi-class classification problems (e.g., classifying text into multiple categories).\n",
        "\n",
        "7. **Good Performance with Text Data**:\n",
        "   - Naïve Bayes is particularly well-suited for text classification problems, especially when the features are binary or represent counts of occurrences (e.g., word frequencies), as in **Multinomial Naïve Bayes**.\n",
        "\n",
        "---\n",
        "\n",
        "### **Disadvantages of Naïve Bayes**\n",
        "\n",
        "1. **Strong Independence Assumption (Conditional Independence)**:\n",
        "   - The most significant disadvantage of Naïve Bayes is its assumption that all features are **conditionally independent**, given the class label. In real-world data, features are often correlated, and this assumption can lead to suboptimal performance if the features are highly dependent on each other.\n",
        "\n",
        "   **Example**:\n",
        "   - In spam classification, words like \"offer\" and \"free\" often appear together in spam emails. Naïve Bayes assumes that these words are independent, which may not always be true and can hurt performance.\n",
        "\n",
        "2. **Limited to Known Distributions**:\n",
        "   - Naïve Bayes assumes that the data follows specific distributions (e.g., Gaussian for **Gaussian Naïve Bayes**, multinomial for **Multinomial Naïve Bayes**, or Bernoulli for **Bernoulli Naïve Bayes**). If the data does not follow the assumed distribution, the model's accuracy can suffer.\n",
        "\n",
        "3. **Poor Performance with Highly Correlated Features**:\n",
        "   - If there are highly correlated features, Naïve Bayes might not perform well because it treats each feature as independent, ignoring any interdependencies between them. This can reduce the model’s ability to capture important patterns in the data.\n",
        "\n",
        "4. **Difficulty with Numerical Data**:\n",
        "   - Naïve Bayes can struggle with **numerical data** that does not follow a Gaussian distribution. While Gaussian Naïve Bayes assumes a normal distribution for continuous features, if the actual data is skewed or has outliers, this assumption can lead to poor performance.\n",
        "\n",
        "5. **Sensitivity to Imbalanced Data**:\n",
        "   - Naïve Bayes can be sensitive to imbalanced datasets, where one class is much more prevalent than the other. In such cases, the model may become biased toward the majority class, resulting in inaccurate predictions for the minority class. Techniques like **class weighting** or **oversampling** can help, but the model may still perform poorly if class imbalances are extreme.\n",
        "\n",
        "6. **Assumption of Feature Relevance**:\n",
        "   - Naïve Bayes assumes that all features are **equally relevant** for classification. In many real-world applications, however, some features may be much more important than others. More complex models (e.g., decision trees, random forests, or SVMs) may be able to better account for feature importance.\n",
        "\n",
        "7. **Not Suitable for Regression Problems**:\n",
        "   - Naïve Bayes is designed for classification tasks, not regression. While it can be adapted for regression using techniques like **Gaussian Naïve Bayes** with continuous data, it is not inherently suited for predicting continuous numerical values.\n",
        "\n",
        "---\n",
        "\n",
        "### **Summary of Advantages and Disadvantages**\n",
        "\n",
        "| **Advantages**                                       | **Disadvantages**                                    |\n",
        "|------------------------------------------------------|------------------------------------------------------|\n",
        "| Simple and fast to implement and train               | Assumes conditional independence of features         |\n",
        "| Works well with high-dimensional and sparse data     | Sensitive to highly correlated features              |\n",
        "| Performs well with small datasets                    | Limited to known distributions (Gaussian, Multinomial, etc.) |\n",
        "| Can handle missing data                              | May perform poorly with skewed or outlier-prone data |\n",
        "| Easily interpretable (provides probabilities)        | Poor performance on imbalanced datasets              |\n",
        "| Well-suited for binary and multi-class classification| Assumes equal feature relevance (no feature weighting) |\n",
        "| Great for text classification (e.g., spam detection) | Not suited for regression problems                   |\n",
        "\n",
        "### **When to Use Naïve Bayes**:\n",
        "- **Text classification tasks**, such as spam filtering, sentiment analysis, and document categorization.\n",
        "- When you have **high-dimensional data** with **many features** (e.g., in text classification, where the number of words can be very large).\n",
        "- **Simple and fast baseline models** when you need a quick solution to compare with more complex models.\n",
        "- Situations where you have **small datasets** and want a model that is less prone to overfitting.\n",
        "\n",
        "### **When to Avoid Naïve Bayes**:\n",
        "- If your features are **strongly correlated**, Naïve Bayes may not perform well.\n",
        "- If your data does not follow the **assumed distributions** (e.g., Gaussian for continuous data or multinomial for text data).\n",
        "- When dealing with **imbalanced datasets**, especially when the class imbalance is extreme.\n",
        "\n",
        "In practice, Naïve Bayes can often perform surprisingly well, even with its simplifying assumptions, especially for tasks like text classification. However, it's important to understand the model's limitations and consider using more complex models when necessary."
      ],
      "metadata": {
        "id": "_cRMU0u_hiQu"
      }
    },
    {
      "cell_type": "markdown",
      "source": [
        "###QUES.18 Why is Naïve Bayes a good choice for text classification?\n"
      ],
      "metadata": {
        "id": "ImxdDSQlhz_A"
      }
    },
    {
      "cell_type": "markdown",
      "source": [
        "###ANS.18 **Naïve Bayes** is a popular choice for **text classification** tasks due to several reasons that align well with the characteristics of text data. Here’s why Naïve Bayes works well for text classification:\n",
        "\n",
        "### 1. **High Dimensionality of Text Data**\n",
        "   - **Text data** typically has **high-dimensional feature spaces**, meaning each document or piece of text can have many features (e.g., individual words or n-grams). Naïve Bayes is efficient at handling high-dimensional data, making it particularly useful when you have a large number of features (like vocabulary size in text data).\n",
        "   - For example, in **document classification**, each unique word (or sequence of words) in a document becomes a feature. Even with thousands or millions of words, Naïve Bayes can still perform well due to its simplicity and efficiency.\n",
        "\n",
        "### 2. **Works Well with Sparse Data**\n",
        "   - **Text data is often sparse**, meaning most of the features (words) in a document may not appear in most other documents. Naïve Bayes works effectively with sparse datasets because it independently considers the presence (or absence) of each word in the document, without being influenced by the absence of other words.\n",
        "   - **Example**: If you have a dataset of news articles, most articles won’t use all words in the vocabulary, making it sparse. Naïve Bayes can still perform well because it doesn’t require all features (words) to be present.\n",
        "\n",
        "### 3. **Simple and Fast**\n",
        "   - Naïve Bayes is computationally efficient, requiring minimal time to train and classify documents. Text classification tasks, such as **spam detection** or **sentiment analysis**, often involve large datasets, and the speed of Naïve Bayes makes it a great choice for handling such tasks efficiently.\n",
        "   - This is particularly useful for real-time applications where fast predictions are required, such as classifying incoming emails as spam or not.\n",
        "\n",
        "### 4. **Conditional Independence Assumption Works Well for Text**\n",
        "   - In text classification, the **conditional independence assumption** of Naïve Bayes (where each word is assumed to contribute independently to the likelihood of the class) is often a reasonable approximation. While words in a document are often correlated, treating them as independent features works surprisingly well in practice.\n",
        "   - For instance, in a spam classification task, even though certain words (like “free” and “offer”) may often appear together, Naïve Bayes treats them independently and still produces a reliable classification model.\n",
        "\n",
        "### 5. **Effective for Multi-class Classification**\n",
        "   - Naïve Bayes is inherently well-suited for **multi-class classification** tasks. In text classification, you often need to classify documents into multiple categories (e.g., topics such as politics, sports, and entertainment). Naïve Bayes works well in these multi-class scenarios because it models the probability of each class and selects the class with the highest probability.\n",
        "\n",
        "### 6. **Handles Unseen Words (With Smoothing)**\n",
        "   - In text classification, new documents may contain words that were not present in the training data. **Laplace smoothing** (or additive smoothing) can be applied to Naïve Bayes to handle **unseen words** (i.e., words that didn’t appear in the training set).\n",
        "   - For example, in **Multinomial Naïve Bayes**, when calculating probabilities of words, a small constant is added to avoid zero probability for unseen words. This ensures that the model can still make predictions even when encountering new vocabulary.\n",
        "\n",
        "### 7. **Works Well with Binary and Count Features**\n",
        "   - Text classification often involves **binary features** (e.g., whether a word appears or not in a document) or **count-based features** (e.g., the frequency of a word in a document). Naïve Bayes handles these types of features naturally:\n",
        "     - **Bernoulli Naïve Bayes** is used when features are binary (word presence/absence).\n",
        "     - **Multinomial Naïve Bayes** is used when features are counts (word frequencies).\n",
        "\n",
        "   This makes Naïve Bayes ideal for tasks like **spam detection**, where you look for the presence or frequency of certain keywords in the email.\n",
        "\n",
        "### 8. **Interpretable and Probabilistic**\n",
        "   - Naïve Bayes provides **probabilistic outputs**, meaning it gives the probability that a given document belongs to each class. This is useful for text classification tasks where you might want to not only predict a class label (e.g., spam or not spam) but also understand how confident the model is in that prediction.\n",
        "   - The model's **simplicity** also makes it highly interpretable: the contribution of each feature (word) to the classification decision can be easily understood and explained.\n",
        "\n",
        "---\n",
        "\n",
        "### Example Use Cases in Text Classification:\n",
        "1. **Spam Filtering**:\n",
        "   - In a spam detection task, words like \"free\", \"offer\", and \"limited-time\" are common in spam emails. Naïve Bayes can use these words to classify new emails based on their occurrence.\n",
        "\n",
        "2. **Sentiment Analysis**:\n",
        "   - Naïve Bayes can classify movie reviews, tweets, or other text into categories like positive, negative, or neutral based on the words that appear in the text.\n",
        "\n",
        "3. **Topic Categorization**:\n",
        "   - In news article categorization, Naïve Bayes can classify articles into different topics (e.g., politics, sports, technology) by learning the likelihood of words associated with each topic.\n",
        "\n",
        "4. **Language Detection**:\n",
        "   - Naïve Bayes can be used to classify text based on the language it’s written in by learning which words are more likely to appear in different languages.\n",
        "\n",
        "---\n",
        "\n",
        "### Summary: Why Naïve Bayes is Good for Text Classification\n",
        "- **Efficient for high-dimensional, sparse data**: Text data typically has many features (words), and Naïve Bayes works well with such data.\n",
        "- **Simple and fast**: It is computationally efficient and easy to train, making it suitable for large datasets.\n",
        "- **Effective with count and binary features**: It works well with features like word frequencies or binary word presence, common in text classification tasks.\n",
        "- **Good performance with the conditional independence assumption**: While this assumption is often unrealistic, it works surprisingly well in text classification, where features (words) are somewhat independent.\n",
        "- **Probabilistic output**: Naïve Bayes not only provides class labels but also the probabilities, making it interpretable and useful for applications needing probabilistic predictions.\n",
        "  \n",
        "These factors make Naïve Bayes a great starting point and baseline model for text classification problems, especially when you're dealing with large amounts of text data, such as in email filtering or sentiment analysis."
      ],
      "metadata": {
        "id": "l8Ic9fpliYvc"
      }
    },
    {
      "cell_type": "markdown",
      "source": [
        "###QUES.19 Compare SVM and Naïve Bayes for classification tasks:"
      ],
      "metadata": {
        "id": "ocE63_Nwilxi"
      }
    },
    {
      "cell_type": "markdown",
      "source": [
        "###ANS.19 Support Vector Machines (SVM) and Naïve Bayes are both popular algorithms for classification tasks, but they differ significantly in their approach, assumptions, and performance characteristics. Here's a detailed comparison:\n",
        "\n",
        "### 1. **Model Type**\n",
        "- **SVM (Support Vector Machine):**\n",
        "  - SVM is a **discriminative** model, meaning it focuses on finding the decision boundary that best separates classes in the feature space. It tries to find the **hyperplane** that maximizes the margin between classes, which is the distance between the closest data points (support vectors) of each class.\n",
        "  \n",
        "- **Naïve Bayes:**\n",
        "  - Naïve Bayes is a **generative** model, meaning it models the joint probability distribution of the features and the classes. It makes the assumption that the features are conditionally independent given the class label, which simplifies the calculation of probabilities.\n",
        "\n",
        "### 2. **Mathematical Foundation**\n",
        "- **SVM:**\n",
        "  - SVM is based on **optimization** theory. It solves a quadratic optimization problem to find the optimal hyperplane. The idea is to maximize the margin between the classes while minimizing classification error. The model can use **kernels** to transform non-linear problems into a higher-dimensional space where a linear separation might be possible.\n",
        "  \n",
        "- **Naïve Bayes:**\n",
        "  - Naïve Bayes is based on **Bayes' theorem**, and the \"naïve\" assumption is that the features are independent given the class. It computes the posterior probability of each class using the likelihood of the features given the class and the prior probabilities of the classes. The class with the highest posterior probability is chosen as the predicted class.\n",
        "\n",
        "### 3. **Assumptions**\n",
        "- **SVM:**\n",
        "  - SVM makes **no assumptions** about the underlying distribution of the data. It works well even when the data does not follow a specific distribution (e.g., Gaussian distribution).\n",
        "\n",
        "- **Naïve Bayes:**\n",
        "  - Naïve Bayes assumes that **features are conditionally independent** given the class. This assumption is often unrealistic in real-world data, but the model still tends to perform well even if this assumption is violated.\n",
        "\n",
        "### 4. **Performance with High-Dimensional Data**\n",
        "- **SVM:**\n",
        "  - SVM can handle **high-dimensional data** effectively, especially with the use of kernel functions. It is widely used in areas like text classification and bioinformatics, where the feature space is large and sparse (e.g., TF-IDF vectors in text).\n",
        "  \n",
        "- **Naïve Bayes:**\n",
        "  - Naïve Bayes also works well with **high-dimensional data**, as it is computationally efficient and doesn’t require much training time. However, its performance can degrade if the independence assumption is severely violated.\n",
        "\n",
        "### 5. **Speed and Complexity**\n",
        "- **SVM:**\n",
        "  - **Training:** SVMs can be computationally expensive, especially with large datasets, because they involve solving a quadratic optimization problem. The complexity increases with the number of data points and features.\n",
        "  - **Prediction:** Once the model is trained, predicting is relatively fast, but it can still be slower compared to Naïve Bayes for very large datasets.\n",
        "\n",
        "- **Naïve Bayes:**\n",
        "  - **Training:** Naïve Bayes is very **fast** to train because it only requires calculating probabilities from the training data, which is computationally inexpensive.\n",
        "  - **Prediction:** Naïve Bayes is also very fast for prediction, making it ideal for applications requiring quick results.\n",
        "\n",
        "### 6. **Handling Non-Linearity**\n",
        "- **SVM:**\n",
        "  - SVM can handle **non-linear** relationships between features by using kernels (like the radial basis function (RBF) kernel). This allows SVM to create complex decision boundaries that are not restricted to linear separation.\n",
        "\n",
        "- **Naïve Bayes:**\n",
        "  - Naïve Bayes doesn’t naturally handle **non-linear** relationships well because it assumes independence between features. If the true relationship is non-linear or if features are highly correlated, Naïve Bayes may not perform well.\n",
        "\n",
        "### 7. **Outliers Sensitivity**\n",
        "- **SVM:**\n",
        "  - SVM is relatively **sensitive to outliers** because it tries to maximize the margin based on the support vectors, and outliers can distort this margin. However, using a soft margin (allowing some misclassification) can make SVM more robust to outliers.\n",
        "  \n",
        "- **Naïve Bayes:**\n",
        "  - Naïve Bayes is generally **less sensitive to outliers** because it relies on the probability distributions, but extreme outliers can still affect the model's performance, especially when they heavily influence the estimates of conditional probabilities.\n",
        "\n",
        "### 8. **Interpretability**\n",
        "- **SVM:**\n",
        "  - SVMs, especially with kernels, are often considered **less interpretable** because they create complex decision boundaries. The model is harder to explain, especially when the kernel trick is used to map data into a higher-dimensional space.\n",
        "\n",
        "- **Naïve Bayes:**\n",
        "  - Naïve Bayes is **more interpretable** because it provides clear probabilities for each class and makes it easy to understand the relationship between each feature and the target class.\n",
        "\n",
        "### 9. **Use Cases**\n",
        "- **SVM:**\n",
        "  - Best suited for problems with a **large number of features** and when the classes are not easily separable. Common applications include text classification, image classification, and bioinformatics.\n",
        "  \n",
        "- **Naïve Bayes:**\n",
        "  - Works well in situations where the features are somewhat independent and the **assumptions hold**. It is often used in **spam filtering**, document classification, and real-time predictions where speed is important.\n",
        "\n",
        "### 10. **Strengths and Weaknesses**\n",
        "- **SVM Strengths:**\n",
        "  - Handles high-dimensional data well.\n",
        "  - Effective in non-linear problems (with kernel trick).\n",
        "  - Robust in finding a good decision boundary.\n",
        "  \n",
        "- **SVM Weaknesses:**\n",
        "  - Computationally expensive for large datasets.\n",
        "  - Sensitive to outliers.\n",
        "  - Requires careful parameter tuning (e.g., regularization, kernel choice).\n",
        "\n",
        "- **Naïve Bayes Strengths:**\n",
        "  - Simple and fast to train.\n",
        "  - Works well with small datasets and high-dimensional feature spaces.\n",
        "  - Robust to irrelevant features.\n",
        "  \n",
        "- **Naïve Bayes Weaknesses:**\n",
        "  - Assumes independence between features, which is often unrealistic.\n",
        "  - Performance degrades when the independence assumption is violated.\n",
        "  \n",
        "### Conclusion:\n",
        "- **SVM** is a powerful and flexible algorithm, especially suited for complex and non-linear classification tasks but may be computationally expensive for large datasets.\n",
        "- **Naïve Bayes**, on the other hand, is simpler and faster, making it a good choice for problems where the independence assumption is reasonable, or for real-time prediction tasks.\n",
        "\n",
        "The choice between SVM and Naïve Bayes depends on the dataset characteristics and the specific task requirements."
      ],
      "metadata": {
        "id": "NJl50pdVivBK"
      }
    },
    {
      "cell_type": "markdown",
      "source": [
        "###QUES.20 How does Laplace Smoothing help in Naïve Bayes?\n"
      ],
      "metadata": {
        "id": "aXWGtV2JjBkv"
      }
    },
    {
      "cell_type": "markdown",
      "source": [
        "###ANS.20 **Laplace Smoothing** (also known as **additive smoothing**) is a technique used in **Naïve Bayes** to address the issue of **zero probabilities** in the probability estimates when certain feature-class combinations are absent in the training data.\n",
        "\n",
        "Here’s how Laplace Smoothing helps in Naïve Bayes:\n",
        "\n",
        "### 1. **Handling Zero Probabilities**\n",
        "In Naïve Bayes, the classification process relies on calculating the conditional probabilities of the features given the class. For instance, when computing the likelihood of a feature \\(x_i\\) given a class \\(C_k\\), we estimate:\n",
        "\n",
        "\\[\n",
        "P(x_i | C_k) = \\frac{\\text{count}(x_i, C_k)}{\\text{count}(C_k)}\n",
        "\\]\n",
        "\n",
        "However, if a feature \\(x_i\\) doesn't appear in the training data for a particular class \\(C_k\\), the probability \\(P(x_i | C_k)\\) becomes zero. This can severely affect the prediction since any feature with a zero probability would cause the product of all probabilities to become zero, leading to incorrect predictions.\n",
        "\n",
        "### 2. **Laplace Smoothing Formula**\n",
        "Laplace smoothing modifies the probability estimation to ensure that no probability is exactly zero. It does this by adding a small constant (usually 1) to the numerator and adjusting the denominator accordingly. The formula with Laplace smoothing is:\n",
        "\n",
        "\\[\n",
        "P(x_i | C_k) = \\frac{\\text{count}(x_i, C_k) + 1}{\\text{count}(C_k) + V}\n",
        "\\]\n",
        "\n",
        "Where:\n",
        "- **count(x_i, C_k)** is the frequency of feature \\(x_i\\) in class \\(C_k\\),\n",
        "- **count(C_k)** is the total count of all features for class \\(C_k\\),\n",
        "- **V** is the total number of possible distinct features (the vocabulary size).\n",
        "\n",
        "### 3. **Why Laplace Smoothing Helps**\n",
        "- **Avoiding Zero Probabilities:** The main benefit of Laplace smoothing is that it ensures every feature has a non-zero probability, even if it didn't appear in the training data for a particular class. This prevents the problem where a missing feature leads to a zero probability, which would invalidate the entire likelihood calculation.\n",
        "  \n",
        "- **Improved Generalization:** Laplace smoothing helps to generalize the model better by slightly \"smoothing\" the probability estimates. This can be especially helpful when working with small datasets or sparse data, where some feature-class combinations might not appear in the training set but could still appear in unseen test data.\n",
        "\n",
        "- **Better Performance with Rare Features:** In real-world datasets, some features may appear rarely. Laplace smoothing ensures that even rare features are given a small, non-zero probability, which is important for making reliable predictions, especially in applications like text classification (e.g., in spam filtering or sentiment analysis).\n",
        "\n",
        "### Example:\n",
        "Imagine you're building a Naïve Bayes classifier for spam email classification. You have the following:\n",
        "\n",
        "- **Training Data:** You have 1000 emails, 400 of which are spam and 600 are not spam.\n",
        "- **Vocabulary:** There are 500 unique words in your dataset.\n",
        "- Now, suppose the word \"win\" does not appear in any of the emails labeled as \"not spam.\" Without Laplace smoothing, the probability of \"win\" occurring given \"not spam\" would be zero.\n",
        "\n",
        "By applying Laplace smoothing, you would add 1 to the count of \"win\" in the \"not spam\" emails, which ensures that it gets a small probability instead of zero. This helps avoid misclassification of future emails with the word \"win.\"\n",
        "\n",
        "### Conclusion:\n",
        "Laplace smoothing is a simple but effective technique that ensures all feature probabilities are non-zero, leading to more robust Naïve Bayes models, especially when dealing with unseen data or sparse features. It is widely used in Naïve Bayes classification, particularly in text classification tasks where certain words may be absent in training data but appear in test data."
      ],
      "metadata": {
        "id": "bQmqqSf8jTu4"
      }
    },
    {
      "cell_type": "markdown",
      "source": [
        "#Practical Questions<"
      ],
      "metadata": {
        "id": "tY8cD86ljctD"
      }
    },
    {
      "cell_type": "markdown",
      "source": [
        "###QUES.21 Write a Python program to train an SVM Classifier on the Iris dataset and evaluate accuracy:"
      ],
      "metadata": {
        "id": "ieuBgMGHj_jh"
      }
    },
    {
      "cell_type": "code",
      "source": [
        "\n",
        "\n",
        "from sklearn.model_selection import train_test_split\n",
        "from sklearn.svm import SVC\n",
        "from sklearn.metrics import accuracy_score\n",
        "from sklearn import datasets\n",
        "\n",
        "# Load the Iris dataset\n",
        "iris = datasets.load_iris()\n",
        "X = iris.data\n",
        "y = iris.target\n",
        "\n",
        "# Split the data into training and testing sets\n",
        "X_train, X_test, y_train, y_test = train_test_split(X, y, test_size=0.3, random_state=0)\n",
        "\n",
        "# Create an SVM classifier with a linear kernel\n",
        "svm = SVC(kernel='linear')\n",
        "\n",
        "# Train the classifier\n",
        "svm.fit(X_train, y_train)\n",
        "\n",
        "# Make predictions on the test set\n",
        "y_pred = svm.predict(X_test)\n",
        "\n",
        "# Evaluate the accuracy of the classifier\n",
        "accuracy = accuracy_score(y_test, y_pred)\n",
        "print(f\"Accuracy of the SVM classifier: {accuracy}\")\n"
      ],
      "metadata": {
        "colab": {
          "base_uri": "https://localhost:8080/"
        },
        "id": "goRsgYoYAMFa",
        "outputId": "814694bd-5ef0-4832-a68c-2e888c13e68b"
      },
      "execution_count": 36,
      "outputs": [
        {
          "output_type": "stream",
          "name": "stdout",
          "text": [
            "Accuracy of the SVM classifier: 0.9777777777777777\n"
          ]
        }
      ]
    },
    {
      "cell_type": "markdown",
      "source": [
        "###QUES.22  Write a Python program to train two SVM classifiers with Linear and RBF kernels on the Wine dataset, then compare their accuracies:"
      ],
      "metadata": {
        "id": "hws7BdfVkimd"
      }
    },
    {
      "cell_type": "code",
      "source": [
        "\n",
        "\n",
        "from sklearn.model_selection import train_test_split\n",
        "from sklearn.svm import SVC\n",
        "from sklearn.metrics import accuracy_score\n",
        "from sklearn import datasets\n",
        "\n",
        "# Load the Wine dataset\n",
        "wine = datasets.load_wine()\n",
        "X = wine.data\n",
        "y = wine.target\n",
        "\n",
        "# Split the data into training and testing sets\n",
        "X_train, X_test, y_train, y_test = train_test_split(X, y, test_size=0.3, random_state=0)\n",
        "\n",
        "# Create SVM classifiers with linear and RBF kernels\n",
        "svm_linear = SVC(kernel='linear')\n",
        "svm_rbf = SVC(kernel='rbf')\n",
        "\n",
        "# Train the classifiers\n",
        "svm_linear.fit(X_train, y_train)\n",
        "svm_rbf.fit(X_train, y_train)\n",
        "\n",
        "# Make predictions on the test set\n",
        "y_pred_linear = svm_linear.predict(X_test)\n",
        "y_pred_rbf = svm_rbf.predict(X_test)\n",
        "\n",
        "# Evaluate the accuracy of the classifiers\n",
        "accuracy_linear = accuracy_score(y_test, y_pred_linear)\n",
        "accuracy_rbf = accuracy_score(y_test, y_pred_rbf)\n",
        "\n",
        "print(f\"Accuracy of the SVM classifier with linear kernel: {accuracy_linear}\")\n",
        "print(f\"Accuracy of the SVM classifier with RBF kernel: {accuracy_rbf}\")\n"
      ],
      "metadata": {
        "colab": {
          "base_uri": "https://localhost:8080/"
        },
        "id": "fu0HfNrtAchR",
        "outputId": "2451e769-2e8b-405d-ec05-dde06c682356"
      },
      "execution_count": 35,
      "outputs": [
        {
          "output_type": "stream",
          "name": "stdout",
          "text": [
            "Accuracy of the SVM classifier with linear kernel: 0.9814814814814815\n",
            "Accuracy of the SVM classifier with RBF kernel: 0.7777777777777778\n"
          ]
        }
      ]
    },
    {
      "cell_type": "markdown",
      "source": [
        "###QUES.23 Write a Python program to train an SVM Regressor (SVR) on a housing dataset and evaluate it using Mean Squared Error (MSE):"
      ],
      "metadata": {
        "id": "L73ja15Uk3rH"
      }
    },
    {
      "cell_type": "code",
      "source": [
        "import numpy as np\n",
        "import pandas as pd\n",
        "from sklearn.model_selection import train_test_split\n",
        "from sklearn.svm import SVR\n",
        "from sklearn.metrics import mean_squared_error\n",
        "from sklearn.preprocessing import StandardScaler\n",
        "\n",
        "# Load the housing dataset (for demonstration purposes, we're using a random dataset)\n",
        "# In practice, you would load a real housing dataset, e.g., from sklearn.datasets or a CSV file\n",
        "# Example: housing_data = pd.read_csv('path_to_housing_dataset.csv')\n",
        "\n",
        "# For this demonstration, we generate some synthetic data\n",
        "# Let's assume the data has the following columns: 'Feature1', 'Feature2', ..., 'Price'\n",
        "# In a real case, you would replace this with actual data.\n",
        "np.random.seed(42)\n",
        "X = np.random.rand(100, 2)  # 100 samples, 2 features (e.g., square footage and number of rooms)\n",
        "y = X[:, 0] * 50 + X[:, 1] * 30 + np.random.randn(100) * 10  # Price target (some function of features with noise)\n",
        "\n",
        "# Split the data into training and test sets\n",
        "X_train, X_test, y_train, y_test = train_test_split(X, y, test_size=0.2, random_state=42)\n",
        "\n",
        "# Feature scaling - Standardize features to have zero mean and unit variance (important for SVR)\n",
        "scaler_X = StandardScaler()\n",
        "scaler_y = StandardScaler()\n",
        "\n",
        "X_train_scaled = scaler_X.fit_transform(X_train)\n",
        "X_test_scaled = scaler_X.transform(X_test)\n",
        "y_train_scaled = scaler_y.fit_transform(y_train.reshape(-1, 1)).flatten()\n",
        "y_test_scaled = scaler_y.transform(y_test.reshape(-1, 1)).flatten()\n",
        "\n",
        "# Initialize the SVR model\n",
        "svr = SVR(kernel='rbf', C=100, epsilon=0.1)\n",
        "\n",
        "# Train the SVR model\n",
        "svr.fit(X_train_scaled, y_train_scaled)\n",
        "\n",
        "# Make predictions\n",
        "y_pred_scaled = svr.predict(X_test_scaled)\n",
        "\n",
        "# Inverse transform the predictions to the original scale\n",
        "y_pred = scaler_y.inverse_transform(y_pred_scaled.reshape(-1, 1)).flatten()\n",
        "y_test_original = scaler_y.inverse_transform(y_test_scaled.reshape(-1, 1)).flatten()\n",
        "\n",
        "# Evaluate the model using Mean Squared Error\n",
        "mse = mean_squared_error(y_test_original, y_pred)\n",
        "\n",
        "print(f\"Mean Squared Error (MSE): {mse}\")\n"
      ],
      "metadata": {
        "colab": {
          "base_uri": "https://localhost:8080/"
        },
        "id": "kMlF7l_mBDf6",
        "outputId": "1d5de173-8457-43ab-be8f-ce8f960c821e"
      },
      "execution_count": 34,
      "outputs": [
        {
          "output_type": "stream",
          "name": "stdout",
          "text": [
            "Mean Squared Error (MSE): 109.10102274149173\n"
          ]
        }
      ]
    },
    {
      "cell_type": "markdown",
      "source": [
        "###QUES.24 Write a Python program to train an SVM Classifier with a Polynomial Kernel and visualize the decision boundary."
      ],
      "metadata": {
        "id": "4r4LLcNzlXQs"
      }
    },
    {
      "cell_type": "code",
      "source": [
        "\n",
        "\n",
        "import matplotlib.pyplot as plt\n",
        "import numpy as np\n",
        "from sklearn import datasets\n",
        "from sklearn.svm import SVC\n",
        "from sklearn.model_selection import train_test_split\n",
        "\n",
        "# Load the Iris dataset (or any other 2-feature dataset for visualization)\n",
        "iris = datasets.load_iris()\n",
        "X = iris.data[:, :2]  # We only take the first two features for visualization\n",
        "y = iris.target\n",
        "\n",
        "# Split the dataset\n",
        "X_train, X_test, y_train, y_test = train_test_split(X, y, test_size=0.3, random_state=0)\n",
        "\n",
        "# Create an SVM classifier with a polynomial kernel\n",
        "svm = SVC(kernel='poly', degree=3, C=1.0) # Example parameters; adjust as needed\n",
        "\n",
        "# Train the classifier\n",
        "svm.fit(X_train, y_train)\n",
        "\n",
        "\n",
        "# Create a meshgrid for plotting the decision boundary\n",
        "x_min, x_max = X[:, 0].min() - 1, X[:, 0].max() + 1\n",
        "y_min, y_max = X[:, 1].min() - 1, X[:, 1].max() + 1\n",
        "xx, yy = np.meshgrid(np.arange(x_min, x_max, 0.02), np.arange(y_min, y_max, 0.02))\n",
        "\n",
        "# Predict the class for each point in the meshgrid\n",
        "Z = svm.predict(np.c_[xx.ravel(), yy.ravel()])\n",
        "Z = Z.reshape(xx.shape)\n",
        "\n",
        "# Plot the decision boundary and the data points\n",
        "plt.contourf(xx, yy, Z, alpha=0.4)\n",
        "plt.scatter(X[:, 0], X[:, 1], c=y, edgecolors='k')\n",
        "plt.xlabel('Sepal length')\n",
        "plt.ylabel('Sepal width')\n",
        "plt.title('SVM with Polynomial Kernel (Decision Boundary)')\n",
        "plt.show()\n"
      ],
      "metadata": {
        "colab": {
          "base_uri": "https://localhost:8080/",
          "height": 472
        },
        "id": "N7kKApMJBN9Y",
        "outputId": "865cba17-a5d8-4c50-f15a-0b636a780858"
      },
      "execution_count": 33,
      "outputs": [
        {
          "output_type": "display_data",
          "data": {
            "text/plain": [
              "<Figure size 640x480 with 1 Axes>"
            ],
            "image/png": "[encoded data removed]"
          },
          "metadata": {}
        }
      ]
    },
    {
      "cell_type": "markdown",
      "source": [
        "###QUES.25 Write a Python program to train a Gaussian Naïve Bayes classifier on the Breast Cancer dataset and evaluate accuracy:"
      ],
      "metadata": {
        "id": "671191L1BTkt"
      }
    },
    {
      "cell_type": "code",
      "source": [
        "\n",
        "\n",
        "from sklearn.naive_bayes import GaussianNB\n",
        "from sklearn.datasets import load_breast_cancer\n",
        "from sklearn.model_selection import train_test_split\n",
        "from sklearn.metrics import accuracy_score\n",
        "\n",
        "# Load the Breast Cancer dataset\n",
        "data = load_breast_cancer()\n",
        "X, y = data.data, data.target\n",
        "\n",
        "# Split data into training and testing sets\n",
        "X_train, X_test, y_train, y_test = train_test_split(X, y, test_size=0.2, random_state=42)\n",
        "\n",
        "# Initialize and train the Gaussian Naïve Bayes classifier\n",
        "gnb = GaussianNB()\n",
        "gnb.fit(X_train, y_train)\n",
        "\n",
        "# Make predictions on the test set\n",
        "y_pred = gnb.predict(X_test)\n",
        "\n",
        "# Evaluate the accuracy of the classifier\n",
        "accuracy = accuracy_score(y_test, y_pred)\n",
        "print(f\"Accuracy of the Gaussian Naïve Bayes classifier: {accuracy}\")\n"
      ],
      "metadata": {
        "colab": {
          "base_uri": "https://localhost:8080/"
        },
        "id": "g3NmcGF1C8U_",
        "outputId": "9d5e5ea7-be55-4783-f24c-f8dcea74d457"
      },
      "execution_count": 32,
      "outputs": [
        {
          "output_type": "stream",
          "name": "stdout",
          "text": [
            "Accuracy of the Gaussian Naïve Bayes classifier: 0.9736842105263158\n"
          ]
        }
      ]
    },
    {
      "cell_type": "markdown",
      "source": [
        "###QUES.26 Write a Python program to train a Multinomial Naïve Bayes classifier for text classification using the 20 Newsgroups dataset."
      ],
      "metadata": {
        "id": "9mtx4SWqBoPm"
      }
    },
    {
      "cell_type": "code",
      "source": [
        "\n",
        "\n",
        "from sklearn.datasets import fetch_20newsgroups\n",
        "from sklearn.feature_extraction.text import TfidfVectorizer\n",
        "from sklearn.naive_bayes import MultinomialNB\n",
        "from sklearn.pipeline import make_pipeline\n",
        "from sklearn.metrics import accuracy_score\n",
        "\n",
        "# Load the 20 Newsgroups dataset\n",
        "newsgroups_train = fetch_20newsgroups(subset='train')\n",
        "newsgroups_test = fetch_20newsgroups(subset='test')\n",
        "\n",
        "# Create a pipeline with TF-IDF vectorizer and Multinomial Naive Bayes classifier\n",
        "model = make_pipeline(TfidfVectorizer(), MultinomialNB())\n",
        "\n",
        "# Train the model\n",
        "model.fit(newsgroups_train.data, newsgroups_train.target)\n",
        "\n",
        "# Make predictions on the test set\n",
        "predicted = model.predict(newsgroups_test.data)\n",
        "\n",
        "# Evaluate the accuracy\n",
        "accuracy = accuracy_score(newsgroups_test.target, predicted)\n",
        "print(f\"Accuracy: {accuracy}\")\n"
      ],
      "metadata": {
        "colab": {
          "base_uri": "https://localhost:8080/"
        },
        "id": "JuMsgslYDFF5",
        "outputId": "615922e2-2080-4975-d459-69e0c4d60d75"
      },
      "execution_count": 31,
      "outputs": [
        {
          "output_type": "stream",
          "name": "stdout",
          "text": [
            "Accuracy: 0.7738980350504514\n"
          ]
        }
      ]
    },
    {
      "cell_type": "markdown",
      "source": [
        "###QUES.27 Write a Python program to train an SVM Classifier with different C values and compare the decision boundaries visually."
      ],
      "metadata": {
        "id": "ezVJ0x_HB0Wl"
      }
    },
    {
      "cell_type": "code",
      "source": [
        "\n",
        "\n",
        "import matplotlib.pyplot as plt\n",
        "import numpy as np\n",
        "from sklearn import datasets\n",
        "from sklearn.model_selection import train_test_split\n",
        "from sklearn.svm import SVC\n",
        "\n",
        "# Load the Iris dataset\n",
        "iris = datasets.load_iris()\n",
        "X = iris.data[:, :2]  # Use only the first two features for visualization\n",
        "y = iris.target\n",
        "\n",
        "# Split data into training and testing sets\n",
        "X_train, X_test, y_train, y_test = train_test_split(X, y, test_size=0.3, random_state=0)\n",
        "\n",
        "# C values to test\n",
        "C_values = [0.1, 1, 10]\n",
        "\n",
        "# Create subplots for each C value\n",
        "fig, axes = plt.subplots(1, len(C_values), figsize=(15, 5))\n",
        "\n",
        "# Loop through different C values\n",
        "for i, C in enumerate(C_values):\n",
        "  # Create and train the SVM classifier\n",
        "  svm = SVC(kernel='linear', C=C)\n",
        "  svm.fit(X_train, y_train)\n",
        "\n",
        "  # Plot decision boundary\n",
        "  x_min, x_max = X[:, 0].min() - 1, X[:, 0].max() + 1\n",
        "  y_min, y_max = X[:, 1].min() - 1, X[:, 1].max() + 1\n",
        "  xx, yy = np.meshgrid(np.arange(x_min, x_max, 0.02), np.arange(y_min, y_max, 0.02))\n",
        "  Z = svm.predict(np.c_[xx.ravel(), yy.ravel()])\n",
        "  Z = Z.reshape(xx.shape)\n",
        "  axes[i].contourf(xx, yy, Z, alpha=0.4)\n",
        "\n",
        "  # Plot data points\n",
        "  axes[i].scatter(X_train[:, 0], X_train[:, 1], c=y_train, edgecolors='k')\n",
        "  axes[i].set_title(f'C = {C}')\n",
        "  axes[i].set_xlabel('Sepal length')\n",
        "  axes[i].set_ylabel('Sepal width')\n",
        "\n",
        "plt.tight_layout()\n",
        "plt.show()\n"
      ],
      "metadata": {
        "colab": {
          "base_uri": "https://localhost:8080/",
          "height": 482
        },
        "id": "CbDH5Kv4DZph",
        "outputId": "6ffac597-1560-4fd2-bcdd-faae8c467639"
      },
      "execution_count": 30,
      "outputs": [
        {
          "output_type": "display_data",
          "data": {
            "text/plain": [
              "<Figure size 1500x500 with 3 Axes>"
            ],
            "image/png": "[encoded data removed]"
          },
          "metadata": {}
        }
      ]
    },
    {
      "cell_type": "markdown",
      "source": [
        "###QUES.28 Write a Python program to train a Bernoulli Naïve Bayes classifier for binary classification on a dataset with binary features."
      ],
      "metadata": {
        "id": "zwu4q6lrCNnC"
      }
    },
    {
      "cell_type": "code",
      "source": [
        "\n",
        "\n",
        "from sklearn.naive_bayes import BernoulliNB\n",
        "from sklearn.metrics import accuracy_score\n",
        "from sklearn.model_selection import train_test_split\n",
        "import numpy as np\n",
        "\n",
        "# Generate synthetic binary data\n",
        "np.random.seed(0)\n",
        "X = np.random.randint(0, 2, size=(100, 5))  # 100 samples, 5 binary features\n",
        "y = np.random.randint(0, 2, size=100)      # Binary target variable\n",
        "\n",
        "# Split the data\n",
        "X_train, X_test, y_train, y_test = train_test_split(X, y, test_size=0.2, random_state=42)\n",
        "\n",
        "# Create and train the Bernoulli Naïve Bayes classifier\n",
        "bnb = BernoulliNB()\n",
        "bnb.fit(X_train, y_train)\n",
        "\n",
        "# Make predictions on the test set\n",
        "y_pred = bnb.predict(X_test)\n",
        "\n",
        "# Evaluate the accuracy\n",
        "accuracy = accuracy_score(y_test, y_pred)\n",
        "print(f\"Accuracy of the Bernoulli Naïve Bayes classifier: {accuracy}\")\n"
      ],
      "metadata": {
        "colab": {
          "base_uri": "https://localhost:8080/"
        },
        "id": "ES4UTa5ODkgV",
        "outputId": "40bd7e46-5fc9-4cc8-fe57-182f7aa65038"
      },
      "execution_count": 29,
      "outputs": [
        {
          "output_type": "stream",
          "name": "stdout",
          "text": [
            "Accuracy of the Bernoulli Naïve Bayes classifier: 0.75\n"
          ]
        }
      ]
    },
    {
      "cell_type": "markdown",
      "source": [
        "###QUES.29 Write a Python program to apply feature scaling before training an SVM model and compare results with unscaled data."
      ],
      "metadata": {
        "id": "ZhSPvb20Cc7E"
      }
    },
    {
      "cell_type": "code",
      "source": [
        "import numpy as np\n",
        "from sklearn.svm import SVC\n",
        "from sklearn.datasets import load_breast_cancer\n",
        "from sklearn.model_selection import train_test_split\n",
        "from sklearn.preprocessing import StandardScaler\n",
        "from sklearn.metrics import accuracy_score\n",
        "\n",
        "# Load the Breast Cancer dataset\n",
        "data = load_breast_cancer()\n",
        "X = data.data\n",
        "y = data.target\n",
        "\n",
        "# Split the dataset into training and testing sets (80% train, 20% test)\n",
        "X_train, X_test, y_train, y_test = train_test_split(X, y, test_size=0.2, random_state=42)\n",
        "\n",
        "# Initialize the SVM classifier with a linear kernel\n",
        "svm_classifier = SVC(kernel='linear', random_state=42)\n",
        "\n",
        "# Train and evaluate the model on unscaled data\n",
        "svm_classifier.fit(X_train, y_train)\n",
        "y_pred_unscaled = svm_classifier.predict(X_test)\n",
        "accuracy_unscaled = accuracy_score(y_test, y_pred_unscaled)\n",
        "\n",
        "# Apply Feature Scaling (Standardization) to the data\n",
        "scaler = StandardScaler()\n",
        "X_train_scaled = scaler.fit_transform(X_train)\n",
        "X_test_scaled = scaler.transform(X_test)\n",
        "\n",
        "# Train and evaluate the model on scaled data\n",
        "svm_classifier.fit(X_train_scaled, y_train)\n",
        "y_pred_scaled = svm_classifier.predict(X_test_scaled)\n",
        "accuracy_scaled = accuracy_score(y_test, y_pred_scaled)\n",
        "\n",
        "# Print the results\n",
        "print(f\"Accuracy with unscaled data: {accuracy_unscaled:.4f}\")\n",
        "print(f\"Accuracy with scaled data: {accuracy_scaled:.4f}\")\n"
      ],
      "metadata": {
        "id": "1UVqYCGhv-LB",
        "outputId": "de9f3d99-8cc0-40cb-92d0-9edadce0192b",
        "colab": {
          "base_uri": "https://localhost:8080/"
        }
      },
      "execution_count": 28,
      "outputs": [
        {
          "output_type": "stream",
          "name": "stdout",
          "text": [
            "Accuracy with unscaled data: 0.9561\n",
            "Accuracy with scaled data: 0.9561\n"
          ]
        }
      ]
    },
    {
      "cell_type": "markdown",
      "source": [
        "###QUES.30 Write a Python program to train a Gaussian Naïve Bayes model and compare the predictions before and after Laplace Smoothing."
      ],
      "metadata": {
        "id": "KBSsqJJjCmcv"
      }
    },
    {
      "cell_type": "code",
      "source": [
        "\n",
        "\n",
        "from sklearn.naive_bayes import GaussianNB\n",
        "from sklearn.model_selection import train_test_split\n",
        "from sklearn.metrics import accuracy_score\n",
        "from sklearn.datasets import load_iris\n",
        "import numpy as np\n",
        "\n",
        "# Load the Iris dataset\n",
        "iris = load_iris()\n",
        "X, y = iris.data, iris.target\n",
        "\n",
        "# Split data into training and testing sets\n",
        "X_train, X_test, y_train, y_test = train_test_split(X, y, test_size=0.3, random_state=42)\n",
        "\n",
        "# Train Gaussian Naïve Bayes without Laplace smoothing\n",
        "gnb_no_smoothing = GaussianNB(var_smoothing=0)  # var_smoothing=0 effectively disables Laplace smoothing\n",
        "gnb_no_smoothing.fit(X_train, y_train)\n",
        "y_pred_no_smoothing = gnb_no_smoothing.predict(X_test)\n",
        "accuracy_no_smoothing = accuracy_score(y_test, y_pred_no_smoothing)\n",
        "print(f\"Accuracy without Laplace smoothing: {accuracy_no_smoothing}\")\n",
        "\n",
        "# Train Gaussian Naïve Bayes with Laplace smoothing (default behavior)\n",
        "gnb_with_smoothing = GaussianNB()\n",
        "gnb_with_smoothing.fit(X_train, y_train)\n",
        "y_pred_with_smoothing = gnb_with_smoothing.predict(X_test)\n",
        "accuracy_with_smoothing = accuracy_score(y_test, y_pred_with_smoothing)\n",
        "print(f\"Accuracy with Laplace smoothing: {accuracy_with_smoothing}\")\n",
        "\n",
        "# Compare predictions\n",
        "print(\"\\nComparison of predictions:\")\n",
        "comparison = np.array([y_pred_no_smoothing, y_pred_with_smoothing, y_test])\n",
        "comparison.T\n"
      ],
      "metadata": {
        "id": "JSKEPklovD2t",
        "outputId": "cc780d07-37b2-4387-a0c8-83a0afd1cc00",
        "colab": {
          "base_uri": "https://localhost:8080/"
        }
      },
      "execution_count": 25,
      "outputs": [
        {
          "output_type": "stream",
          "name": "stdout",
          "text": [
            "Accuracy without Laplace smoothing: 0.9777777777777777\n",
            "Accuracy with Laplace smoothing: 0.9777777777777777\n",
            "\n",
            "Comparison of predictions:\n"
          ]
        },
        {
          "output_type": "execute_result",
          "data": {
            "text/plain": [
              "array([[1, 1, 1],\n",
              "       [0, 0, 0],\n",
              "       [2, 2, 2],\n",
              "       [1, 1, 1],\n",
              "       [1, 1, 1],\n",
              "       [0, 0, 0],\n",
              "       [1, 1, 1],\n",
              "       [2, 2, 2],\n",
              "       [1, 1, 1],\n",
              "       [1, 1, 1],\n",
              "       [2, 2, 2],\n",
              "       [0, 0, 0],\n",
              "       [0, 0, 0],\n",
              "       [0, 0, 0],\n",
              "       [0, 0, 0],\n",
              "       [2, 2, 1],\n",
              "       [2, 2, 2],\n",
              "       [1, 1, 1],\n",
              "       [1, 1, 1],\n",
              "       [2, 2, 2],\n",
              "       [0, 0, 0],\n",
              "       [2, 2, 2],\n",
              "       [0, 0, 0],\n",
              "       [2, 2, 2],\n",
              "       [2, 2, 2],\n",
              "       [2, 2, 2],\n",
              "       [2, 2, 2],\n",
              "       [2, 2, 2],\n",
              "       [0, 0, 0],\n",
              "       [0, 0, 0],\n",
              "       [0, 0, 0],\n",
              "       [0, 0, 0],\n",
              "       [1, 1, 1],\n",
              "       [0, 0, 0],\n",
              "       [0, 0, 0],\n",
              "       [2, 2, 2],\n",
              "       [1, 1, 1],\n",
              "       [0, 0, 0],\n",
              "       [0, 0, 0],\n",
              "       [0, 0, 0],\n",
              "       [2, 2, 2],\n",
              "       [1, 1, 1],\n",
              "       [1, 1, 1],\n",
              "       [0, 0, 0],\n",
              "       [0, 0, 0]])"
            ]
          },
          "metadata": {},
          "execution_count": 25
        }
      ]
    },
    {
      "cell_type": "markdown",
      "source": [
        "###QUES.31 Write a Python program to train an SVM Classifier and use GridSearchCV to tune the hyperparameters (C, gamma, kernel)."
      ],
      "metadata": {
        "id": "EJfBHciCED6h"
      }
    },
    {
      "cell_type": "code",
      "source": [
        "\n",
        "\n",
        "from sklearn.model_selection import train_test_split, GridSearchCV\n",
        "from sklearn.svm import SVC\n",
        "from sklearn.metrics import accuracy_score\n",
        "from sklearn import datasets\n",
        "\n",
        "# Load the Iris dataset\n",
        "iris = datasets.load_iris()\n",
        "X = iris.data\n",
        "y = iris.target\n",
        "\n",
        "# Split data into training and testing sets\n",
        "X_train, X_test, y_train, y_test = train_test_split(X, y, test_size=0.3, random_state=0)\n",
        "\n",
        "# Define the parameter grid for GridSearchCV\n",
        "param_grid = {\n",
        "    'C': [0.1, 1, 10, 100],\n",
        "    'gamma': [1, 0.1, 0.01, 0.001],\n",
        "    'kernel': ['rbf', 'poly', 'sigmoid']\n",
        "}\n",
        "\n",
        "# Create an SVM classifier\n",
        "svc = SVC()\n",
        "\n",
        "# Create GridSearchCV object\n",
        "grid = GridSearchCV(svc, param_grid, refit=True, verbose=3)\n",
        "\n",
        "# Fit the GridSearchCV object to the training data\n",
        "grid.fit(X_train, y_train)\n",
        "\n",
        "# Print the best parameters and best score\n",
        "print(f\"Best parameters: {grid.best_params_}\")\n",
        "print(f\"Best cross-validation score: {grid.best_score_}\")\n",
        "\n",
        "# Make predictions on the test set using the best estimator\n",
        "grid_predictions = grid.predict(X_test)\n",
        "\n",
        "# Evaluate the accuracy of the tuned classifier\n",
        "accuracy = accuracy_score(y_test, grid_predictions)\n",
        "print(f\"Accuracy of the tuned SVM classifier: {accuracy}\")\n"
      ],
      "metadata": {
        "colab": {
          "base_uri": "https://localhost:8080/"
        },
        "id": "3l5T_RLmEYqR",
        "outputId": "b0aea075-8771-4897-b8d8-f1290a97c954"
      },
      "execution_count": 24,
      "outputs": [
        {
          "output_type": "stream",
          "name": "stdout",
          "text": [
            "Fitting 5 folds for each of 48 candidates, totalling 240 fits\n",
            "[CV 1/5] END ........C=0.1, gamma=1, kernel=rbf;, score=0.952 total time=   0.0s\n",
            "[CV 2/5] END ........C=0.1, gamma=1, kernel=rbf;, score=0.952 total time=   0.0s\n",
            "[CV 3/5] END ........C=0.1, gamma=1, kernel=rbf;, score=1.000 total time=   0.0s\n",
            "[CV 4/5] END ........C=0.1, gamma=1, kernel=rbf;, score=0.905 total time=   0.0s\n",
            "[CV 5/5] END ........C=0.1, gamma=1, kernel=rbf;, score=0.952 total time=   0.0s\n",
            "[CV 1/5] END .......C=0.1, gamma=1, kernel=poly;, score=0.952 total time=   0.0s\n",
            "[CV 2/5] END .......C=0.1, gamma=1, kernel=poly;, score=1.000 total time=   0.0s\n",
            "[CV 3/5] END .......C=0.1, gamma=1, kernel=poly;, score=1.000 total time=   0.0s\n",
            "[CV 4/5] END .......C=0.1, gamma=1, kernel=poly;, score=0.905 total time=   0.0s\n",
            "[CV 5/5] END .......C=0.1, gamma=1, kernel=poly;, score=0.952 total time=   0.0s\n",
            "[CV 1/5] END ....C=0.1, gamma=1, kernel=sigmoid;, score=0.381 total time=   0.0s\n",
            "[CV 2/5] END ....C=0.1, gamma=1, kernel=sigmoid;, score=0.333 total time=   0.0s\n",
            "[CV 3/5] END ....C=0.1, gamma=1, kernel=sigmoid;, score=0.381 total time=   0.0s\n",
            "[CV 4/5] END ....C=0.1, gamma=1, kernel=sigmoid;, score=0.381 total time=   0.0s\n",
            "[CV 5/5] END ....C=0.1, gamma=1, kernel=sigmoid;, score=0.381 total time=   0.0s\n",
            "[CV 1/5] END ......C=0.1, gamma=0.1, kernel=rbf;, score=0.810 total time=   0.0s\n",
            "[CV 2/5] END ......C=0.1, gamma=0.1, kernel=rbf;, score=0.857 total time=   0.0s\n",
            "[CV 3/5] END ......C=0.1, gamma=0.1, kernel=rbf;, score=1.000 total time=   0.0s\n",
            "[CV 4/5] END ......C=0.1, gamma=0.1, kernel=rbf;, score=0.857 total time=   0.0s\n",
            "[CV 5/5] END ......C=0.1, gamma=0.1, kernel=rbf;, score=0.905 total time=   0.0s\n",
            "[CV 1/5] END .....C=0.1, gamma=0.1, kernel=poly;, score=0.857 total time=   0.0s\n",
            "[CV 2/5] END .....C=0.1, gamma=0.1, kernel=poly;, score=1.000 total time=   0.0s\n",
            "[CV 3/5] END .....C=0.1, gamma=0.1, kernel=poly;, score=1.000 total time=   0.0s\n",
            "[CV 4/5] END .....C=0.1, gamma=0.1, kernel=poly;, score=0.952 total time=   0.0s\n",
            "[CV 5/5] END .....C=0.1, gamma=0.1, kernel=poly;, score=0.952 total time=   0.0s\n",
            "[CV 1/5] END ..C=0.1, gamma=0.1, kernel=sigmoid;, score=0.381 total time=   0.0s\n",
            "[CV 2/5] END ..C=0.1, gamma=0.1, kernel=sigmoid;, score=0.333 total time=   0.0s\n",
            "[CV 3/5] END ..C=0.1, gamma=0.1, kernel=sigmoid;, score=0.381 total time=   0.0s\n",
            "[CV 4/5] END ..C=0.1, gamma=0.1, kernel=sigmoid;, score=0.381 total time=   0.0s\n",
            "[CV 5/5] END ..C=0.1, gamma=0.1, kernel=sigmoid;, score=0.381 total time=   0.0s\n",
            "[CV 1/5] END .....C=0.1, gamma=0.01, kernel=rbf;, score=0.667 total time=   0.0s\n",
            "[CV 2/5] END .....C=0.1, gamma=0.01, kernel=rbf;, score=0.667 total time=   0.0s\n",
            "[CV 3/5] END .....C=0.1, gamma=0.01, kernel=rbf;, score=0.714 total time=   0.0s\n",
            "[CV 4/5] END .....C=0.1, gamma=0.01, kernel=rbf;, score=0.714 total time=   0.0s\n",
            "[CV 5/5] END .....C=0.1, gamma=0.01, kernel=rbf;, score=0.714 total time=   0.0s\n",
            "[CV 1/5] END ....C=0.1, gamma=0.01, kernel=poly;, score=0.476 total time=   0.0s\n",
            "[CV 2/5] END ....C=0.1, gamma=0.01, kernel=poly;, score=0.619 total time=   0.0s\n",
            "[CV 3/5] END ....C=0.1, gamma=0.01, kernel=poly;, score=0.667 total time=   0.0s\n",
            "[CV 4/5] END ....C=0.1, gamma=0.01, kernel=poly;, score=0.714 total time=   0.0s\n",
            "[CV 5/5] END ....C=0.1, gamma=0.01, kernel=poly;, score=0.667 total time=   0.0s\n",
            "[CV 1/5] END .C=0.1, gamma=0.01, kernel=sigmoid;, score=0.381 total time=   0.0s\n",
            "[CV 2/5] END .C=0.1, gamma=0.01, kernel=sigmoid;, score=0.333 total time=   0.0s\n",
            "[CV 3/5] END .C=0.1, gamma=0.01, kernel=sigmoid;, score=0.381 total time=   0.0s\n",
            "[CV 4/5] END .C=0.1, gamma=0.01, kernel=sigmoid;, score=0.381 total time=   0.0s\n",
            "[CV 5/5] END .C=0.1, gamma=0.01, kernel=sigmoid;, score=0.381 total time=   0.0s\n",
            "[CV 1/5] END ....C=0.1, gamma=0.001, kernel=rbf;, score=0.381 total time=   0.0s\n",
            "[CV 2/5] END ....C=0.1, gamma=0.001, kernel=rbf;, score=0.333 total time=   0.0s\n",
            "[CV 3/5] END ....C=0.1, gamma=0.001, kernel=rbf;, score=0.381 total time=   0.0s\n",
            "[CV 4/5] END ....C=0.1, gamma=0.001, kernel=rbf;, score=0.381 total time=   0.0s\n",
            "[CV 5/5] END ....C=0.1, gamma=0.001, kernel=rbf;, score=0.381 total time=   0.0s\n",
            "[CV 1/5] END ...C=0.1, gamma=0.001, kernel=poly;, score=0.381 total time=   0.0s\n",
            "[CV 2/5] END ...C=0.1, gamma=0.001, kernel=poly;, score=0.333 total time=   0.0s\n",
            "[CV 3/5] END ...C=0.1, gamma=0.001, kernel=poly;, score=0.381 total time=   0.0s\n",
            "[CV 4/5] END ...C=0.1, gamma=0.001, kernel=poly;, score=0.381 total time=   0.0s\n",
            "[CV 5/5] END ...C=0.1, gamma=0.001, kernel=poly;, score=0.381 total time=   0.0s\n",
            "[CV 1/5] END C=0.1, gamma=0.001, kernel=sigmoid;, score=0.381 total time=   0.0s\n",
            "[CV 2/5] END C=0.1, gamma=0.001, kernel=sigmoid;, score=0.333 total time=   0.0s\n",
            "[CV 3/5] END C=0.1, gamma=0.001, kernel=sigmoid;, score=0.381 total time=   0.0s\n",
            "[CV 4/5] END C=0.1, gamma=0.001, kernel=sigmoid;, score=0.381 total time=   0.0s\n",
            "[CV 5/5] END C=0.1, gamma=0.001, kernel=sigmoid;, score=0.381 total time=   0.0s\n",
            "[CV 1/5] END ..........C=1, gamma=1, kernel=rbf;, score=0.857 total time=   0.0s\n",
            "[CV 2/5] END ..........C=1, gamma=1, kernel=rbf;, score=1.000 total time=   0.0s\n",
            "[CV 3/5] END ..........C=1, gamma=1, kernel=rbf;, score=1.000 total time=   0.0s\n",
            "[CV 4/5] END ..........C=1, gamma=1, kernel=rbf;, score=0.905 total time=   0.0s\n",
            "[CV 5/5] END ..........C=1, gamma=1, kernel=rbf;, score=0.952 total time=   0.0s\n",
            "[CV 1/5] END .........C=1, gamma=1, kernel=poly;, score=0.952 total time=   0.0s\n",
            "[CV 2/5] END .........C=1, gamma=1, kernel=poly;, score=1.000 total time=   0.0s\n",
            "[CV 3/5] END .........C=1, gamma=1, kernel=poly;, score=1.000 total time=   0.0s\n",
            "[CV 4/5] END .........C=1, gamma=1, kernel=poly;, score=0.905 total time=   0.0s\n",
            "[CV 5/5] END .........C=1, gamma=1, kernel=poly;, score=0.952 total time=   0.0s\n",
            "[CV 1/5] END ......C=1, gamma=1, kernel=sigmoid;, score=0.381 total time=   0.0s\n",
            "[CV 2/5] END ......C=1, gamma=1, kernel=sigmoid;, score=0.333 total time=   0.0s\n",
            "[CV 3/5] END ......C=1, gamma=1, kernel=sigmoid;, score=0.381 total time=   0.0s\n",
            "[CV 4/5] END ......C=1, gamma=1, kernel=sigmoid;, score=0.381 total time=   0.0s\n",
            "[CV 5/5] END ......C=1, gamma=1, kernel=sigmoid;, score=0.381 total time=   0.0s\n",
            "[CV 1/5] END ........C=1, gamma=0.1, kernel=rbf;, score=0.905 total time=   0.0s\n",
            "[CV 2/5] END ........C=1, gamma=0.1, kernel=rbf;, score=1.000 total time=   0.0s\n",
            "[CV 3/5] END ........C=1, gamma=0.1, kernel=rbf;, score=1.000 total time=   0.0s\n",
            "[CV 4/5] END ........C=1, gamma=0.1, kernel=rbf;, score=0.905 total time=   0.0s\n",
            "[CV 5/5] END ........C=1, gamma=0.1, kernel=rbf;, score=0.952 total time=   0.0s\n",
            "[CV 1/5] END .......C=1, gamma=0.1, kernel=poly;, score=0.857 total time=   0.0s\n",
            "[CV 2/5] END .......C=1, gamma=0.1, kernel=poly;, score=1.000 total time=   0.0s\n",
            "[CV 3/5] END .......C=1, gamma=0.1, kernel=poly;, score=1.000 total time=   0.0s\n",
            "[CV 4/5] END .......C=1, gamma=0.1, kernel=poly;, score=0.952 total time=   0.0s\n",
            "[CV 5/5] END .......C=1, gamma=0.1, kernel=poly;, score=0.952 total time=   0.0s\n",
            "[CV 1/5] END ....C=1, gamma=0.1, kernel=sigmoid;, score=0.381 total time=   0.0s\n",
            "[CV 2/5] END ....C=1, gamma=0.1, kernel=sigmoid;, score=0.333 total time=   0.0s\n",
            "[CV 3/5] END ....C=1, gamma=0.1, kernel=sigmoid;, score=0.381 total time=   0.0s\n",
            "[CV 4/5] END ....C=1, gamma=0.1, kernel=sigmoid;, score=0.381 total time=   0.0s\n",
            "[CV 5/5] END ....C=1, gamma=0.1, kernel=sigmoid;, score=0.381 total time=   0.0s\n",
            "[CV 1/5] END .......C=1, gamma=0.01, kernel=rbf;, score=0.857 total time=   0.0s\n",
            "[CV 2/5] END .......C=1, gamma=0.01, kernel=rbf;, score=0.952 total time=   0.0s\n",
            "[CV 3/5] END .......C=1, gamma=0.01, kernel=rbf;, score=1.000 total time=   0.0s\n",
            "[CV 4/5] END .......C=1, gamma=0.01, kernel=rbf;, score=0.905 total time=   0.0s\n",
            "[CV 5/5] END .......C=1, gamma=0.01, kernel=rbf;, score=0.905 total time=   0.0s\n",
            "[CV 1/5] END ......C=1, gamma=0.01, kernel=poly;, score=0.714 total time=   0.0s\n",
            "[CV 2/5] END ......C=1, gamma=0.01, kernel=poly;, score=0.810 total time=   0.0s\n",
            "[CV 3/5] END ......C=1, gamma=0.01, kernel=poly;, score=0.905 total time=   0.0s\n",
            "[CV 4/5] END ......C=1, gamma=0.01, kernel=poly;, score=0.905 total time=   0.0s\n",
            "[CV 5/5] END ......C=1, gamma=0.01, kernel=poly;, score=0.952 total time=   0.0s\n",
            "[CV 1/5] END ...C=1, gamma=0.01, kernel=sigmoid;, score=0.667 total time=   0.0s\n",
            "[CV 2/5] END ...C=1, gamma=0.01, kernel=sigmoid;, score=0.667 total time=   0.0s\n",
            "[CV 3/5] END ...C=1, gamma=0.01, kernel=sigmoid;, score=0.714 total time=   0.0s\n",
            "[CV 4/5] END ...C=1, gamma=0.01, kernel=sigmoid;, score=0.714 total time=   0.0s\n",
            "[CV 5/5] END ...C=1, gamma=0.01, kernel=sigmoid;, score=0.714 total time=   0.0s\n",
            "[CV 1/5] END ......C=1, gamma=0.001, kernel=rbf;, score=0.667 total time=   0.0s\n",
            "[CV 2/5] END ......C=1, gamma=0.001, kernel=rbf;, score=0.667 total time=   0.0s\n",
            "[CV 3/5] END ......C=1, gamma=0.001, kernel=rbf;, score=0.714 total time=   0.0s\n",
            "[CV 4/5] END ......C=1, gamma=0.001, kernel=rbf;, score=0.714 total time=   0.0s\n",
            "[CV 5/5] END ......C=1, gamma=0.001, kernel=rbf;, score=0.714 total time=   0.0s\n",
            "[CV 1/5] END .....C=1, gamma=0.001, kernel=poly;, score=0.381 total time=   0.0s\n",
            "[CV 2/5] END .....C=1, gamma=0.001, kernel=poly;, score=0.333 total time=   0.0s\n",
            "[CV 3/5] END .....C=1, gamma=0.001, kernel=poly;, score=0.381 total time=   0.0s\n",
            "[CV 4/5] END .....C=1, gamma=0.001, kernel=poly;, score=0.381 total time=   0.0s\n",
            "[CV 5/5] END .....C=1, gamma=0.001, kernel=poly;, score=0.381 total time=   0.0s\n",
            "[CV 1/5] END ..C=1, gamma=0.001, kernel=sigmoid;, score=0.381 total time=   0.0s\n",
            "[CV 2/5] END ..C=1, gamma=0.001, kernel=sigmoid;, score=0.333 total time=   0.0s\n",
            "[CV 3/5] END ..C=1, gamma=0.001, kernel=sigmoid;, score=0.381 total time=   0.0s\n",
            "[CV 4/5] END ..C=1, gamma=0.001, kernel=sigmoid;, score=0.381 total time=   0.0s\n",
            "[CV 5/5] END ..C=1, gamma=0.001, kernel=sigmoid;, score=0.381 total time=   0.0s\n",
            "[CV 1/5] END .........C=10, gamma=1, kernel=rbf;, score=0.857 total time=   0.0s\n",
            "[CV 2/5] END .........C=10, gamma=1, kernel=rbf;, score=1.000 total time=   0.0s\n",
            "[CV 3/5] END .........C=10, gamma=1, kernel=rbf;, score=1.000 total time=   0.0s\n",
            "[CV 4/5] END .........C=10, gamma=1, kernel=rbf;, score=0.857 total time=   0.0s\n",
            "[CV 5/5] END .........C=10, gamma=1, kernel=rbf;, score=0.952 total time=   0.0s\n",
            "[CV 1/5] END ........C=10, gamma=1, kernel=poly;, score=0.952 total time=   0.0s\n",
            "[CV 2/5] END ........C=10, gamma=1, kernel=poly;, score=1.000 total time=   0.0s\n",
            "[CV 3/5] END ........C=10, gamma=1, kernel=poly;, score=1.000 total time=   0.0s\n",
            "[CV 4/5] END ........C=10, gamma=1, kernel=poly;, score=0.905 total time=   0.0s\n",
            "[CV 5/5] END ........C=10, gamma=1, kernel=poly;, score=0.952 total time=   0.0s\n",
            "[CV 1/5] END .....C=10, gamma=1, kernel=sigmoid;, score=0.381 total time=   0.0s\n",
            "[CV 2/5] END .....C=10, gamma=1, kernel=sigmoid;, score=0.333 total time=   0.0s\n",
            "[CV 3/5] END .....C=10, gamma=1, kernel=sigmoid;, score=0.381 total time=   0.0s\n",
            "[CV 4/5] END .....C=10, gamma=1, kernel=sigmoid;, score=0.381 total time=   0.0s\n",
            "[CV 5/5] END .....C=10, gamma=1, kernel=sigmoid;, score=0.381 total time=   0.0s\n",
            "[CV 1/5] END .......C=10, gamma=0.1, kernel=rbf;, score=1.000 total time=   0.0s\n",
            "[CV 2/5] END .......C=10, gamma=0.1, kernel=rbf;, score=1.000 total time=   0.0s\n",
            "[CV 3/5] END .......C=10, gamma=0.1, kernel=rbf;, score=1.000 total time=   0.0s\n",
            "[CV 4/5] END .......C=10, gamma=0.1, kernel=rbf;, score=0.952 total time=   0.0s\n",
            "[CV 5/5] END .......C=10, gamma=0.1, kernel=rbf;, score=0.952 total time=   0.0s\n",
            "[CV 1/5] END ......C=10, gamma=0.1, kernel=poly;, score=0.905 total time=   0.0s\n",
            "[CV 2/5] END ......C=10, gamma=0.1, kernel=poly;, score=1.000 total time=   0.0s\n",
            "[CV 3/5] END ......C=10, gamma=0.1, kernel=poly;, score=1.000 total time=   0.0s\n",
            "[CV 4/5] END ......C=10, gamma=0.1, kernel=poly;, score=0.905 total time=   0.0s\n",
            "[CV 5/5] END ......C=10, gamma=0.1, kernel=poly;, score=0.952 total time=   0.0s\n",
            "[CV 1/5] END ...C=10, gamma=0.1, kernel=sigmoid;, score=0.381 total time=   0.0s\n",
            "[CV 2/5] END ...C=10, gamma=0.1, kernel=sigmoid;, score=0.333 total time=   0.0s\n",
            "[CV 3/5] END ...C=10, gamma=0.1, kernel=sigmoid;, score=0.381 total time=   0.0s\n",
            "[CV 4/5] END ...C=10, gamma=0.1, kernel=sigmoid;, score=0.381 total time=   0.0s\n",
            "[CV 5/5] END ...C=10, gamma=0.1, kernel=sigmoid;, score=0.381 total time=   0.0s\n",
            "[CV 1/5] END ......C=10, gamma=0.01, kernel=rbf;, score=0.952 total time=   0.0s\n",
            "[CV 2/5] END ......C=10, gamma=0.01, kernel=rbf;, score=1.000 total time=   0.0s\n",
            "[CV 3/5] END ......C=10, gamma=0.01, kernel=rbf;, score=1.000 total time=   0.0s\n",
            "[CV 4/5] END ......C=10, gamma=0.01, kernel=rbf;, score=0.905 total time=   0.0s\n",
            "[CV 5/5] END ......C=10, gamma=0.01, kernel=rbf;, score=0.952 total time=   0.0s\n",
            "[CV 1/5] END .....C=10, gamma=0.01, kernel=poly;, score=0.905 total time=   0.0s\n",
            "[CV 2/5] END .....C=10, gamma=0.01, kernel=poly;, score=1.000 total time=   0.0s\n",
            "[CV 3/5] END .....C=10, gamma=0.01, kernel=poly;, score=1.000 total time=   0.0s\n",
            "[CV 4/5] END .....C=10, gamma=0.01, kernel=poly;, score=0.952 total time=   0.0s\n",
            "[CV 5/5] END .....C=10, gamma=0.01, kernel=poly;, score=1.000 total time=   0.0s\n",
            "[CV 1/5] END ..C=10, gamma=0.01, kernel=sigmoid;, score=0.857 total time=   0.0s\n",
            "[CV 2/5] END ..C=10, gamma=0.01, kernel=sigmoid;, score=0.857 total time=   0.0s\n",
            "[CV 3/5] END ..C=10, gamma=0.01, kernel=sigmoid;, score=0.952 total time=   0.0s\n",
            "[CV 4/5] END ..C=10, gamma=0.01, kernel=sigmoid;, score=0.857 total time=   0.0s\n",
            "[CV 5/5] END ..C=10, gamma=0.01, kernel=sigmoid;, score=0.857 total time=   0.0s\n",
            "[CV 1/5] END .....C=10, gamma=0.001, kernel=rbf;, score=0.857 total time=   0.0s\n",
            "[CV 2/5] END .....C=10, gamma=0.001, kernel=rbf;, score=0.952 total time=   0.0s\n",
            "[CV 3/5] END .....C=10, gamma=0.001, kernel=rbf;, score=1.000 total time=   0.0s\n",
            "[CV 4/5] END .....C=10, gamma=0.001, kernel=rbf;, score=0.905 total time=   0.0s\n",
            "[CV 5/5] END .....C=10, gamma=0.001, kernel=rbf;, score=0.905 total time=   0.0s\n",
            "[CV 1/5] END ....C=10, gamma=0.001, kernel=poly;, score=0.381 total time=   0.0s\n",
            "[CV 2/5] END ....C=10, gamma=0.001, kernel=poly;, score=0.333 total time=   0.0s\n",
            "[CV 3/5] END ....C=10, gamma=0.001, kernel=poly;, score=0.381 total time=   0.0s\n",
            "[CV 4/5] END ....C=10, gamma=0.001, kernel=poly;, score=0.381 total time=   0.0s\n",
            "[CV 5/5] END ....C=10, gamma=0.001, kernel=poly;, score=0.381 total time=   0.0s\n",
            "[CV 1/5] END .C=10, gamma=0.001, kernel=sigmoid;, score=0.857 total time=   0.0s\n",
            "[CV 2/5] END .C=10, gamma=0.001, kernel=sigmoid;, score=0.762 total time=   0.0s\n",
            "[CV 3/5] END .C=10, gamma=0.001, kernel=sigmoid;, score=0.857 total time=   0.0s\n",
            "[CV 4/5] END .C=10, gamma=0.001, kernel=sigmoid;, score=0.762 total time=   0.0s\n",
            "[CV 5/5] END .C=10, gamma=0.001, kernel=sigmoid;, score=0.857 total time=   0.0s\n",
            "[CV 1/5] END ........C=100, gamma=1, kernel=rbf;, score=0.857 total time=   0.0s\n",
            "[CV 2/5] END ........C=100, gamma=1, kernel=rbf;, score=1.000 total time=   0.0s\n",
            "[CV 3/5] END ........C=100, gamma=1, kernel=rbf;, score=1.000 total time=   0.0s\n",
            "[CV 4/5] END ........C=100, gamma=1, kernel=rbf;, score=0.857 total time=   0.0s\n",
            "[CV 5/5] END ........C=100, gamma=1, kernel=rbf;, score=0.952 total time=   0.0s\n",
            "[CV 1/5] END .......C=100, gamma=1, kernel=poly;, score=0.952 total time=   0.0s\n",
            "[CV 2/5] END .......C=100, gamma=1, kernel=poly;, score=1.000 total time=   0.0s\n",
            "[CV 3/5] END .......C=100, gamma=1, kernel=poly;, score=1.000 total time=   0.0s\n",
            "[CV 4/5] END .......C=100, gamma=1, kernel=poly;, score=0.905 total time=   0.0s\n",
            "[CV 5/5] END .......C=100, gamma=1, kernel=poly;, score=0.952 total time=   0.0s\n",
            "[CV 1/5] END ....C=100, gamma=1, kernel=sigmoid;, score=0.381 total time=   0.0s\n",
            "[CV 2/5] END ....C=100, gamma=1, kernel=sigmoid;, score=0.333 total time=   0.0s\n",
            "[CV 3/5] END ....C=100, gamma=1, kernel=sigmoid;, score=0.381 total time=   0.0s\n",
            "[CV 4/5] END ....C=100, gamma=1, kernel=sigmoid;, score=0.381 total time=   0.0s\n",
            "[CV 5/5] END ....C=100, gamma=1, kernel=sigmoid;, score=0.381 total time=   0.0s\n",
            "[CV 1/5] END ......C=100, gamma=0.1, kernel=rbf;, score=0.952 total time=   0.0s\n",
            "[CV 2/5] END ......C=100, gamma=0.1, kernel=rbf;, score=1.000 total time=   0.0s\n",
            "[CV 3/5] END ......C=100, gamma=0.1, kernel=rbf;, score=1.000 total time=   0.0s\n",
            "[CV 4/5] END ......C=100, gamma=0.1, kernel=rbf;, score=0.857 total time=   0.0s\n",
            "[CV 5/5] END ......C=100, gamma=0.1, kernel=rbf;, score=0.952 total time=   0.0s\n",
            "[CV 1/5] END .....C=100, gamma=0.1, kernel=poly;, score=0.952 total time=   0.0s\n",
            "[CV 2/5] END .....C=100, gamma=0.1, kernel=poly;, score=1.000 total time=   0.0s\n",
            "[CV 3/5] END .....C=100, gamma=0.1, kernel=poly;, score=1.000 total time=   0.0s\n",
            "[CV 4/5] END .....C=100, gamma=0.1, kernel=poly;, score=0.905 total time=   0.0s\n",
            "[CV 5/5] END .....C=100, gamma=0.1, kernel=poly;, score=0.952 total time=   0.0s\n",
            "[CV 1/5] END ..C=100, gamma=0.1, kernel=sigmoid;, score=0.381 total time=   0.0s\n",
            "[CV 2/5] END ..C=100, gamma=0.1, kernel=sigmoid;, score=0.333 total time=   0.0s\n",
            "[CV 3/5] END ..C=100, gamma=0.1, kernel=sigmoid;, score=0.381 total time=   0.0s\n",
            "[CV 4/5] END ..C=100, gamma=0.1, kernel=sigmoid;, score=0.381 total time=   0.0s\n",
            "[CV 5/5] END ..C=100, gamma=0.1, kernel=sigmoid;, score=0.381 total time=   0.0s\n",
            "[CV 1/5] END .....C=100, gamma=0.01, kernel=rbf;, score=1.000 total time=   0.0s\n",
            "[CV 2/5] END .....C=100, gamma=0.01, kernel=rbf;, score=1.000 total time=   0.0s\n",
            "[CV 3/5] END .....C=100, gamma=0.01, kernel=rbf;, score=1.000 total time=   0.0s\n",
            "[CV 4/5] END .....C=100, gamma=0.01, kernel=rbf;, score=0.952 total time=   0.0s\n",
            "[CV 5/5] END .....C=100, gamma=0.01, kernel=rbf;, score=0.952 total time=   0.0s\n",
            "[CV 1/5] END ....C=100, gamma=0.01, kernel=poly;, score=0.857 total time=   0.0s\n",
            "[CV 2/5] END ....C=100, gamma=0.01, kernel=poly;, score=1.000 total time=   0.0s\n",
            "[CV 3/5] END ....C=100, gamma=0.01, kernel=poly;, score=1.000 total time=   0.0s\n",
            "[CV 4/5] END ....C=100, gamma=0.01, kernel=poly;, score=0.952 total time=   0.0s\n",
            "[CV 5/5] END ....C=100, gamma=0.01, kernel=poly;, score=0.952 total time=   0.0s\n",
            "[CV 1/5] END .C=100, gamma=0.01, kernel=sigmoid;, score=0.857 total time=   0.0s\n",
            "[CV 2/5] END .C=100, gamma=0.01, kernel=sigmoid;, score=0.810 total time=   0.0s\n",
            "[CV 3/5] END .C=100, gamma=0.01, kernel=sigmoid;, score=0.905 total time=   0.0s\n",
            "[CV 4/5] END .C=100, gamma=0.01, kernel=sigmoid;, score=0.714 total time=   0.0s\n",
            "[CV 5/5] END .C=100, gamma=0.01, kernel=sigmoid;, score=0.810 total time=   0.0s\n",
            "[CV 1/5] END ....C=100, gamma=0.001, kernel=rbf;, score=0.952 total time=   0.0s\n",
            "[CV 2/5] END ....C=100, gamma=0.001, kernel=rbf;, score=1.000 total time=   0.0s\n",
            "[CV 3/5] END ....C=100, gamma=0.001, kernel=rbf;, score=1.000 total time=   0.0s\n",
            "[CV 4/5] END ....C=100, gamma=0.001, kernel=rbf;, score=0.905 total time=   0.0s\n",
            "[CV 5/5] END ....C=100, gamma=0.001, kernel=rbf;, score=0.952 total time=   0.0s\n",
            "[CV 1/5] END ...C=100, gamma=0.001, kernel=poly;, score=0.476 total time=   0.0s\n",
            "[CV 2/5] END ...C=100, gamma=0.001, kernel=poly;, score=0.619 total time=   0.0s\n",
            "[CV 3/5] END ...C=100, gamma=0.001, kernel=poly;, score=0.667 total time=   0.0s\n",
            "[CV 4/5] END ...C=100, gamma=0.001, kernel=poly;, score=0.714 total time=   0.0s\n",
            "[CV 5/5] END ...C=100, gamma=0.001, kernel=poly;, score=0.667 total time=   0.0s\n",
            "[CV 1/5] END C=100, gamma=0.001, kernel=sigmoid;, score=0.905 total time=   0.0s\n",
            "[CV 2/5] END C=100, gamma=0.001, kernel=sigmoid;, score=1.000 total time=   0.0s\n",
            "[CV 3/5] END C=100, gamma=0.001, kernel=sigmoid;, score=1.000 total time=   0.0s\n",
            "[CV 4/5] END C=100, gamma=0.001, kernel=sigmoid;, score=0.905 total time=   0.0s\n",
            "[CV 5/5] END C=100, gamma=0.001, kernel=sigmoid;, score=1.000 total time=   0.0s\n",
            "Best parameters: {'C': 10, 'gamma': 0.1, 'kernel': 'rbf'}\n",
            "Best cross-validation score: 0.980952380952381\n",
            "Accuracy of the tuned SVM classifier: 0.9777777777777777\n"
          ]
        }
      ]
    },
    {
      "cell_type": "markdown",
      "source": [
        "###QUES.32 Write a Python program to train an SVM Classifier on an imbalanced dataset and apply class weighting and check it improve accuracy."
      ],
      "metadata": {
        "id": "3c5v_PhKEfGX"
      }
    },
    {
      "cell_type": "code",
      "source": [
        "\n",
        "\n",
        "from sklearn.model_selection import train_test_split\n",
        "from sklearn.svm import SVC\n",
        "from sklearn.metrics import accuracy_score\n",
        "from sklearn.datasets import make_classification\n",
        "import numpy as np\n",
        "\n",
        "# Generate an imbalanced dataset\n",
        "X, y = make_classification(n_samples=1000, n_features=2, n_informative=2,\n",
        "                           n_redundant=0, n_repeated=0, n_classes=2,\n",
        "                           n_clusters_per_class=1, weights=[0.9, 0.1],\n",
        "                           flip_y=0, random_state=42)\n",
        "\n",
        "# Split the data\n",
        "X_train, X_test, y_train, y_test = train_test_split(X, y, test_size=0.2, random_state=42)\n",
        "\n",
        "# Train an SVM without class weights\n",
        "svm_no_weights = SVC()\n",
        "svm_no_weights.fit(X_train, y_train)\n",
        "y_pred_no_weights = svm_no_weights.predict(X_test)\n",
        "accuracy_no_weights = accuracy_score(y_test, y_pred_no_weights)\n",
        "print(f\"Accuracy (without class weights): {accuracy_no_weights}\")\n",
        "\n",
        "# Calculate class weights (inverse of class frequencies)\n",
        "class_weights = {0: 1, 1: 10}  # Adjust weights as needed, experiment with different values\n",
        "\n",
        "# Train an SVM with class weights\n",
        "svm_with_weights = SVC(class_weight=class_weights)\n",
        "svm_with_weights.fit(X_train, y_train)\n",
        "y_pred_with_weights = svm_with_weights.predict(X_test)\n",
        "accuracy_with_weights = accuracy_score(y_test, y_pred_with_weights)\n",
        "print(f\"Accuracy (with class weights): {accuracy_with_weights}\")\n"
      ],
      "metadata": {
        "colab": {
          "base_uri": "https://localhost:8080/"
        },
        "id": "YuhlQrunHzyS",
        "outputId": "d47266a7-26bd-4f48-b666-254dde3124a7"
      },
      "execution_count": 22,
      "outputs": [
        {
          "output_type": "stream",
          "name": "stdout",
          "text": [
            "Accuracy (without class weights): 0.975\n",
            "Accuracy (with class weights): 0.985\n"
          ]
        }
      ]
    },
    {
      "cell_type": "markdown",
      "source": [
        "###QUES.33 Write a Python program to implement a Naïve Bayes classifier for spam detection using email data."
      ],
      "metadata": {
        "id": "Y_dIggbqEw6U"
      }
    },
    {
      "cell_type": "code",
      "source": [
        "\n",
        "\n",
        "from sklearn.feature_extraction.text import TfidfVectorizer\n",
        "from sklearn.naive_bayes import MultinomialNB\n",
        "from sklearn.model_selection import train_test_split\n",
        "from sklearn.metrics import accuracy_score, classification_report\n",
        "import pandas as pd\n",
        "\n",
        "# Sample email data (replace with your actual dataset)\n",
        "data = {\n",
        "    'email': [\n",
        "        'Free Viagra now!',\n",
        "        'Hi, how are you?',\n",
        "        'Congratulations! You won a prize!',\n",
        "        'Meeting tomorrow at 10am.',\n",
        "        'Get rich quick!',\n",
        "        'Check out our latest product!',\n",
        "        'Your order has been shipped.',\n",
        "    ],\n",
        "    'spam': [1, 0, 1, 0, 1, 1, 0]\n",
        "}\n",
        "df = pd.DataFrame(data)\n",
        "\n",
        "\n",
        "# Split data into training and testing sets\n",
        "X_train, X_test, y_train, y_test = train_test_split(\n",
        "    df['email'], df['spam'], test_size=0.2, random_state=42\n",
        ")\n",
        "\n",
        "# Create TF-IDF vectorizer\n",
        "vectorizer = TfidfVectorizer()\n",
        "X_train_vec = vectorizer.fit_transform(X_train)\n",
        "X_test_vec = vectorizer.transform(X_test)\n",
        "\n",
        "# Train Multinomial Naive Bayes classifier\n",
        "classifier = MultinomialNB()\n",
        "classifier.fit(X_train_vec, y_train)\n",
        "\n",
        "# Make predictions\n",
        "y_pred = classifier.predict(X_test_vec)\n",
        "\n",
        "# Evaluate the classifier\n",
        "accuracy = accuracy_score(y_test, y_pred)\n",
        "print(f\"Accuracy: {accuracy}\")\n",
        "print(classification_report(y_test, y_pred))\n"
      ],
      "metadata": {
        "id": "M9uJSaivnqPw",
        "outputId": "4ebcdafe-08d8-4eef-d496-327c6b8f9aa7",
        "colab": {
          "base_uri": "https://localhost:8080/"
        }
      },
      "execution_count": 21,
      "outputs": [
        {
          "output_type": "stream",
          "name": "stdout",
          "text": [
            "Accuracy: 0.5\n",
            "              precision    recall  f1-score   support\n",
            "\n",
            "           0       0.00      0.00      0.00         1\n",
            "           1       0.50      1.00      0.67         1\n",
            "\n",
            "    accuracy                           0.50         2\n",
            "   macro avg       0.25      0.50      0.33         2\n",
            "weighted avg       0.25      0.50      0.33         2\n",
            "\n"
          ]
        },
        {
          "output_type": "stream",
          "name": "stderr",
          "text": [
            "/usr/local/lib/python3.11/dist-packages/sklearn/metrics/_classification.py:1565: UndefinedMetricWarning: Precision is ill-defined and being set to 0.0 in labels with no predicted samples. Use `zero_division` parameter to control this behavior.\n",
            "  _warn_prf(average, modifier, f\"{metric.capitalize()} is\", len(result))\n",
            "/usr/local/lib/python3.11/dist-packages/sklearn/metrics/_classification.py:1565: UndefinedMetricWarning: Precision is ill-defined and being set to 0.0 in labels with no predicted samples. Use `zero_division` parameter to control this behavior.\n",
            "  _warn_prf(average, modifier, f\"{metric.capitalize()} is\", len(result))\n",
            "/usr/local/lib/python3.11/dist-packages/sklearn/metrics/_classification.py:1565: UndefinedMetricWarning: Precision is ill-defined and being set to 0.0 in labels with no predicted samples. Use `zero_division` parameter to control this behavior.\n",
            "  _warn_prf(average, modifier, f\"{metric.capitalize()} is\", len(result))\n"
          ]
        }
      ]
    },
    {
      "cell_type": "markdown",
      "source": [
        "###QUES.34 Write a Python program to train an SVM Classifier and a Naïve Bayes Classifier on the same dataset and Compare their accuracy."
      ],
      "metadata": {
        "id": "7o3okrO2E5dt"
      }
    },
    {
      "cell_type": "code",
      "source": [
        "# Import required libraries\n",
        "from sklearn import datasets\n",
        "from sklearn.model_selection import train_test_split\n",
        "from sklearn.svm import SVC\n",
        "from sklearn.naive_bayes import GaussianNB\n",
        "from sklearn.metrics import accuracy_score\n",
        "\n",
        "# Load the dataset (Iris dataset as an example)\n",
        "iris = datasets.load_iris()\n",
        "X = iris.data\n",
        "y = iris.target\n",
        "\n",
        "# Split the data into training and testing sets\n",
        "X_train, X_test, y_train, y_test = train_test_split(X, y, test_size=0.3, random_state=42)\n",
        "\n",
        "# Train the SVM Classifier\n",
        "svm_classifier = SVC(kernel='linear')  # Using a linear kernel for simplicity\n",
        "svm_classifier.fit(X_train, y_train)\n",
        "\n",
        "# Train the Naïve Bayes Classifier\n",
        "nb_classifier = GaussianNB()\n",
        "nb_classifier.fit(X_train, y_train)\n",
        "\n",
        "# Predict using both classifiers\n",
        "svm_pred = svm_classifier.predict(X_test)\n",
        "nb_pred = nb_classifier.predict(X_test)\n",
        "\n",
        "# Calculate the accuracy of both classifiers\n",
        "svm_accuracy = accuracy_score(y_test, svm_pred)\n",
        "nb_accuracy = accuracy_score(y_test, nb_pred)\n",
        "\n",
        "# Output the results\n",
        "print(f\"SVM Classifier Accuracy: {svm_accuracy:.4f}\")\n",
        "print(f\"Naïve Bayes Classifier Accuracy: {nb_accuracy:.4f}\")\n",
        "\n",
        "# Compare the accuracies\n",
        "if svm_accuracy > nb_accuracy:\n",
        "    print(\"SVM Classifier performed better.\")\n",
        "elif nb_accuracy > svm_accuracy:\n",
        "    print(\"Naïve Bayes Classifier performed better.\")\n",
        "else:\n",
        "    print(\"Both classifiers performed equally well.\")\n"
      ],
      "metadata": {
        "colab": {
          "base_uri": "https://localhost:8080/"
        },
        "id": "hb-87x-gJAxn",
        "outputId": "094c4bed-c644-4bcc-f170-9256f25b7bd5"
      },
      "execution_count": 20,
      "outputs": [
        {
          "output_type": "stream",
          "name": "stdout",
          "text": [
            "SVM Classifier Accuracy: 1.0000\n",
            "Naïve Bayes Classifier Accuracy: 0.9778\n",
            "SVM Classifier performed better.\n"
          ]
        }
      ]
    },
    {
      "cell_type": "markdown",
      "source": [
        "###QUES.35 Write a Python program to perform feature selection before training a Naïve Bayes classifier and compare Results.\n"
      ],
      "metadata": {
        "id": "WjLekY2WFGNx"
      }
    },
    {
      "cell_type": "code",
      "source": [
        "\n",
        "\n",
        "from sklearn.datasets import load_iris\n",
        "from sklearn.model_selection import train_test_split\n",
        "from sklearn.naive_bayes import GaussianNB\n",
        "from sklearn.metrics import accuracy_score\n",
        "from sklearn.feature_selection import SelectKBest, f_classif\n",
        "\n",
        "# Load the Iris dataset\n",
        "iris = load_iris()\n",
        "X, y = iris.data, iris.target\n",
        "\n",
        "# Split data into training and testing sets\n",
        "X_train, X_test, y_train, y_test = train_test_split(X, y, test_size=0.3, random_state=42)\n",
        "\n",
        "# --- Naïve Bayes without feature selection ---\n",
        "gnb = GaussianNB()\n",
        "gnb.fit(X_train, y_train)\n",
        "y_pred = gnb.predict(X_test)\n",
        "accuracy_no_selection = accuracy_score(y_test, y_pred)\n",
        "print(f\"Accuracy (without feature selection): {accuracy_no_selection}\")\n",
        "\n",
        "# --- Naïve Bayes with feature selection ---\n",
        "# Select the top 2 features based on ANOVA F-value\n",
        "selector = SelectKBest(f_classif, k=2)  # Experiment with different values of k\n",
        "X_train_selected = selector.fit_transform(X_train, y_train)\n",
        "X_test_selected = selector.transform(X_test)\n",
        "\n",
        "gnb_selected = GaussianNB()\n",
        "gnb_selected.fit(X_train_selected, y_train)\n",
        "y_pred_selected = gnb_selected.predict(X_test_selected)\n",
        "accuracy_with_selection = accuracy_score(y_test, y_pred_selected)\n",
        "print(f\"Accuracy (with feature selection): {accuracy_with_selection}\")\n",
        "\n",
        "# Compare results\n",
        "if accuracy_no_selection > accuracy_with_selection:\n",
        "    print(\"Naïve Bayes without feature selection performed better.\")\n",
        "elif accuracy_with_selection > accuracy_no_selection:\n",
        "    print(\"Naïve Bayes with feature selection performed better.\")\n",
        "else:\n",
        "    print(\"Both performed equally well.\")\n"
      ],
      "metadata": {
        "colab": {
          "base_uri": "https://localhost:8080/"
        },
        "id": "DDHN192YJPI0",
        "outputId": "51761971-d5b7-4005-bf2d-228cea627ba9"
      },
      "execution_count": 19,
      "outputs": [
        {
          "output_type": "stream",
          "name": "stdout",
          "text": [
            "Accuracy (without feature selection): 0.9777777777777777\n",
            "Accuracy (with feature selection): 1.0\n",
            "Naïve Bayes with feature selection performed better.\n"
          ]
        }
      ]
    },
    {
      "cell_type": "markdown",
      "source": [
        "###QUES.36  Write a Python program to train an SVM Classifier using One-vs-Rest (OvR) and One-vs-One (OvO) strategies on the Wine dataset and compare their accuracy."
      ],
      "metadata": {
        "id": "vl45ic3TFU0v"
      }
    },
    {
      "cell_type": "code",
      "source": [
        "\n",
        "\n",
        "from sklearn.svm import SVC\n",
        "from sklearn.multiclass import OneVsRestClassifier, OneVsOneClassifier\n",
        "from sklearn.model_selection import train_test_split\n",
        "from sklearn.metrics import accuracy_score\n",
        "from sklearn import datasets\n",
        "\n",
        "# Load the Wine dataset\n",
        "wine = datasets.load_wine()\n",
        "X = wine.data\n",
        "y = wine.target\n",
        "\n",
        "# Split the data into training and testing sets\n",
        "X_train, X_test, y_train, y_test = train_test_split(X, y, test_size=0.3, random_state=0)\n",
        "\n",
        "# One-vs-Rest (OvR)\n",
        "ovr_classifier = OneVsRestClassifier(SVC(kernel='linear')) # You can change the kernel if needed\n",
        "ovr_classifier.fit(X_train, y_train)\n",
        "ovr_predictions = ovr_classifier.predict(X_test)\n",
        "ovr_accuracy = accuracy_score(y_test, ovr_predictions)\n",
        "print(f\"One-vs-Rest Accuracy: {ovr_accuracy}\")\n",
        "\n",
        "# One-vs-One (OvO)\n",
        "ovo_classifier = OneVsOneClassifier(SVC(kernel='linear')) # You can change the kernel if needed\n",
        "ovo_classifier.fit(X_train, y_train)\n",
        "ovo_predictions = ovo_classifier.predict(X_test)\n",
        "ovo_accuracy = accuracy_score(y_test, ovo_predictions)\n",
        "print(f\"One-vs-One Accuracy: {ovo_accuracy}\")\n",
        "\n",
        "# Compare accuracies\n",
        "if ovr_accuracy > ovo_accuracy:\n",
        "    print(\"One-vs-Rest performed better.\")\n",
        "elif ovo_accuracy > ovr_accuracy:\n",
        "    print(\"One-vs-One performed better.\")\n",
        "else:\n",
        "    print(\"Both performed equally well.\")\n"
      ],
      "metadata": {
        "colab": {
          "base_uri": "https://localhost:8080/"
        },
        "id": "IPzpJDRAJbSZ",
        "outputId": "db14f67c-17e1-428a-b6af-4aef79774ea6"
      },
      "execution_count": 18,
      "outputs": [
        {
          "output_type": "stream",
          "name": "stdout",
          "text": [
            "One-vs-Rest Accuracy: 0.9814814814814815\n",
            "One-vs-One Accuracy: 0.9814814814814815\n",
            "Both performed equally well.\n"
          ]
        }
      ]
    },
    {
      "cell_type": "markdown",
      "source": [
        "###QUES.37 Write a Python program to train an SVM Classifier using Linear, Polynomial, and RBF kernels on the Breast Cancer dataset and compare their accuracy."
      ],
      "metadata": {
        "id": "BMQ4AV40Fiyr"
      }
    },
    {
      "cell_type": "code",
      "source": [
        "import numpy as np\n",
        "import pandas as pd\n",
        "from sklearn.model_selection import train_test_split\n",
        "from sklearn.svm import SVC\n",
        "from sklearn.datasets import load_breast_cancer\n",
        "from sklearn.metrics import accuracy_score\n",
        "\n",
        "# Load the Breast Cancer dataset\n",
        "data = load_breast_cancer()\n",
        "X = data.data\n",
        "y = data.target\n",
        "\n",
        "# Split the dataset into training and testing sets (80% train, 20% test)\n",
        "X_train, X_test, y_train, y_test = train_test_split(X, y, test_size=0.2, random_state=42)\n",
        "\n",
        "# Initialize SVM classifiers with different kernels\n",
        "svm_linear = SVC(kernel='linear')\n",
        "svm_poly = SVC(kernel='poly', degree=3)  # Polynomial kernel with degree 3\n",
        "svm_rbf = SVC(kernel='rbf')  # Radial Basis Function kernel\n",
        "\n",
        "# Train the classifiers\n",
        "svm_linear.fit(X_train, y_train)\n",
        "svm_poly.fit(X_train, y_train)\n",
        "svm_rbf.fit(X_train, y_train)\n",
        "\n",
        "# Make predictions\n",
        "y_pred_linear = svm\n"
      ],
      "metadata": {
        "id": "D5kbZB1ggynY"
      },
      "execution_count": 3,
      "outputs": []
    },
    {
      "cell_type": "markdown",
      "source": [
        "###QUES.38 Write a Python program to train an SVM Classifier using Stratified K-Fold Cross-Validation and compute the average accuracy."
      ],
      "metadata": {
        "id": "dIjUwSyOFt_o"
      }
    },
    {
      "cell_type": "code",
      "source": [
        "import numpy as np\n",
        "from sklearn.svm import SVC\n",
        "from sklearn.model_selection import StratifiedKFold\n",
        "from sklearn.datasets import load_breast_cancer\n",
        "from sklearn.metrics import accuracy_score\n",
        "\n",
        "# Load the Breast Cancer dataset\n",
        "data = load_breast_cancer()\n",
        "X = data.data\n",
        "y = data.target\n",
        "\n",
        "# Initialize Stratified K-Fold Cross-Validation (5 folds)\n",
        "kf = StratifiedKFold(n_splits=5, shuffle=True, random_state=42)\n",
        "\n",
        "# Initialize SVM classifier with RBF kernel\n",
        "svm_rbf = SVC(kernel='rbf', random_state=42)\n",
        "\n",
        "# List to store the accuracy of each fold\n",
        "accuracies = []\n",
        "\n",
        "# Stratified K-Fold Cross-Validation\n",
        "for train_index, test_index in kf.split(X, y):\n",
        "    # Split data into training and testing based on the current fold\n",
        "    X_train, X_test = X[train_index], X[test_index]\n",
        "    y_train, y_test = y[train_index], y[test_index]\n",
        "\n",
        "    # Train the SVM model on the current fold\n"
      ],
      "metadata": {
        "id": "X5pwiupehcuS"
      },
      "execution_count": 5,
      "outputs": []
    },
    {
      "cell_type": "markdown",
      "source": [
        "###QUES.39 Write a Python program to train a Naïve Bayes classifier using different prior probabilities and compare performance."
      ],
      "metadata": {
        "id": "6sy9RyXHF4bR"
      }
    },
    {
      "cell_type": "code",
      "source": [
        "\n",
        "\n",
        "from sklearn.naive_bayes import GaussianNB\n",
        "from sklearn.model_selection import train_test_split\n",
        "from sklearn.metrics import accuracy_score\n",
        "from sklearn.datasets import load_breast_cancer\n",
        "import numpy as np\n",
        "\n",
        "# Load the Breast Cancer dataset\n",
        "data = load_breast_cancer()\n",
        "X, y = data.data, data.target\n",
        "\n",
        "# Split data into training and testing sets\n",
        "X_train, X_test, y_train, y_test = train_test_split(X, y, test_size=0.2, random_state=42)\n",
        "\n",
        "# Define prior probabilities to test\n",
        "prior_probabilities = [\n",
        "    None,  # Default priors (calculated from the training data)\n",
        "    [0.2, 0.8],  # Example: Prior probability of class 0 is 0.2, class 1 is 0.8\n",
        "    [0.5, 0.5], # Example: equal prior probabilities\n",
        "    [0.8, 0.2]\n",
        "]\n",
        "\n",
        "for priors in prior_probabilities:\n",
        "    # Initialize and train the Gaussian Naïve Bayes classifier with different prior probabilities\n",
        "    gnb = GaussianNB(priors=priors)\n",
        "    gnb.fit(X_train, y_train)\n",
        "\n",
        "    # Make predictions on the test set\n",
        "    y_pred = gnb.predict(X_test)\n",
        "\n",
        "    # Evaluate the accuracy\n",
        "    accuracy = accuracy_score(y_test, y_pred)\n",
        "\n",
        "    if priors is None:\n",
        "        print(f\"Accuracy with default priors: {accuracy}\")\n",
        "    else:\n",
        "        print(f\"Accuracy with priors {priors}: {accuracy}\")\n"
      ],
      "metadata": {
        "id": "T8H3Q2Gbhu28",
        "outputId": "4a76678e-b22b-4050-9b34-4232657f3b37",
        "colab": {
          "base_uri": "https://localhost:8080/"
        }
      },
      "execution_count": 6,
      "outputs": [
        {
          "output_type": "stream",
          "name": "stdout",
          "text": [
            "Accuracy with default priors: 0.9736842105263158\n",
            "Accuracy with priors [0.2, 0.8]: 0.9649122807017544\n",
            "Accuracy with priors [0.5, 0.5]: 0.9736842105263158\n",
            "Accuracy with priors [0.8, 0.2]: 0.9649122807017544\n"
          ]
        }
      ]
    },
    {
      "cell_type": "markdown",
      "source": [
        "###QUES.40 Write a Python program to perform Recursive Feature Elimination (RFE) before training an SVM Classifier and compare accuracy."
      ],
      "metadata": {
        "id": "ksdvaAbPGAsu"
      }
    },
    {
      "cell_type": "code",
      "source": [
        "\n",
        "\n",
        "from sklearn.feature_selection import RFE\n",
        "\n",
        "# Load the Breast Cancer dataset\n",
        "data = load_breast_cancer()\n",
        "X = data.data\n",
        "y = data.target\n",
        "\n",
        "# Split data into training and testing sets\n",
        "X_train, X_test, y_train, y_test = train_test_split(X, y, test_size=0.2, random_state=42)\n",
        "\n",
        "# --- SVM without RFE ---\n",
        "svm = SVC()\n",
        "svm.fit(X_train, y_train)\n",
        "y_pred = svm.predict(X_test)\n",
        "accuracy_no_rfe = accuracy_score(y_test, y_pred)\n",
        "print(f\"Accuracy (without RFE): {accuracy_no_rfe}\")\n",
        "\n",
        "# --- SVM with RFE ---\n",
        "estimator = SVC(kernel='linear') # You can experiment with different kernels\n",
        "selector = RFE(estimator, n_features_to_select=10, step=1) # Select top 10 features\n",
        "X_train_rfe = selector.fit_transform(X_train, y_train)\n",
        "X_test_rfe = selector.transform(X_test)\n",
        "\n",
        "svm_rfe = SVC()\n",
        "svm_rfe.fit(X_train_rfe, y_train)\n",
        "y_pred_rfe = svm_rfe.predict(X_test_rfe)\n",
        "accuracy_with_rfe = accuracy_score(y_test, y_pred_rfe)\n",
        "print(f\"Accuracy (with RFE): {accuracy_with_rfe}\")\n",
        "\n",
        "# Compare results\n",
        "if accuracy_no_rfe > accuracy_with_rfe:\n",
        "    print(\"SVM without RFE performed better.\")\n",
        "elif accuracy_with_rfe > accuracy_no_rfe:\n",
        "    print(\"SVM with RFE performed better.\")\n",
        "else:\n",
        "    print(\"Both performed equally well.\")\n"
      ],
      "metadata": {
        "id": "l81khUaOh7D2",
        "outputId": "8985422e-7ccd-4f8a-c12f-3909dad019ca",
        "colab": {
          "base_uri": "https://localhost:8080/"
        }
      },
      "execution_count": 7,
      "outputs": [
        {
          "output_type": "stream",
          "name": "stdout",
          "text": [
            "Accuracy (without RFE): 0.9473684210526315\n",
            "Accuracy (with RFE): 0.9473684210526315\n",
            "Both performed equally well.\n"
          ]
        }
      ]
    },
    {
      "cell_type": "markdown",
      "source": [
        "###QUES.41 Write a Python program to train an SVM Classifier and evaluate its performance using Precision, Recall, and F1-Score instead of accuracy."
      ],
      "metadata": {
        "id": "9xOlwTpGGR0Z"
      }
    },
    {
      "cell_type": "code",
      "source": [
        "\n",
        "\n",
        "from sklearn.metrics import precision_score, recall_score, f1_score\n",
        "# ... (Your existing code) ...\n",
        "\n",
        "# Train the SVM Classifier (example using the Iris dataset)\n",
        "svm_classifier = SVC(kernel='linear')\n",
        "svm_classifier.fit(X_train, y_train)\n",
        "svm_pred = svm_classifier.predict(X_test)\n",
        "\n",
        "# Calculate precision, recall, and F1-score\n",
        "precision = precision_score(y_test, svm_pred, average='weighted') # Use 'macro', 'micro' or 'weighted' as needed\n",
        "recall = recall_score(y_test, svm_pred, average='weighted')\n",
        "f1 = f1_score(y_test, svm_pred, average='weighted')\n",
        "\n",
        "print(f\"SVM Classifier Precision: {precision:.4f}\")\n",
        "print(f\"SVM Classifier Recall: {recall:.4f}\")\n",
        "print(f\"SVM Classifier F1-Score: {f1:.4f}\")\n"
      ],
      "metadata": {
        "id": "nGqZq0CJiIcJ",
        "outputId": "d538727f-80d5-40de-8f3e-73da6b78482b",
        "colab": {
          "base_uri": "https://localhost:8080/"
        }
      },
      "execution_count": 8,
      "outputs": [
        {
          "output_type": "stream",
          "name": "stdout",
          "text": [
            "SVM Classifier Precision: 0.9569\n",
            "SVM Classifier Recall: 0.9561\n",
            "SVM Classifier F1-Score: 0.9558\n"
          ]
        }
      ]
    },
    {
      "cell_type": "markdown",
      "source": [
        "###QUES.42 Write a Python program to train a Naïve Bayes Classifier and evaluate its performance using Log Loss (Cross-Entropy Loss).\n"
      ],
      "metadata": {
        "id": "4AL0qILOGeZC"
      }
    },
    {
      "cell_type": "code",
      "source": [
        "\n",
        "\n",
        "from sklearn.naive_bayes import GaussianNB\n",
        "from sklearn.metrics import log_loss\n",
        "from sklearn.model_selection import train_test_split\n",
        "from sklearn.datasets import load_breast_cancer\n",
        "\n",
        "# Load the Breast Cancer dataset\n",
        "data = load_breast_cancer()\n",
        "X, y = data.data, data.target\n",
        "\n",
        "# Split data into training and testing sets\n",
        "X_train, X_test, y_train, y_test = train_test_split(X, y, test_size=0.2, random_state=42)\n",
        "\n",
        "# Initialize and train the Gaussian Naïve Bayes classifier\n",
        "gnb = GaussianNB()\n",
        "gnb.fit(X_train, y_train)\n",
        "\n",
        "# Make probability predictions on the test set\n",
        "y_pred_proba = gnb.predict_proba(X_test)\n",
        "\n",
        "# Calculate the log loss (cross-entropy loss)\n",
        "logloss = log_loss(y_test, y_pred_proba)\n",
        "\n",
        "print(f\"Log Loss (Cross-Entropy Loss): {logloss}\")\n"
      ],
      "metadata": {
        "id": "1V_cwesEiTM-",
        "outputId": "9f3bea49-440d-4a9d-eab6-ab48c588884d",
        "colab": {
          "base_uri": "https://localhost:8080/"
        }
      },
      "execution_count": 9,
      "outputs": [
        {
          "output_type": "stream",
          "name": "stdout",
          "text": [
            "Log Loss (Cross-Entropy Loss): 0.20373427152141899\n"
          ]
        }
      ]
    },
    {
      "cell_type": "markdown",
      "source": [
        "###QUES.43 Write a Python program to train an SVM Classifier and visualize the Confusion Matrix using seaborn.\n"
      ],
      "metadata": {
        "id": "qbGajmtlGpgS"
      }
    },
    {
      "cell_type": "code",
      "source": [
        "import numpy as np\n",
        "import seaborn as sns\n",
        "import matplotlib.pyplot as plt\n",
        "from sklearn.svm import SVC\n",
        "from sklearn.datasets import load_breast_cancer\n",
        "from sklearn.model_selection import train_test_split\n",
        "from sklearn.metrics import confusion_matrix\n",
        "\n",
        "# Load the Breast Cancer dataset\n",
        "data = load_breast_cancer()\n",
        "X = data.data\n",
        "y = data.target\n",
        "\n",
        "# Split the data into training and testing sets (80% train, 20% test)\n",
        "X_train, X_test, y_train, y_test = train_test_split(X, y, test_size=0.2, random_state=42)\n",
        "\n",
        "# Initialize the SVM classifier with a linear kernel\n",
        "svm_classifier = SVC(kernel='linear', random_state=42)\n",
        "\n",
        "# Train the SVM model\n",
        "svm_classifier.fit(X_train, y_train)\n",
        "\n",
        "# Make predictions on the test set\n",
        "y_pred = svm_classifier.predict(X_test)\n",
        "\n",
        "# Compute the confusion matrix\n",
        "cm = confusion_matrix(y_test, y_pred)\n",
        "\n",
        "# Plot the confusion matrix using Seaborn\n",
        "plt.figure(figsize=(8, 6))\n",
        "sns.heatmap(cm, annot=True, fmt='d', cmap='Blues', xticklabels=['Benign', 'Malignant'], yticklabels=['Benign', 'Malignant'])\n",
        "plt.title('Confusion Matrix for SVM Classifier')\n",
        "plt.xlabel('Predicted Label')\n",
        "plt.ylabel('True Label')\n",
        "plt.show()\n"
      ],
      "metadata": {
        "id": "vnIoLfBfm8bq",
        "outputId": "23e62b6c-911a-4eac-a3ec-28988641ab60",
        "colab": {
          "base_uri": "https://localhost:8080/",
          "height": 564
        }
      },
      "execution_count": 16,
      "outputs": [
        {
          "output_type": "display_data",
          "data": {
            "text/plain": [
              "<Figure size 800x600 with 2 Axes>"
            ],
            "image/png": "[encoded data removed]"
          },
          "metadata": {}
        }
      ]
    },
    {
      "cell_type": "markdown",
      "source": [
        "###QUES.44 Write a Python program to train an SVM Regressor (SVR) and evaluate its performance using Mean Absolute Error (MAE) instead of MSE."
      ],
      "metadata": {
        "id": "6fOReHWrG2Hl"
      }
    },
    {
      "cell_type": "code",
      "source": [
        "import numpy as np\n",
        "from sklearn.svm import SVR\n",
        "from sklearn.datasets import fetch_california_housing\n",
        "from sklearn.model_selection import train_test_split\n",
        "from sklearn.metrics import mean_absolute_error\n",
        "\n",
        "# Load the California housing dataset\n",
        "data = fetch_california_housing()\n",
        "X = data.data\n",
        "y = data.target\n",
        "\n",
        "# Split the data into training and testing sets (80% train, 20% test)\n",
        "X_train, X_test, y_train, y_test = train_test_split(X, y, test_size=0.2, random_state=42)\n",
        "\n",
        "# Initialize the SVM Regressor (SVR) with an RBF kernel\n",
        "svr = SVR(kernel='rbf')\n",
        "\n",
        "# Train the SVR model on the training data\n",
        "svr.fit(X_train, y_train)\n",
        "\n",
        "# Make predictions on the test set\n",
        "y_pred = svr.predict(X_test)\n",
        "\n",
        "# Compute the Mean Absolute Error (MAE)\n",
        "mae = mean_absolute_error(y_test, y_pred)\n",
        "\n",
        "# Print the Mean Absolute Error\n",
        "print(f\"Mean Absolute Error (MAE): {mae:.4f}\")\n"
      ],
      "metadata": {
        "id": "akYeOQqvjd14",
        "outputId": "b6936df6-74d8-43c1-a021-e735fdffa547",
        "colab": {
          "base_uri": "https://localhost:8080/"
        }
      },
      "execution_count": 14,
      "outputs": [
        {
          "output_type": "stream",
          "name": "stdout",
          "text": [
            "Mean Absolute Error (MAE): 0.8600\n"
          ]
        }
      ]
    },
    {
      "cell_type": "markdown",
      "source": [
        "###QUES.45  Write a Python program to train a Naïve Bayes classifier and evaluate its performance using the ROC-AUC score."
      ],
      "metadata": {
        "id": "dxGdjxzuHGNz"
      }
    },
    {
      "cell_type": "code",
      "source": [
        "\n",
        "\n",
        "from sklearn.metrics import roc_auc_score\n",
        "\n",
        "# Load the Breast Cancer dataset (or any binary classification dataset)\n",
        "data = load_breast_cancer()\n",
        "X, y = data.data, data.target\n",
        "\n",
        "# Split data into training and testing sets\n",
        "X_train, X_test, y_train, y_test = train_test_split(X, y, test_size=0.2, random_state=42)\n",
        "\n",
        "# Initialize and train the Gaussian Naïve Bayes classifier\n",
        "gnb = GaussianNB()\n",
        "gnb.fit(X_train, y_train)\n",
        "\n",
        "# Make probability predictions on the test set\n",
        "y_pred_proba = gnb.predict_proba(X_test)[:, 1] # Probability of the positive class\n",
        "\n",
        "# Calculate the ROC-AUC score\n",
        "roc_auc = roc_auc_score(y_test, y_pred_proba)\n",
        "\n",
        "print(f\"ROC-AUC Score: {roc_auc}\")\n"
      ],
      "metadata": {
        "id": "_Xd6Mzqak_1X",
        "outputId": "26d14e73-9689-468a-9557-a983f984717f",
        "colab": {
          "base_uri": "https://localhost:8080/"
        }
      },
      "execution_count": 15,
      "outputs": [
        {
          "output_type": "stream",
          "name": "stdout",
          "text": [
            "ROC-AUC Score: 0.9983622666229938\n"
          ]
        }
      ]
    },
    {
      "cell_type": "markdown",
      "source": [
        "###QUES.46 Write a Python program to train an SVM Classifier and visualize the Precision-Recall Curve."
      ],
      "metadata": {
        "id": "Xq6hG4HfHZZg"
      }
    },
    {
      "cell_type": "code",
      "source": [
        "\n",
        "\n",
        "from sklearn.metrics import precision_recall_curve, auc\n",
        "from sklearn.model_selection import train_test_split\n",
        "from sklearn.svm import SVC\n",
        "import matplotlib.pyplot as plt\n",
        "\n",
        "# Load your dataset (replace with your actual data)\n",
        "# Example using the breast cancer dataset:\n",
        "from sklearn.datasets import load_breast_cancer\n",
        "data = load_breast_cancer()\n",
        "X = data.data\n",
        "y = data.target\n",
        "\n",
        "# Split the data into training and testing sets\n",
        "X_train, X_test, y_train, y_test = train_test_split(X, y, test_size=0.2, random_state=42)\n",
        "\n",
        "# Initialize and train an SVM classifier\n",
        "svm_classifier = SVC(kernel='linear', probability=True) # probability=True is crucial for predict_proba\n",
        "svm_classifier.fit(X_train, y_train)\n",
        "\n",
        "# Get predicted probabilities for the positive class\n",
        "y_scores = svm_classifier.predict_proba(X_test)[:, 1]\n",
        "\n",
        "# Calculate precision, recall, and thresholds\n",
        "precision, recall, thresholds = precision_recall_curve(y_test, y_scores)\n",
        "\n",
        "# Calculate the AUC (Area Under the Curve)\n",
        "pr_auc = auc(recall, precision)\n",
        "\n",
        "# Plot the Precision-Recall Curve\n",
        "plt.plot(recall, precision, label=f'Precision-Recall Curve (AUC = {pr_auc:.2f})')\n",
        "plt.xlabel('Recall')\n",
        "plt.ylabel('Precision')\n",
        "plt.title('Precision-Recall Curve')\n",
        "plt.legend(loc='lower left')\n",
        "plt.show()\n"
      ],
      "metadata": {
        "id": "QoZbf4Exw1qW",
        "outputId": "2cc7b271-5526-47d6-e43b-bcfa914a4228",
        "colab": {
          "base_uri": "https://localhost:8080/",
          "height": 472
        }
      },
      "execution_count": 37,
      "outputs": [
        {
          "output_type": "display_data",
          "data": {
            "text/plain": [
              "<Figure size 640x480 with 1 Axes>"
            ],
            "image/png": "[encoded data removed]"
          },
          "metadata": {}
        }
      ]
    },
    {
      "cell_type": "markdown",
      "source": [
        "#THE END"
      ],
      "metadata": {
        "id": "rRRWUZF2xBxH"
      }
    }
  ]
}